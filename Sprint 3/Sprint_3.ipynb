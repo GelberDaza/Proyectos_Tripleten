{
 "cells": [
  {
   "cell_type": "markdown",
   "metadata": {},
   "source": [
    "**Hola!**\n",
    "\n",
    "Mi nombre es Enrique Romero\n",
    "\n",
    "<div class=\"alert alert-danger\">\n",
    "<b>️⚠️  Comentario del revisor:</b> Esto destaca los comentarios más importantes. Sin su desarrollo, el proyecto no será aceptado. </div>\n",
    "\n",
    "<div class=\"alert alert-warning\">\n",
    "<b>⚠️ Comentario del revisor:</b> Así que los pequeños comentarios están resaltados. Se aceptan uno o dos comentarios de este tipo en el borrador, pero si hay más, deberá hacer las correcciones. Es como una tarea de prueba al solicitar un trabajo: muchos pequeños errores pueden hacer que un candidato sea rechazado.\n",
    "</div>\n",
    "\n",
    "<div class=\"alert alert-success\">\n",
    "<b>✔️ Comentario del revisor:</b> Así que destaco todos los demás comentarios.</div>\n",
    "\n",
    "<div class=\"alert alert-info\"> <b>Comentario del estudiante:</b> Por ejemplo, asi.</div>\n",
    "\n",
    "Todo esto ayudará a volver a revisar tu proyecto más rápido.\n"
   ]
  },
  {
   "cell_type": "markdown",
   "metadata": {
    "id": "3rYiDeEH0q0f"
   },
   "source": [
    "# ¿Cuál es la mejor tarifa?\n",
    "\n",
    "Trabajas como analista para el operador de telecomunicaciones Megaline. La empresa ofrece a sus clientes dos tarifas de prepago, Surf y Ultimate. El departamento comercial quiere saber cuál de las tarifas genera más ingresos para poder ajustar el presupuesto de publicidad.\n",
    "\n",
    "Vas a realizar un análisis preliminar de las tarifas basado en una selección de clientes relativamente pequeña. Tendrás los datos de 500 clientes de Megaline: quiénes son los clientes, de dónde son, qué tarifa usan, así como la cantidad de llamadas que hicieron y los mensajes de texto que enviaron en 2018. Tu trabajo es analizar el comportamiento de los clientes y determinar qué tarifa de prepago genera más ingresos."
   ]
  },
  {
   "cell_type": "markdown",
   "metadata": {
    "id": "VNddPNRQ0q0w"
   },
   "source": [
    "[Te proporcionamos algunos comentarios para orientarte mientras completas este proyecto. Pero debes asegurarte de eliminar todos los comentarios entre corchetes antes de entregar tu proyecto.]\n",
    "\n",
    "[Antes de sumergirte en el análisis de datos, explica por tu propia cuenta el propósito del proyecto y las acciones que planeas realizar.]\n",
    "\n",
    "[Ten en cuenta que estudiar, modificar y analizar datos es un proceso iterativo. Es normal volver a los pasos anteriores y corregirlos/ampliarlos para permitir nuevos pasos.]"
   ]
  },
  {
   "cell_type": "markdown",
   "metadata": {
    "id": "MQi4IPy70q0y"
   },
   "source": [
    "## Inicialización"
   ]
  },
  {
   "cell_type": "code",
   "execution_count": 1,
   "metadata": {
    "id": "MtYIuBxu0q0z"
   },
   "outputs": [],
   "source": [
    "# Cargar todas las librerías\n",
    "import pandas as pd\n",
    "import matplotlib.pyplot as plt\n",
    "import numpy as np\n",
    "import seaborn as ans\n",
    "import math\n",
    "import seaborn as sns\n",
    "from scipy import stats as st\n"
   ]
  },
  {
   "cell_type": "markdown",
   "metadata": {
    "id": "4ysWWC5i0q00"
   },
   "source": [
    "## Cargar datos"
   ]
  },
  {
   "cell_type": "code",
   "execution_count": 2,
   "metadata": {
    "id": "CCqPW7rS0q01"
   },
   "outputs": [],
   "source": [
    "# Carga los archivos de datos en diferentes DataFrames\n",
    "calls = pd.read_csv(\"/datasets/megaline_calls.csv\")\n",
    "internet = pd.read_csv(\"/datasets/megaline_internet.csv\")\n",
    "messages = pd.read_csv(\"/datasets/megaline_messages.csv\")\n",
    "plans = pd.read_csv(\"/datasets/megaline_plans.csv\")\n",
    "users = pd.read_csv(\"/datasets/megaline_users.csv\")"
   ]
  },
  {
   "cell_type": "markdown",
   "metadata": {
    "id": "69qqoJ3r0q01"
   },
   "source": [
    "## Preparar los datos"
   ]
  },
  {
   "cell_type": "markdown",
   "metadata": {
    "id": "vUuZw80S0q01"
   },
   "source": [
    "[Los datos para este proyecto se dividen en varias tablas. Explora cada una para tener una comprensión inicial de los datos. Si es necesario, haz las correcciones requeridas en cada tabla.]"
   ]
  },
  {
   "cell_type": "markdown",
   "metadata": {
    "id": "ohBhimvH0q01"
   },
   "source": [
    "## Tarifas"
   ]
  },
  {
   "cell_type": "code",
   "execution_count": 3,
   "metadata": {
    "id": "GptqP3Q40q02"
   },
   "outputs": [
    {
     "data": {
      "text/html": [
       "<div>\n",
       "<style scoped>\n",
       "    .dataframe tbody tr th:only-of-type {\n",
       "        vertical-align: middle;\n",
       "    }\n",
       "\n",
       "    .dataframe tbody tr th {\n",
       "        vertical-align: top;\n",
       "    }\n",
       "\n",
       "    .dataframe thead th {\n",
       "        text-align: right;\n",
       "    }\n",
       "</style>\n",
       "<table border=\"1\" class=\"dataframe\">\n",
       "  <thead>\n",
       "    <tr style=\"text-align: right;\">\n",
       "      <th></th>\n",
       "      <th>messages_included</th>\n",
       "      <th>mb_per_month_included</th>\n",
       "      <th>minutes_included</th>\n",
       "      <th>usd_monthly_pay</th>\n",
       "      <th>usd_per_gb</th>\n",
       "      <th>usd_per_message</th>\n",
       "      <th>usd_per_minute</th>\n",
       "      <th>plan_name</th>\n",
       "    </tr>\n",
       "  </thead>\n",
       "  <tbody>\n",
       "    <tr>\n",
       "      <th>0</th>\n",
       "      <td>50</td>\n",
       "      <td>15360</td>\n",
       "      <td>500</td>\n",
       "      <td>20</td>\n",
       "      <td>10</td>\n",
       "      <td>0.03</td>\n",
       "      <td>0.03</td>\n",
       "      <td>surf</td>\n",
       "    </tr>\n",
       "    <tr>\n",
       "      <th>1</th>\n",
       "      <td>1000</td>\n",
       "      <td>30720</td>\n",
       "      <td>3000</td>\n",
       "      <td>70</td>\n",
       "      <td>7</td>\n",
       "      <td>0.01</td>\n",
       "      <td>0.01</td>\n",
       "      <td>ultimate</td>\n",
       "    </tr>\n",
       "  </tbody>\n",
       "</table>\n",
       "</div>"
      ],
      "text/plain": [
       "   messages_included  mb_per_month_included  minutes_included  \\\n",
       "0                 50                  15360               500   \n",
       "1               1000                  30720              3000   \n",
       "\n",
       "   usd_monthly_pay  usd_per_gb  usd_per_message  usd_per_minute plan_name  \n",
       "0               20          10             0.03            0.03      surf  \n",
       "1               70           7             0.01            0.01  ultimate  "
      ]
     },
     "metadata": {},
     "output_type": "display_data"
    },
    {
     "name": "stdout",
     "output_type": "stream",
     "text": [
      "<class 'pandas.core.frame.DataFrame'>\n",
      "RangeIndex: 2 entries, 0 to 1\n",
      "Data columns (total 8 columns):\n",
      " #   Column                 Non-Null Count  Dtype  \n",
      "---  ------                 --------------  -----  \n",
      " 0   messages_included      2 non-null      int64  \n",
      " 1   mb_per_month_included  2 non-null      int64  \n",
      " 2   minutes_included       2 non-null      int64  \n",
      " 3   usd_monthly_pay        2 non-null      int64  \n",
      " 4   usd_per_gb             2 non-null      int64  \n",
      " 5   usd_per_message        2 non-null      float64\n",
      " 6   usd_per_minute         2 non-null      float64\n",
      " 7   plan_name              2 non-null      object \n",
      "dtypes: float64(2), int64(5), object(1)\n",
      "memory usage: 256.0+ bytes\n"
     ]
    }
   ],
   "source": [
    "# Imprime la información general/resumida sobre el DataFrame de las tarifas\n",
    "display(plans)\n",
    "plans.info()"
   ]
  },
  {
   "cell_type": "code",
   "execution_count": 4,
   "metadata": {
    "id": "64xzjwL70q02"
   },
   "outputs": [
    {
     "data": {
      "text/html": [
       "<div>\n",
       "<style scoped>\n",
       "    .dataframe tbody tr th:only-of-type {\n",
       "        vertical-align: middle;\n",
       "    }\n",
       "\n",
       "    .dataframe tbody tr th {\n",
       "        vertical-align: top;\n",
       "    }\n",
       "\n",
       "    .dataframe thead th {\n",
       "        text-align: right;\n",
       "    }\n",
       "</style>\n",
       "<table border=\"1\" class=\"dataframe\">\n",
       "  <thead>\n",
       "    <tr style=\"text-align: right;\">\n",
       "      <th></th>\n",
       "      <th>plan_name</th>\n",
       "      <th>usd_monthly_pay</th>\n",
       "      <th>mb_per_month_included</th>\n",
       "    </tr>\n",
       "  </thead>\n",
       "  <tbody>\n",
       "    <tr>\n",
       "      <th>0</th>\n",
       "      <td>surf</td>\n",
       "      <td>20</td>\n",
       "      <td>15360</td>\n",
       "    </tr>\n",
       "    <tr>\n",
       "      <th>1</th>\n",
       "      <td>ultimate</td>\n",
       "      <td>70</td>\n",
       "      <td>30720</td>\n",
       "    </tr>\n",
       "  </tbody>\n",
       "</table>\n",
       "</div>"
      ],
      "text/plain": [
       "  plan_name  usd_monthly_pay  mb_per_month_included\n",
       "0      surf               20                  15360\n",
       "1  ultimate               70                  30720"
      ]
     },
     "metadata": {},
     "output_type": "display_data"
    }
   ],
   "source": [
    "# Imprime una muestra de los datos para las tarifas\n",
    "display(plans[[\"plan_name\",\"usd_monthly_pay\", \"mb_per_month_included\"]])\n",
    "\n"
   ]
  },
  {
   "cell_type": "markdown",
   "metadata": {
    "id": "mEc_3_hs0q02"
   },
   "source": [
    "[Describe lo que ves y observas en la información general y en la muestra de datos impresa para el precio de datos anterior. ¿Hay algún problema (tipos de datos no adecuados, datos ausentes, etc.) que pudieran necesitar investigación y cambios adicionales? ¿Cómo se puede arreglar?]\n",
    "\n",
    "Veo que los datos corresponden a lo que se menciona en el ejercicio los precios y los paquetes estan tal cual lo que indica el proyecto:\n",
    "*Surf\n",
    "\n",
    "Pago mensual: 20$.\n",
    "500 minutos al mes, 50 SMS y 15 GB de datos.\n",
    "Si se exceden los límites del paquete:\n",
    "1 minuto: 3 centavos.\n",
    "1 SMS: 3 centavos.\n",
    "1 GB de datos: 10$.\n",
    "*Ultimate\n",
    "\n",
    "Pago mensual: 70$.\n",
    "3000 minutos al mes, 1000 SMS y 30 GB de datos.\n",
    "Si se exceden los límites del paquete:\n",
    "1 minuto: 1 centavo.\n",
    "1 SMS: 1 centavo.\n",
    "1 GB de datos: 7$.   \n",
    "\n",
    "los datos de MB estan bien ya que (1 GB = 1024 megabytes). El cambio que haria es cambiar de posicion la columna plan_name . ponerla de primeras, ya que veo que estando de ultimas se pierde un poco la informacion del tipo de plan Mobil.\n",
    "\n",
    "por otro lado viendo la informacion de las columnas veo que estan bien los tipos de datos que contienen . por ejmplo para los  float64 son decimales por eso estan asi."
   ]
  },
  {
   "cell_type": "markdown",
   "metadata": {
    "id": "R3C05i1l0q03"
   },
   "source": [
    "## Corregir datos"
   ]
  },
  {
   "cell_type": "markdown",
   "metadata": {
    "id": "bIi8StZI0q03"
   },
   "source": [
    "[Corrige los problemas obvios con los datos basándote en las observaciones iniciales.]"
   ]
  },
  {
   "cell_type": "code",
   "execution_count": 5,
   "metadata": {
    "id": "Y7SVmjGn0q03"
   },
   "outputs": [
    {
     "data": {
      "text/html": [
       "<div>\n",
       "<style scoped>\n",
       "    .dataframe tbody tr th:only-of-type {\n",
       "        vertical-align: middle;\n",
       "    }\n",
       "\n",
       "    .dataframe tbody tr th {\n",
       "        vertical-align: top;\n",
       "    }\n",
       "\n",
       "    .dataframe thead th {\n",
       "        text-align: right;\n",
       "    }\n",
       "</style>\n",
       "<table border=\"1\" class=\"dataframe\">\n",
       "  <thead>\n",
       "    <tr style=\"text-align: right;\">\n",
       "      <th></th>\n",
       "      <th>plan_name</th>\n",
       "      <th>messages_included</th>\n",
       "      <th>mb_per_month_included</th>\n",
       "      <th>minutes_included</th>\n",
       "      <th>usd_monthly_pay</th>\n",
       "      <th>usd_per_gb</th>\n",
       "      <th>usd_per_message</th>\n",
       "      <th>usd_per_minute</th>\n",
       "    </tr>\n",
       "  </thead>\n",
       "  <tbody>\n",
       "    <tr>\n",
       "      <th>0</th>\n",
       "      <td>surf</td>\n",
       "      <td>50</td>\n",
       "      <td>15360</td>\n",
       "      <td>500</td>\n",
       "      <td>20</td>\n",
       "      <td>10</td>\n",
       "      <td>0.03</td>\n",
       "      <td>0.03</td>\n",
       "    </tr>\n",
       "    <tr>\n",
       "      <th>1</th>\n",
       "      <td>ultimate</td>\n",
       "      <td>1000</td>\n",
       "      <td>30720</td>\n",
       "      <td>3000</td>\n",
       "      <td>70</td>\n",
       "      <td>7</td>\n",
       "      <td>0.01</td>\n",
       "      <td>0.01</td>\n",
       "    </tr>\n",
       "  </tbody>\n",
       "</table>\n",
       "</div>"
      ],
      "text/plain": [
       "  plan_name  messages_included  mb_per_month_included  minutes_included  \\\n",
       "0      surf                 50                  15360               500   \n",
       "1  ultimate               1000                  30720              3000   \n",
       "\n",
       "   usd_monthly_pay  usd_per_gb  usd_per_message  usd_per_minute  \n",
       "0               20          10             0.03            0.03  \n",
       "1               70           7             0.01            0.01  "
      ]
     },
     "metadata": {},
     "output_type": "display_data"
    }
   ],
   "source": [
    "plans= plans.reindex(columns=[\"plan_name\",\"messages_included\",\"mb_per_month_included\",\"minutes_included\",\"usd_monthly_pay\",\"usd_per_gb\",\"usd_per_message\",\"usd_per_minute\"])\n",
    "display(plans)"
   ]
  },
  {
   "cell_type": "markdown",
   "metadata": {
    "id": "LJir7bml0q03"
   },
   "source": [
    "## Enriquecer los datos"
   ]
  },
  {
   "cell_type": "markdown",
   "metadata": {
    "id": "eqADpCfg0q04"
   },
   "source": [
    "[Agrega factores adicionales a los datos si crees que pudieran ser útiles.]"
   ]
  },
  {
   "cell_type": "code",
   "execution_count": null,
   "metadata": {
    "id": "gfcIEuXV0q04"
   },
   "outputs": [],
   "source": []
  },
  {
   "cell_type": "markdown",
   "metadata": {
    "id": "1n2X6WXf0q04"
   },
   "source": [
    "## Usuarios/as"
   ]
  },
  {
   "cell_type": "code",
   "execution_count": 6,
   "metadata": {
    "id": "2NgjWFqx0q05"
   },
   "outputs": [
    {
     "data": {
      "text/html": [
       "<div>\n",
       "<style scoped>\n",
       "    .dataframe tbody tr th:only-of-type {\n",
       "        vertical-align: middle;\n",
       "    }\n",
       "\n",
       "    .dataframe tbody tr th {\n",
       "        vertical-align: top;\n",
       "    }\n",
       "\n",
       "    .dataframe thead th {\n",
       "        text-align: right;\n",
       "    }\n",
       "</style>\n",
       "<table border=\"1\" class=\"dataframe\">\n",
       "  <thead>\n",
       "    <tr style=\"text-align: right;\">\n",
       "      <th></th>\n",
       "      <th>user_id</th>\n",
       "      <th>first_name</th>\n",
       "      <th>last_name</th>\n",
       "      <th>age</th>\n",
       "      <th>city</th>\n",
       "      <th>reg_date</th>\n",
       "      <th>plan</th>\n",
       "      <th>churn_date</th>\n",
       "    </tr>\n",
       "  </thead>\n",
       "  <tbody>\n",
       "    <tr>\n",
       "      <th>0</th>\n",
       "      <td>1000</td>\n",
       "      <td>Anamaria</td>\n",
       "      <td>Bauer</td>\n",
       "      <td>45</td>\n",
       "      <td>Atlanta-Sandy Springs-Roswell, GA MSA</td>\n",
       "      <td>2018-12-24</td>\n",
       "      <td>ultimate</td>\n",
       "      <td>NaN</td>\n",
       "    </tr>\n",
       "    <tr>\n",
       "      <th>1</th>\n",
       "      <td>1001</td>\n",
       "      <td>Mickey</td>\n",
       "      <td>Wilkerson</td>\n",
       "      <td>28</td>\n",
       "      <td>Seattle-Tacoma-Bellevue, WA MSA</td>\n",
       "      <td>2018-08-13</td>\n",
       "      <td>surf</td>\n",
       "      <td>NaN</td>\n",
       "    </tr>\n",
       "    <tr>\n",
       "      <th>2</th>\n",
       "      <td>1002</td>\n",
       "      <td>Carlee</td>\n",
       "      <td>Hoffman</td>\n",
       "      <td>36</td>\n",
       "      <td>Las Vegas-Henderson-Paradise, NV MSA</td>\n",
       "      <td>2018-10-21</td>\n",
       "      <td>surf</td>\n",
       "      <td>NaN</td>\n",
       "    </tr>\n",
       "    <tr>\n",
       "      <th>3</th>\n",
       "      <td>1003</td>\n",
       "      <td>Reynaldo</td>\n",
       "      <td>Jenkins</td>\n",
       "      <td>52</td>\n",
       "      <td>Tulsa, OK MSA</td>\n",
       "      <td>2018-01-28</td>\n",
       "      <td>surf</td>\n",
       "      <td>NaN</td>\n",
       "    </tr>\n",
       "    <tr>\n",
       "      <th>4</th>\n",
       "      <td>1004</td>\n",
       "      <td>Leonila</td>\n",
       "      <td>Thompson</td>\n",
       "      <td>40</td>\n",
       "      <td>Seattle-Tacoma-Bellevue, WA MSA</td>\n",
       "      <td>2018-05-23</td>\n",
       "      <td>surf</td>\n",
       "      <td>NaN</td>\n",
       "    </tr>\n",
       "    <tr>\n",
       "      <th>5</th>\n",
       "      <td>1005</td>\n",
       "      <td>Livia</td>\n",
       "      <td>Shields</td>\n",
       "      <td>31</td>\n",
       "      <td>Dallas-Fort Worth-Arlington, TX MSA</td>\n",
       "      <td>2018-11-29</td>\n",
       "      <td>surf</td>\n",
       "      <td>NaN</td>\n",
       "    </tr>\n",
       "    <tr>\n",
       "      <th>6</th>\n",
       "      <td>1006</td>\n",
       "      <td>Jesusa</td>\n",
       "      <td>Bradford</td>\n",
       "      <td>73</td>\n",
       "      <td>San Francisco-Oakland-Berkeley, CA MSA</td>\n",
       "      <td>2018-11-27</td>\n",
       "      <td>ultimate</td>\n",
       "      <td>2018-12-18</td>\n",
       "    </tr>\n",
       "    <tr>\n",
       "      <th>7</th>\n",
       "      <td>1007</td>\n",
       "      <td>Eusebio</td>\n",
       "      <td>Welch</td>\n",
       "      <td>42</td>\n",
       "      <td>Grand Rapids-Kentwood, MI MSA</td>\n",
       "      <td>2018-07-11</td>\n",
       "      <td>surf</td>\n",
       "      <td>NaN</td>\n",
       "    </tr>\n",
       "    <tr>\n",
       "      <th>8</th>\n",
       "      <td>1008</td>\n",
       "      <td>Emely</td>\n",
       "      <td>Hoffman</td>\n",
       "      <td>53</td>\n",
       "      <td>Orlando-Kissimmee-Sanford, FL MSA</td>\n",
       "      <td>2018-08-03</td>\n",
       "      <td>ultimate</td>\n",
       "      <td>NaN</td>\n",
       "    </tr>\n",
       "    <tr>\n",
       "      <th>9</th>\n",
       "      <td>1009</td>\n",
       "      <td>Gerry</td>\n",
       "      <td>Little</td>\n",
       "      <td>19</td>\n",
       "      <td>San Jose-Sunnyvale-Santa Clara, CA MSA</td>\n",
       "      <td>2018-04-22</td>\n",
       "      <td>surf</td>\n",
       "      <td>NaN</td>\n",
       "    </tr>\n",
       "    <tr>\n",
       "      <th>10</th>\n",
       "      <td>1010</td>\n",
       "      <td>Wilber</td>\n",
       "      <td>Blair</td>\n",
       "      <td>52</td>\n",
       "      <td>Dallas-Fort Worth-Arlington, TX MSA</td>\n",
       "      <td>2018-03-09</td>\n",
       "      <td>surf</td>\n",
       "      <td>NaN</td>\n",
       "    </tr>\n",
       "    <tr>\n",
       "      <th>11</th>\n",
       "      <td>1011</td>\n",
       "      <td>Halina</td>\n",
       "      <td>Henry</td>\n",
       "      <td>73</td>\n",
       "      <td>Cleveland-Elyria, OH MSA</td>\n",
       "      <td>2018-01-18</td>\n",
       "      <td>ultimate</td>\n",
       "      <td>NaN</td>\n",
       "    </tr>\n",
       "    <tr>\n",
       "      <th>12</th>\n",
       "      <td>1012</td>\n",
       "      <td>Jonelle</td>\n",
       "      <td>Mcbride</td>\n",
       "      <td>59</td>\n",
       "      <td>Chicago-Naperville-Elgin, IL-IN-WI MSA</td>\n",
       "      <td>2018-06-28</td>\n",
       "      <td>surf</td>\n",
       "      <td>2018-11-16</td>\n",
       "    </tr>\n",
       "    <tr>\n",
       "      <th>13</th>\n",
       "      <td>1013</td>\n",
       "      <td>Nicolas</td>\n",
       "      <td>Snider</td>\n",
       "      <td>50</td>\n",
       "      <td>Knoxville, TN MSA</td>\n",
       "      <td>2018-12-01</td>\n",
       "      <td>ultimate</td>\n",
       "      <td>NaN</td>\n",
       "    </tr>\n",
       "    <tr>\n",
       "      <th>14</th>\n",
       "      <td>1014</td>\n",
       "      <td>Edmundo</td>\n",
       "      <td>Simon</td>\n",
       "      <td>61</td>\n",
       "      <td>New York-Newark-Jersey City, NY-NJ-PA MSA</td>\n",
       "      <td>2018-11-25</td>\n",
       "      <td>surf</td>\n",
       "      <td>NaN</td>\n",
       "    </tr>\n",
       "    <tr>\n",
       "      <th>15</th>\n",
       "      <td>1015</td>\n",
       "      <td>Beata</td>\n",
       "      <td>Carpenter</td>\n",
       "      <td>26</td>\n",
       "      <td>Pittsburgh, PA MSA</td>\n",
       "      <td>2018-12-05</td>\n",
       "      <td>surf</td>\n",
       "      <td>NaN</td>\n",
       "    </tr>\n",
       "    <tr>\n",
       "      <th>16</th>\n",
       "      <td>1016</td>\n",
       "      <td>Jann</td>\n",
       "      <td>Salinas</td>\n",
       "      <td>30</td>\n",
       "      <td>Fresno, CA MSA</td>\n",
       "      <td>2018-10-25</td>\n",
       "      <td>surf</td>\n",
       "      <td>NaN</td>\n",
       "    </tr>\n",
       "    <tr>\n",
       "      <th>17</th>\n",
       "      <td>1017</td>\n",
       "      <td>Boris</td>\n",
       "      <td>Gates</td>\n",
       "      <td>61</td>\n",
       "      <td>Washington-Arlington-Alexandria, DC-VA-MD-WV MSA</td>\n",
       "      <td>2018-08-26</td>\n",
       "      <td>surf</td>\n",
       "      <td>NaN</td>\n",
       "    </tr>\n",
       "    <tr>\n",
       "      <th>18</th>\n",
       "      <td>1018</td>\n",
       "      <td>Dennis</td>\n",
       "      <td>Grimes</td>\n",
       "      <td>70</td>\n",
       "      <td>Indianapolis-Carmel-Anderson, IN MSA</td>\n",
       "      <td>2018-10-17</td>\n",
       "      <td>surf</td>\n",
       "      <td>NaN</td>\n",
       "    </tr>\n",
       "    <tr>\n",
       "      <th>19</th>\n",
       "      <td>1019</td>\n",
       "      <td>Shizue</td>\n",
       "      <td>Landry</td>\n",
       "      <td>34</td>\n",
       "      <td>Jacksonville, FL MSA</td>\n",
       "      <td>2018-01-16</td>\n",
       "      <td>surf</td>\n",
       "      <td>NaN</td>\n",
       "    </tr>\n",
       "    <tr>\n",
       "      <th>20</th>\n",
       "      <td>1020</td>\n",
       "      <td>Rutha</td>\n",
       "      <td>Bell</td>\n",
       "      <td>56</td>\n",
       "      <td>Dallas-Fort Worth-Arlington, TX MSA</td>\n",
       "      <td>2018-11-08</td>\n",
       "      <td>surf</td>\n",
       "      <td>NaN</td>\n",
       "    </tr>\n",
       "    <tr>\n",
       "      <th>21</th>\n",
       "      <td>1021</td>\n",
       "      <td>Ricarda</td>\n",
       "      <td>Booker</td>\n",
       "      <td>37</td>\n",
       "      <td>Los Angeles-Long Beach-Anaheim, CA MSA</td>\n",
       "      <td>2018-12-21</td>\n",
       "      <td>surf</td>\n",
       "      <td>NaN</td>\n",
       "    </tr>\n",
       "    <tr>\n",
       "      <th>22</th>\n",
       "      <td>1022</td>\n",
       "      <td>Bo</td>\n",
       "      <td>Snow</td>\n",
       "      <td>73</td>\n",
       "      <td>New York-Newark-Jersey City, NY-NJ-PA MSA</td>\n",
       "      <td>2018-04-20</td>\n",
       "      <td>surf</td>\n",
       "      <td>2018-09-07</td>\n",
       "    </tr>\n",
       "    <tr>\n",
       "      <th>23</th>\n",
       "      <td>1023</td>\n",
       "      <td>Jack</td>\n",
       "      <td>Delaney</td>\n",
       "      <td>70</td>\n",
       "      <td>Omaha-Council Bluffs, NE-IA MSA</td>\n",
       "      <td>2018-07-06</td>\n",
       "      <td>surf</td>\n",
       "      <td>NaN</td>\n",
       "    </tr>\n",
       "    <tr>\n",
       "      <th>24</th>\n",
       "      <td>1024</td>\n",
       "      <td>Yuki</td>\n",
       "      <td>Tyson</td>\n",
       "      <td>74</td>\n",
       "      <td>New York-Newark-Jersey City, NY-NJ-PA MSA</td>\n",
       "      <td>2018-08-21</td>\n",
       "      <td>surf</td>\n",
       "      <td>NaN</td>\n",
       "    </tr>\n",
       "    <tr>\n",
       "      <th>25</th>\n",
       "      <td>1025</td>\n",
       "      <td>Jess</td>\n",
       "      <td>Wilkinson</td>\n",
       "      <td>64</td>\n",
       "      <td>Atlanta-Sandy Springs-Roswell, GA MSA</td>\n",
       "      <td>2018-10-28</td>\n",
       "      <td>ultimate</td>\n",
       "      <td>NaN</td>\n",
       "    </tr>\n",
       "    <tr>\n",
       "      <th>26</th>\n",
       "      <td>1026</td>\n",
       "      <td>Meggan</td>\n",
       "      <td>Hamilton</td>\n",
       "      <td>49</td>\n",
       "      <td>Houston-The Woodlands-Sugar Land, TX MSA</td>\n",
       "      <td>2018-07-20</td>\n",
       "      <td>ultimate</td>\n",
       "      <td>NaN</td>\n",
       "    </tr>\n",
       "    <tr>\n",
       "      <th>27</th>\n",
       "      <td>1027</td>\n",
       "      <td>Georgeanna</td>\n",
       "      <td>Cardenas</td>\n",
       "      <td>38</td>\n",
       "      <td>New York-Newark-Jersey City, NY-NJ-PA MSA</td>\n",
       "      <td>2018-06-26</td>\n",
       "      <td>surf</td>\n",
       "      <td>NaN</td>\n",
       "    </tr>\n",
       "    <tr>\n",
       "      <th>28</th>\n",
       "      <td>1028</td>\n",
       "      <td>Jefferey</td>\n",
       "      <td>Rasmussen</td>\n",
       "      <td>57</td>\n",
       "      <td>Philadelphia-Camden-Wilmington, PA-NJ-DE-MD MSA</td>\n",
       "      <td>2018-02-21</td>\n",
       "      <td>ultimate</td>\n",
       "      <td>NaN</td>\n",
       "    </tr>\n",
       "    <tr>\n",
       "      <th>29</th>\n",
       "      <td>1029</td>\n",
       "      <td>Franklyn</td>\n",
       "      <td>Henson</td>\n",
       "      <td>59</td>\n",
       "      <td>Tampa-St. Petersburg-Clearwater, FL MSA</td>\n",
       "      <td>2018-01-05</td>\n",
       "      <td>surf</td>\n",
       "      <td>NaN</td>\n",
       "    </tr>\n",
       "  </tbody>\n",
       "</table>\n",
       "</div>"
      ],
      "text/plain": [
       "    user_id  first_name  last_name  age  \\\n",
       "0      1000    Anamaria      Bauer   45   \n",
       "1      1001      Mickey  Wilkerson   28   \n",
       "2      1002      Carlee    Hoffman   36   \n",
       "3      1003    Reynaldo    Jenkins   52   \n",
       "4      1004     Leonila   Thompson   40   \n",
       "5      1005       Livia    Shields   31   \n",
       "6      1006      Jesusa   Bradford   73   \n",
       "7      1007     Eusebio      Welch   42   \n",
       "8      1008       Emely    Hoffman   53   \n",
       "9      1009       Gerry     Little   19   \n",
       "10     1010      Wilber      Blair   52   \n",
       "11     1011      Halina      Henry   73   \n",
       "12     1012     Jonelle    Mcbride   59   \n",
       "13     1013     Nicolas     Snider   50   \n",
       "14     1014     Edmundo      Simon   61   \n",
       "15     1015       Beata  Carpenter   26   \n",
       "16     1016        Jann    Salinas   30   \n",
       "17     1017       Boris      Gates   61   \n",
       "18     1018      Dennis     Grimes   70   \n",
       "19     1019      Shizue     Landry   34   \n",
       "20     1020       Rutha       Bell   56   \n",
       "21     1021     Ricarda     Booker   37   \n",
       "22     1022          Bo       Snow   73   \n",
       "23     1023        Jack    Delaney   70   \n",
       "24     1024        Yuki      Tyson   74   \n",
       "25     1025        Jess  Wilkinson   64   \n",
       "26     1026      Meggan   Hamilton   49   \n",
       "27     1027  Georgeanna   Cardenas   38   \n",
       "28     1028    Jefferey  Rasmussen   57   \n",
       "29     1029    Franklyn     Henson   59   \n",
       "\n",
       "                                                city    reg_date      plan  \\\n",
       "0              Atlanta-Sandy Springs-Roswell, GA MSA  2018-12-24  ultimate   \n",
       "1                    Seattle-Tacoma-Bellevue, WA MSA  2018-08-13      surf   \n",
       "2               Las Vegas-Henderson-Paradise, NV MSA  2018-10-21      surf   \n",
       "3                                      Tulsa, OK MSA  2018-01-28      surf   \n",
       "4                    Seattle-Tacoma-Bellevue, WA MSA  2018-05-23      surf   \n",
       "5                Dallas-Fort Worth-Arlington, TX MSA  2018-11-29      surf   \n",
       "6             San Francisco-Oakland-Berkeley, CA MSA  2018-11-27  ultimate   \n",
       "7                      Grand Rapids-Kentwood, MI MSA  2018-07-11      surf   \n",
       "8                  Orlando-Kissimmee-Sanford, FL MSA  2018-08-03  ultimate   \n",
       "9             San Jose-Sunnyvale-Santa Clara, CA MSA  2018-04-22      surf   \n",
       "10               Dallas-Fort Worth-Arlington, TX MSA  2018-03-09      surf   \n",
       "11                          Cleveland-Elyria, OH MSA  2018-01-18  ultimate   \n",
       "12            Chicago-Naperville-Elgin, IL-IN-WI MSA  2018-06-28      surf   \n",
       "13                                 Knoxville, TN MSA  2018-12-01  ultimate   \n",
       "14         New York-Newark-Jersey City, NY-NJ-PA MSA  2018-11-25      surf   \n",
       "15                                Pittsburgh, PA MSA  2018-12-05      surf   \n",
       "16                                    Fresno, CA MSA  2018-10-25      surf   \n",
       "17  Washington-Arlington-Alexandria, DC-VA-MD-WV MSA  2018-08-26      surf   \n",
       "18              Indianapolis-Carmel-Anderson, IN MSA  2018-10-17      surf   \n",
       "19                              Jacksonville, FL MSA  2018-01-16      surf   \n",
       "20               Dallas-Fort Worth-Arlington, TX MSA  2018-11-08      surf   \n",
       "21            Los Angeles-Long Beach-Anaheim, CA MSA  2018-12-21      surf   \n",
       "22         New York-Newark-Jersey City, NY-NJ-PA MSA  2018-04-20      surf   \n",
       "23                   Omaha-Council Bluffs, NE-IA MSA  2018-07-06      surf   \n",
       "24         New York-Newark-Jersey City, NY-NJ-PA MSA  2018-08-21      surf   \n",
       "25             Atlanta-Sandy Springs-Roswell, GA MSA  2018-10-28  ultimate   \n",
       "26          Houston-The Woodlands-Sugar Land, TX MSA  2018-07-20  ultimate   \n",
       "27         New York-Newark-Jersey City, NY-NJ-PA MSA  2018-06-26      surf   \n",
       "28   Philadelphia-Camden-Wilmington, PA-NJ-DE-MD MSA  2018-02-21  ultimate   \n",
       "29           Tampa-St. Petersburg-Clearwater, FL MSA  2018-01-05      surf   \n",
       "\n",
       "    churn_date  \n",
       "0          NaN  \n",
       "1          NaN  \n",
       "2          NaN  \n",
       "3          NaN  \n",
       "4          NaN  \n",
       "5          NaN  \n",
       "6   2018-12-18  \n",
       "7          NaN  \n",
       "8          NaN  \n",
       "9          NaN  \n",
       "10         NaN  \n",
       "11         NaN  \n",
       "12  2018-11-16  \n",
       "13         NaN  \n",
       "14         NaN  \n",
       "15         NaN  \n",
       "16         NaN  \n",
       "17         NaN  \n",
       "18         NaN  \n",
       "19         NaN  \n",
       "20         NaN  \n",
       "21         NaN  \n",
       "22  2018-09-07  \n",
       "23         NaN  \n",
       "24         NaN  \n",
       "25         NaN  \n",
       "26         NaN  \n",
       "27         NaN  \n",
       "28         NaN  \n",
       "29         NaN  "
      ]
     },
     "metadata": {},
     "output_type": "display_data"
    },
    {
     "name": "stdout",
     "output_type": "stream",
     "text": [
      "<class 'pandas.core.frame.DataFrame'>\n",
      "RangeIndex: 500 entries, 0 to 499\n",
      "Data columns (total 8 columns):\n",
      " #   Column      Non-Null Count  Dtype \n",
      "---  ------      --------------  ----- \n",
      " 0   user_id     500 non-null    int64 \n",
      " 1   first_name  500 non-null    object\n",
      " 2   last_name   500 non-null    object\n",
      " 3   age         500 non-null    int64 \n",
      " 4   city        500 non-null    object\n",
      " 5   reg_date    500 non-null    object\n",
      " 6   plan        500 non-null    object\n",
      " 7   churn_date  34 non-null     object\n",
      "dtypes: int64(2), object(6)\n",
      "memory usage: 31.4+ KB\n"
     ]
    },
    {
     "data": {
      "text/html": [
       "<div>\n",
       "<style scoped>\n",
       "    .dataframe tbody tr th:only-of-type {\n",
       "        vertical-align: middle;\n",
       "    }\n",
       "\n",
       "    .dataframe tbody tr th {\n",
       "        vertical-align: top;\n",
       "    }\n",
       "\n",
       "    .dataframe thead th {\n",
       "        text-align: right;\n",
       "    }\n",
       "</style>\n",
       "<table border=\"1\" class=\"dataframe\">\n",
       "  <thead>\n",
       "    <tr style=\"text-align: right;\">\n",
       "      <th></th>\n",
       "      <th>user_id</th>\n",
       "      <th>first_name</th>\n",
       "      <th>last_name</th>\n",
       "      <th>age</th>\n",
       "      <th>city</th>\n",
       "      <th>reg_date</th>\n",
       "      <th>plan</th>\n",
       "      <th>churn_date</th>\n",
       "    </tr>\n",
       "  </thead>\n",
       "  <tbody>\n",
       "  </tbody>\n",
       "</table>\n",
       "</div>"
      ],
      "text/plain": [
       "Empty DataFrame\n",
       "Columns: [user_id, first_name, last_name, age, city, reg_date, plan, churn_date]\n",
       "Index: []"
      ]
     },
     "execution_count": 6,
     "metadata": {},
     "output_type": "execute_result"
    }
   ],
   "source": [
    "# Imprime la información general/resumida sobre el DataFrame de usuarios\n",
    "display(users.head(30))\n",
    "users.info()\n",
    "users[users.duplicated()]"
   ]
  },
  {
   "cell_type": "code",
   "execution_count": 7,
   "metadata": {
    "id": "1IN1L9uh0q05"
   },
   "outputs": [
    {
     "data": {
      "text/html": [
       "<div>\n",
       "<style scoped>\n",
       "    .dataframe tbody tr th:only-of-type {\n",
       "        vertical-align: middle;\n",
       "    }\n",
       "\n",
       "    .dataframe tbody tr th {\n",
       "        vertical-align: top;\n",
       "    }\n",
       "\n",
       "    .dataframe thead th {\n",
       "        text-align: right;\n",
       "    }\n",
       "</style>\n",
       "<table border=\"1\" class=\"dataframe\">\n",
       "  <thead>\n",
       "    <tr style=\"text-align: right;\">\n",
       "      <th></th>\n",
       "      <th>user_id</th>\n",
       "      <th>first_name</th>\n",
       "      <th>last_name</th>\n",
       "      <th>age</th>\n",
       "      <th>city</th>\n",
       "      <th>reg_date</th>\n",
       "      <th>plan</th>\n",
       "      <th>churn_date</th>\n",
       "    </tr>\n",
       "  </thead>\n",
       "  <tbody>\n",
       "    <tr>\n",
       "      <th>0</th>\n",
       "      <td>1000</td>\n",
       "      <td>Anamaria</td>\n",
       "      <td>Bauer</td>\n",
       "      <td>45</td>\n",
       "      <td>Atlanta-Sandy Springs-Roswell, GA MSA</td>\n",
       "      <td>2018-12-24</td>\n",
       "      <td>ultimate</td>\n",
       "      <td>NaN</td>\n",
       "    </tr>\n",
       "    <tr>\n",
       "      <th>1</th>\n",
       "      <td>1001</td>\n",
       "      <td>Mickey</td>\n",
       "      <td>Wilkerson</td>\n",
       "      <td>28</td>\n",
       "      <td>Seattle-Tacoma-Bellevue, WA MSA</td>\n",
       "      <td>2018-08-13</td>\n",
       "      <td>surf</td>\n",
       "      <td>NaN</td>\n",
       "    </tr>\n",
       "    <tr>\n",
       "      <th>2</th>\n",
       "      <td>1002</td>\n",
       "      <td>Carlee</td>\n",
       "      <td>Hoffman</td>\n",
       "      <td>36</td>\n",
       "      <td>Las Vegas-Henderson-Paradise, NV MSA</td>\n",
       "      <td>2018-10-21</td>\n",
       "      <td>surf</td>\n",
       "      <td>NaN</td>\n",
       "    </tr>\n",
       "    <tr>\n",
       "      <th>3</th>\n",
       "      <td>1003</td>\n",
       "      <td>Reynaldo</td>\n",
       "      <td>Jenkins</td>\n",
       "      <td>52</td>\n",
       "      <td>Tulsa, OK MSA</td>\n",
       "      <td>2018-01-28</td>\n",
       "      <td>surf</td>\n",
       "      <td>NaN</td>\n",
       "    </tr>\n",
       "    <tr>\n",
       "      <th>4</th>\n",
       "      <td>1004</td>\n",
       "      <td>Leonila</td>\n",
       "      <td>Thompson</td>\n",
       "      <td>40</td>\n",
       "      <td>Seattle-Tacoma-Bellevue, WA MSA</td>\n",
       "      <td>2018-05-23</td>\n",
       "      <td>surf</td>\n",
       "      <td>NaN</td>\n",
       "    </tr>\n",
       "    <tr>\n",
       "      <th>...</th>\n",
       "      <td>...</td>\n",
       "      <td>...</td>\n",
       "      <td>...</td>\n",
       "      <td>...</td>\n",
       "      <td>...</td>\n",
       "      <td>...</td>\n",
       "      <td>...</td>\n",
       "      <td>...</td>\n",
       "    </tr>\n",
       "    <tr>\n",
       "      <th>495</th>\n",
       "      <td>1495</td>\n",
       "      <td>Fidel</td>\n",
       "      <td>Sharpe</td>\n",
       "      <td>67</td>\n",
       "      <td>New York-Newark-Jersey City, NY-NJ-PA MSA</td>\n",
       "      <td>2018-09-04</td>\n",
       "      <td>surf</td>\n",
       "      <td>NaN</td>\n",
       "    </tr>\n",
       "    <tr>\n",
       "      <th>496</th>\n",
       "      <td>1496</td>\n",
       "      <td>Ariel</td>\n",
       "      <td>Shepherd</td>\n",
       "      <td>49</td>\n",
       "      <td>New Orleans-Metairie, LA MSA</td>\n",
       "      <td>2018-02-20</td>\n",
       "      <td>surf</td>\n",
       "      <td>NaN</td>\n",
       "    </tr>\n",
       "    <tr>\n",
       "      <th>497</th>\n",
       "      <td>1497</td>\n",
       "      <td>Donte</td>\n",
       "      <td>Barrera</td>\n",
       "      <td>49</td>\n",
       "      <td>Los Angeles-Long Beach-Anaheim, CA MSA</td>\n",
       "      <td>2018-12-10</td>\n",
       "      <td>ultimate</td>\n",
       "      <td>NaN</td>\n",
       "    </tr>\n",
       "    <tr>\n",
       "      <th>498</th>\n",
       "      <td>1498</td>\n",
       "      <td>Scot</td>\n",
       "      <td>Williamson</td>\n",
       "      <td>51</td>\n",
       "      <td>New York-Newark-Jersey City, NY-NJ-PA MSA</td>\n",
       "      <td>2018-02-04</td>\n",
       "      <td>surf</td>\n",
       "      <td>NaN</td>\n",
       "    </tr>\n",
       "    <tr>\n",
       "      <th>499</th>\n",
       "      <td>1499</td>\n",
       "      <td>Shena</td>\n",
       "      <td>Dickson</td>\n",
       "      <td>37</td>\n",
       "      <td>Orlando-Kissimmee-Sanford, FL MSA</td>\n",
       "      <td>2018-05-06</td>\n",
       "      <td>surf</td>\n",
       "      <td>NaN</td>\n",
       "    </tr>\n",
       "  </tbody>\n",
       "</table>\n",
       "<p>466 rows × 8 columns</p>\n",
       "</div>"
      ],
      "text/plain": [
       "     user_id first_name   last_name  age  \\\n",
       "0       1000   Anamaria       Bauer   45   \n",
       "1       1001     Mickey   Wilkerson   28   \n",
       "2       1002     Carlee     Hoffman   36   \n",
       "3       1003   Reynaldo     Jenkins   52   \n",
       "4       1004    Leonila    Thompson   40   \n",
       "..       ...        ...         ...  ...   \n",
       "495     1495      Fidel      Sharpe   67   \n",
       "496     1496      Ariel    Shepherd   49   \n",
       "497     1497      Donte     Barrera   49   \n",
       "498     1498       Scot  Williamson   51   \n",
       "499     1499      Shena     Dickson   37   \n",
       "\n",
       "                                          city    reg_date      plan  \\\n",
       "0        Atlanta-Sandy Springs-Roswell, GA MSA  2018-12-24  ultimate   \n",
       "1              Seattle-Tacoma-Bellevue, WA MSA  2018-08-13      surf   \n",
       "2         Las Vegas-Henderson-Paradise, NV MSA  2018-10-21      surf   \n",
       "3                                Tulsa, OK MSA  2018-01-28      surf   \n",
       "4              Seattle-Tacoma-Bellevue, WA MSA  2018-05-23      surf   \n",
       "..                                         ...         ...       ...   \n",
       "495  New York-Newark-Jersey City, NY-NJ-PA MSA  2018-09-04      surf   \n",
       "496               New Orleans-Metairie, LA MSA  2018-02-20      surf   \n",
       "497     Los Angeles-Long Beach-Anaheim, CA MSA  2018-12-10  ultimate   \n",
       "498  New York-Newark-Jersey City, NY-NJ-PA MSA  2018-02-04      surf   \n",
       "499          Orlando-Kissimmee-Sanford, FL MSA  2018-05-06      surf   \n",
       "\n",
       "    churn_date  \n",
       "0          NaN  \n",
       "1          NaN  \n",
       "2          NaN  \n",
       "3          NaN  \n",
       "4          NaN  \n",
       "..         ...  \n",
       "495        NaN  \n",
       "496        NaN  \n",
       "497        NaN  \n",
       "498        NaN  \n",
       "499        NaN  \n",
       "\n",
       "[466 rows x 8 columns]"
      ]
     },
     "execution_count": 7,
     "metadata": {},
     "output_type": "execute_result"
    }
   ],
   "source": [
    "# Imprime una muestra de datos para usuarios\n",
    "users[users[\"churn_date\"].isna()]\n",
    "\n"
   ]
  },
  {
   "cell_type": "markdown",
   "metadata": {
    "id": "dCZoUq4f0q06"
   },
   "source": [
    "[Describe lo que ves y observas en la información general y en la muestra de datos impresa para el precio de datos anterior. ¿Hay algún problema (tipos de datos no adecuados, datos ausentes, etc.) que pudieran necesitar investigación y cambios adicionales? ¿Cómo se puede arreglar?]\n",
    "\n",
    "validando que en data frame users no hay datos o nombres duplicados. la unica inconsistencia que encontramos es que en la columna churn_date . la cual corresponde a la fecha en la cual algun usuario dejo de cancelar el servicio o se retiro, encontramos que 34 usuarios cuentan con fecha de cancelacion. lo cual podria afectar el analisis de datos ya que fueron usuarios que dejaron de tomar el servicio  y no estan activos actualemente.\n",
    "\n",
    "realizare un dataframe nuevo con nombre Users2 el cual contiene el tipo de plan que tiene cada usuario asignado, ya que este dato se requiere en el momento de hacer investigacion en uno de los ejercicios de mas abajo del proyecto.\n"
   ]
  },
  {
   "cell_type": "markdown",
   "metadata": {},
   "source": [
    "<div class=\"alert alert-success\">\n",
    "<b>✔️  Comentario del revisor:</b> Buen trabajo.</div>"
   ]
  },
  {
   "cell_type": "markdown",
   "metadata": {
    "id": "BX5FQh_I0q06"
   },
   "source": [
    "### Corregir los datos"
   ]
  },
  {
   "cell_type": "markdown",
   "metadata": {
    "id": "8OdKMwJv0q06"
   },
   "source": [
    "[Corrige los problemas obvios con los datos basándote en las observaciones iniciales.]"
   ]
  },
  {
   "cell_type": "code",
   "execution_count": 8,
   "metadata": {
    "id": "yUqX-K0C0q07"
   },
   "outputs": [
    {
     "data": {
      "text/html": [
       "<div>\n",
       "<style scoped>\n",
       "    .dataframe tbody tr th:only-of-type {\n",
       "        vertical-align: middle;\n",
       "    }\n",
       "\n",
       "    .dataframe tbody tr th {\n",
       "        vertical-align: top;\n",
       "    }\n",
       "\n",
       "    .dataframe thead th {\n",
       "        text-align: right;\n",
       "    }\n",
       "</style>\n",
       "<table border=\"1\" class=\"dataframe\">\n",
       "  <thead>\n",
       "    <tr style=\"text-align: right;\">\n",
       "      <th></th>\n",
       "      <th>user_id</th>\n",
       "      <th>plan</th>\n",
       "      <th>city</th>\n",
       "    </tr>\n",
       "  </thead>\n",
       "  <tbody>\n",
       "    <tr>\n",
       "      <th>0</th>\n",
       "      <td>1000</td>\n",
       "      <td>ultimate</td>\n",
       "      <td>Atlanta-Sandy Springs-Roswell, GA MSA</td>\n",
       "    </tr>\n",
       "    <tr>\n",
       "      <th>1</th>\n",
       "      <td>1001</td>\n",
       "      <td>surf</td>\n",
       "      <td>Seattle-Tacoma-Bellevue, WA MSA</td>\n",
       "    </tr>\n",
       "    <tr>\n",
       "      <th>2</th>\n",
       "      <td>1002</td>\n",
       "      <td>surf</td>\n",
       "      <td>Las Vegas-Henderson-Paradise, NV MSA</td>\n",
       "    </tr>\n",
       "    <tr>\n",
       "      <th>3</th>\n",
       "      <td>1003</td>\n",
       "      <td>surf</td>\n",
       "      <td>Tulsa, OK MSA</td>\n",
       "    </tr>\n",
       "    <tr>\n",
       "      <th>4</th>\n",
       "      <td>1004</td>\n",
       "      <td>surf</td>\n",
       "      <td>Seattle-Tacoma-Bellevue, WA MSA</td>\n",
       "    </tr>\n",
       "    <tr>\n",
       "      <th>...</th>\n",
       "      <td>...</td>\n",
       "      <td>...</td>\n",
       "      <td>...</td>\n",
       "    </tr>\n",
       "    <tr>\n",
       "      <th>495</th>\n",
       "      <td>1495</td>\n",
       "      <td>surf</td>\n",
       "      <td>New York-Newark-Jersey City, NY-NJ-PA MSA</td>\n",
       "    </tr>\n",
       "    <tr>\n",
       "      <th>496</th>\n",
       "      <td>1496</td>\n",
       "      <td>surf</td>\n",
       "      <td>New Orleans-Metairie, LA MSA</td>\n",
       "    </tr>\n",
       "    <tr>\n",
       "      <th>497</th>\n",
       "      <td>1497</td>\n",
       "      <td>ultimate</td>\n",
       "      <td>Los Angeles-Long Beach-Anaheim, CA MSA</td>\n",
       "    </tr>\n",
       "    <tr>\n",
       "      <th>498</th>\n",
       "      <td>1498</td>\n",
       "      <td>surf</td>\n",
       "      <td>New York-Newark-Jersey City, NY-NJ-PA MSA</td>\n",
       "    </tr>\n",
       "    <tr>\n",
       "      <th>499</th>\n",
       "      <td>1499</td>\n",
       "      <td>surf</td>\n",
       "      <td>Orlando-Kissimmee-Sanford, FL MSA</td>\n",
       "    </tr>\n",
       "  </tbody>\n",
       "</table>\n",
       "<p>500 rows × 3 columns</p>\n",
       "</div>"
      ],
      "text/plain": [
       "     user_id      plan                                       city\n",
       "0       1000  ultimate      Atlanta-Sandy Springs-Roswell, GA MSA\n",
       "1       1001      surf            Seattle-Tacoma-Bellevue, WA MSA\n",
       "2       1002      surf       Las Vegas-Henderson-Paradise, NV MSA\n",
       "3       1003      surf                              Tulsa, OK MSA\n",
       "4       1004      surf            Seattle-Tacoma-Bellevue, WA MSA\n",
       "..       ...       ...                                        ...\n",
       "495     1495      surf  New York-Newark-Jersey City, NY-NJ-PA MSA\n",
       "496     1496      surf               New Orleans-Metairie, LA MSA\n",
       "497     1497  ultimate     Los Angeles-Long Beach-Anaheim, CA MSA\n",
       "498     1498      surf  New York-Newark-Jersey City, NY-NJ-PA MSA\n",
       "499     1499      surf          Orlando-Kissimmee-Sanford, FL MSA\n",
       "\n",
       "[500 rows x 3 columns]"
      ]
     },
     "execution_count": 8,
     "metadata": {},
     "output_type": "execute_result"
    }
   ],
   "source": [
    "columnas=[\"user_id\",\"plan\",\"city\"]\n",
    "users2=users[[*columnas]]\n",
    "users2"
   ]
  },
  {
   "cell_type": "markdown",
   "metadata": {
    "id": "ycwuARJp0q07"
   },
   "source": [
    "### Enriquecer los datos"
   ]
  },
  {
   "cell_type": "markdown",
   "metadata": {
    "id": "96NIh4CJ0q08"
   },
   "source": [
    "[Agrega factores adicionales a los datos si crees que pudieran ser útiles.]"
   ]
  },
  {
   "cell_type": "code",
   "execution_count": null,
   "metadata": {
    "id": "iq0AaBS90q08"
   },
   "outputs": [],
   "source": []
  },
  {
   "cell_type": "markdown",
   "metadata": {
    "id": "o7MeKCid0q08"
   },
   "source": [
    "## Llamadas"
   ]
  },
  {
   "cell_type": "code",
   "execution_count": 9,
   "metadata": {
    "id": "6dDlnoDm0q08"
   },
   "outputs": [
    {
     "data": {
      "text/html": [
       "<div>\n",
       "<style scoped>\n",
       "    .dataframe tbody tr th:only-of-type {\n",
       "        vertical-align: middle;\n",
       "    }\n",
       "\n",
       "    .dataframe tbody tr th {\n",
       "        vertical-align: top;\n",
       "    }\n",
       "\n",
       "    .dataframe thead th {\n",
       "        text-align: right;\n",
       "    }\n",
       "</style>\n",
       "<table border=\"1\" class=\"dataframe\">\n",
       "  <thead>\n",
       "    <tr style=\"text-align: right;\">\n",
       "      <th></th>\n",
       "      <th>id</th>\n",
       "      <th>user_id</th>\n",
       "      <th>call_date</th>\n",
       "      <th>duration</th>\n",
       "    </tr>\n",
       "  </thead>\n",
       "  <tbody>\n",
       "    <tr>\n",
       "      <th>0</th>\n",
       "      <td>1000_93</td>\n",
       "      <td>1000</td>\n",
       "      <td>2018-12-27</td>\n",
       "      <td>8.52</td>\n",
       "    </tr>\n",
       "    <tr>\n",
       "      <th>1</th>\n",
       "      <td>1000_145</td>\n",
       "      <td>1000</td>\n",
       "      <td>2018-12-27</td>\n",
       "      <td>13.66</td>\n",
       "    </tr>\n",
       "    <tr>\n",
       "      <th>2</th>\n",
       "      <td>1000_247</td>\n",
       "      <td>1000</td>\n",
       "      <td>2018-12-27</td>\n",
       "      <td>14.48</td>\n",
       "    </tr>\n",
       "    <tr>\n",
       "      <th>3</th>\n",
       "      <td>1000_309</td>\n",
       "      <td>1000</td>\n",
       "      <td>2018-12-28</td>\n",
       "      <td>5.76</td>\n",
       "    </tr>\n",
       "    <tr>\n",
       "      <th>4</th>\n",
       "      <td>1000_380</td>\n",
       "      <td>1000</td>\n",
       "      <td>2018-12-30</td>\n",
       "      <td>4.22</td>\n",
       "    </tr>\n",
       "    <tr>\n",
       "      <th>...</th>\n",
       "      <td>...</td>\n",
       "      <td>...</td>\n",
       "      <td>...</td>\n",
       "      <td>...</td>\n",
       "    </tr>\n",
       "    <tr>\n",
       "      <th>137730</th>\n",
       "      <td>1499_199</td>\n",
       "      <td>1499</td>\n",
       "      <td>2018-11-21</td>\n",
       "      <td>8.72</td>\n",
       "    </tr>\n",
       "    <tr>\n",
       "      <th>137731</th>\n",
       "      <td>1499_200</td>\n",
       "      <td>1499</td>\n",
       "      <td>2018-10-20</td>\n",
       "      <td>10.89</td>\n",
       "    </tr>\n",
       "    <tr>\n",
       "      <th>137732</th>\n",
       "      <td>1499_201</td>\n",
       "      <td>1499</td>\n",
       "      <td>2018-09-21</td>\n",
       "      <td>8.12</td>\n",
       "    </tr>\n",
       "    <tr>\n",
       "      <th>137733</th>\n",
       "      <td>1499_202</td>\n",
       "      <td>1499</td>\n",
       "      <td>2018-10-10</td>\n",
       "      <td>0.37</td>\n",
       "    </tr>\n",
       "    <tr>\n",
       "      <th>137734</th>\n",
       "      <td>1499_203</td>\n",
       "      <td>1499</td>\n",
       "      <td>2018-12-29</td>\n",
       "      <td>13.86</td>\n",
       "    </tr>\n",
       "  </tbody>\n",
       "</table>\n",
       "<p>137735 rows × 4 columns</p>\n",
       "</div>"
      ],
      "text/plain": [
       "              id  user_id   call_date  duration\n",
       "0        1000_93     1000  2018-12-27      8.52\n",
       "1       1000_145     1000  2018-12-27     13.66\n",
       "2       1000_247     1000  2018-12-27     14.48\n",
       "3       1000_309     1000  2018-12-28      5.76\n",
       "4       1000_380     1000  2018-12-30      4.22\n",
       "...          ...      ...         ...       ...\n",
       "137730  1499_199     1499  2018-11-21      8.72\n",
       "137731  1499_200     1499  2018-10-20     10.89\n",
       "137732  1499_201     1499  2018-09-21      8.12\n",
       "137733  1499_202     1499  2018-10-10      0.37\n",
       "137734  1499_203     1499  2018-12-29     13.86\n",
       "\n",
       "[137735 rows x 4 columns]"
      ]
     },
     "metadata": {},
     "output_type": "display_data"
    },
    {
     "name": "stdout",
     "output_type": "stream",
     "text": [
      "<class 'pandas.core.frame.DataFrame'>\n",
      "RangeIndex: 137735 entries, 0 to 137734\n",
      "Data columns (total 4 columns):\n",
      " #   Column     Non-Null Count   Dtype  \n",
      "---  ------     --------------   -----  \n",
      " 0   id         137735 non-null  object \n",
      " 1   user_id    137735 non-null  int64  \n",
      " 2   call_date  137735 non-null  object \n",
      " 3   duration   137735 non-null  float64\n",
      "dtypes: float64(1), int64(1), object(2)\n",
      "memory usage: 4.2+ MB\n"
     ]
    },
    {
     "data": {
      "text/html": [
       "<div>\n",
       "<style scoped>\n",
       "    .dataframe tbody tr th:only-of-type {\n",
       "        vertical-align: middle;\n",
       "    }\n",
       "\n",
       "    .dataframe tbody tr th {\n",
       "        vertical-align: top;\n",
       "    }\n",
       "\n",
       "    .dataframe thead th {\n",
       "        text-align: right;\n",
       "    }\n",
       "</style>\n",
       "<table border=\"1\" class=\"dataframe\">\n",
       "  <thead>\n",
       "    <tr style=\"text-align: right;\">\n",
       "      <th></th>\n",
       "      <th>id</th>\n",
       "      <th>user_id</th>\n",
       "      <th>call_date</th>\n",
       "      <th>duration</th>\n",
       "    </tr>\n",
       "  </thead>\n",
       "  <tbody>\n",
       "  </tbody>\n",
       "</table>\n",
       "</div>"
      ],
      "text/plain": [
       "Empty DataFrame\n",
       "Columns: [id, user_id, call_date, duration]\n",
       "Index: []"
      ]
     },
     "execution_count": 9,
     "metadata": {},
     "output_type": "execute_result"
    }
   ],
   "source": [
    "# Imprime la información general/resumida sobre el DataFrame de las llamadas\n",
    "display(calls)\n",
    "calls.info()\n",
    "calls[calls.duplicated()]"
   ]
  },
  {
   "cell_type": "code",
   "execution_count": 10,
   "metadata": {
    "id": "kuh1vlNB0q09"
   },
   "outputs": [
    {
     "data": {
      "text/html": [
       "<div>\n",
       "<style scoped>\n",
       "    .dataframe tbody tr th:only-of-type {\n",
       "        vertical-align: middle;\n",
       "    }\n",
       "\n",
       "    .dataframe tbody tr th {\n",
       "        vertical-align: top;\n",
       "    }\n",
       "\n",
       "    .dataframe thead th {\n",
       "        text-align: right;\n",
       "    }\n",
       "</style>\n",
       "<table border=\"1\" class=\"dataframe\">\n",
       "  <thead>\n",
       "    <tr style=\"text-align: right;\">\n",
       "      <th></th>\n",
       "      <th>id</th>\n",
       "      <th>user_id</th>\n",
       "      <th>call_date</th>\n",
       "      <th>duration</th>\n",
       "    </tr>\n",
       "  </thead>\n",
       "  <tbody>\n",
       "    <tr>\n",
       "      <th>105502</th>\n",
       "      <td>1372_39</td>\n",
       "      <td>1372</td>\n",
       "      <td>2018-12-19</td>\n",
       "      <td>1.64</td>\n",
       "    </tr>\n",
       "    <tr>\n",
       "      <th>54954</th>\n",
       "      <td>1196_852</td>\n",
       "      <td>1196</td>\n",
       "      <td>2018-05-23</td>\n",
       "      <td>0.00</td>\n",
       "    </tr>\n",
       "    <tr>\n",
       "      <th>114328</th>\n",
       "      <td>1400_680</td>\n",
       "      <td>1400</td>\n",
       "      <td>2018-03-26</td>\n",
       "      <td>1.67</td>\n",
       "    </tr>\n",
       "    <tr>\n",
       "      <th>70518</th>\n",
       "      <td>1251_529</td>\n",
       "      <td>1251</td>\n",
       "      <td>2018-10-21</td>\n",
       "      <td>8.48</td>\n",
       "    </tr>\n",
       "    <tr>\n",
       "      <th>29234</th>\n",
       "      <td>1110_285</td>\n",
       "      <td>1110</td>\n",
       "      <td>2018-07-03</td>\n",
       "      <td>4.22</td>\n",
       "    </tr>\n",
       "    <tr>\n",
       "      <th>71264</th>\n",
       "      <td>1254_69</td>\n",
       "      <td>1254</td>\n",
       "      <td>2018-12-19</td>\n",
       "      <td>9.80</td>\n",
       "    </tr>\n",
       "    <tr>\n",
       "      <th>48792</th>\n",
       "      <td>1175_483</td>\n",
       "      <td>1175</td>\n",
       "      <td>2018-11-14</td>\n",
       "      <td>2.70</td>\n",
       "    </tr>\n",
       "    <tr>\n",
       "      <th>117814</th>\n",
       "      <td>1412_98</td>\n",
       "      <td>1412</td>\n",
       "      <td>2018-10-30</td>\n",
       "      <td>4.21</td>\n",
       "    </tr>\n",
       "    <tr>\n",
       "      <th>100547</th>\n",
       "      <td>1359_429</td>\n",
       "      <td>1359</td>\n",
       "      <td>2018-03-09</td>\n",
       "      <td>8.01</td>\n",
       "    </tr>\n",
       "    <tr>\n",
       "      <th>119068</th>\n",
       "      <td>1415_116</td>\n",
       "      <td>1415</td>\n",
       "      <td>2018-10-23</td>\n",
       "      <td>5.68</td>\n",
       "    </tr>\n",
       "  </tbody>\n",
       "</table>\n",
       "</div>"
      ],
      "text/plain": [
       "              id  user_id   call_date  duration\n",
       "105502   1372_39     1372  2018-12-19      1.64\n",
       "54954   1196_852     1196  2018-05-23      0.00\n",
       "114328  1400_680     1400  2018-03-26      1.67\n",
       "70518   1251_529     1251  2018-10-21      8.48\n",
       "29234   1110_285     1110  2018-07-03      4.22\n",
       "71264    1254_69     1254  2018-12-19      9.80\n",
       "48792   1175_483     1175  2018-11-14      2.70\n",
       "117814   1412_98     1412  2018-10-30      4.21\n",
       "100547  1359_429     1359  2018-03-09      8.01\n",
       "119068  1415_116     1415  2018-10-23      5.68"
      ]
     },
     "execution_count": 10,
     "metadata": {},
     "output_type": "execute_result"
    }
   ],
   "source": [
    "# Imprime una muestra de datos para las llamadas\n",
    "calls.sample(10) "
   ]
  },
  {
   "cell_type": "markdown",
   "metadata": {
    "id": "DOAxYJSx0q09"
   },
   "source": [
    "[Describe lo que ves y observas en la información general y en la muestra de datos impresa para el precio de datos anterior. ¿Hay algún problema (tipos de datos no adecuados, datos ausentes, etc.) que pudieran necesitar investigación y cambios adicionales? ¿Cómo se puede arreglar?]\n",
    "\n",
    "\n",
    "Podemos observar en Dt Calls el numero marcado, el usuario que realizo la llamada, la fecha y la duracion en minutos.\n",
    "El cambio que realizaria es en la columna Duration la cual esta en tipo float64. la modificaria por un dato entero ya que los datos son en minutos. si fuera en minutos y segundos depronto si aplicaria. pero al ser en minutos seria un entero.\n",
    "tambien la columna 'call_date' debe ser tipo de datos datetime ya que es una fecha, por tal razon se hace la correccion.\n",
    "\n",
    "se utiliza el metodo .apply(np.ceil) para la columna duration. con el fin de que aproxime los minutos al numero entero mas proximo y asi redonde los minutos\n",
    "\n",
    "por otro lado agregare una columna month la cual corresponde al mes de la llamada, ya que necesitaremos este mes para poder hacer una muestra de datos en los proximos ejercicios del proyecto."
   ]
  },
  {
   "cell_type": "markdown",
   "metadata": {
    "id": "S7hzxmbX0q0-"
   },
   "source": [
    "### Corregir los datos"
   ]
  },
  {
   "cell_type": "markdown",
   "metadata": {
    "id": "YxWyAjD20q0-"
   },
   "source": [
    "[Corrige los problemas obvios con los datos basándote en las observaciones iniciales.]\n"
   ]
  },
  {
   "cell_type": "code",
   "execution_count": 11,
   "metadata": {
    "id": "S2r8xA4f0q0-"
   },
   "outputs": [
    {
     "data": {
      "text/html": [
       "<div>\n",
       "<style scoped>\n",
       "    .dataframe tbody tr th:only-of-type {\n",
       "        vertical-align: middle;\n",
       "    }\n",
       "\n",
       "    .dataframe tbody tr th {\n",
       "        vertical-align: top;\n",
       "    }\n",
       "\n",
       "    .dataframe thead th {\n",
       "        text-align: right;\n",
       "    }\n",
       "</style>\n",
       "<table border=\"1\" class=\"dataframe\">\n",
       "  <thead>\n",
       "    <tr style=\"text-align: right;\">\n",
       "      <th></th>\n",
       "      <th>id</th>\n",
       "      <th>user_id</th>\n",
       "      <th>call_date</th>\n",
       "      <th>duration</th>\n",
       "    </tr>\n",
       "  </thead>\n",
       "  <tbody>\n",
       "    <tr>\n",
       "      <th>134863</th>\n",
       "      <td>1489_191</td>\n",
       "      <td>1489</td>\n",
       "      <td>2018-09-19</td>\n",
       "      <td>15</td>\n",
       "    </tr>\n",
       "    <tr>\n",
       "      <th>23471</th>\n",
       "      <td>1085_263</td>\n",
       "      <td>1085</td>\n",
       "      <td>2018-12-13</td>\n",
       "      <td>0</td>\n",
       "    </tr>\n",
       "    <tr>\n",
       "      <th>37113</th>\n",
       "      <td>1140_397</td>\n",
       "      <td>1140</td>\n",
       "      <td>2018-09-10</td>\n",
       "      <td>18</td>\n",
       "    </tr>\n",
       "    <tr>\n",
       "      <th>95099</th>\n",
       "      <td>1337_25</td>\n",
       "      <td>1337</td>\n",
       "      <td>2018-12-20</td>\n",
       "      <td>11</td>\n",
       "    </tr>\n",
       "    <tr>\n",
       "      <th>192</th>\n",
       "      <td>1001_343</td>\n",
       "      <td>1001</td>\n",
       "      <td>2018-10-26</td>\n",
       "      <td>6</td>\n",
       "    </tr>\n",
       "    <tr>\n",
       "      <th>134881</th>\n",
       "      <td>1489_209</td>\n",
       "      <td>1489</td>\n",
       "      <td>2018-12-16</td>\n",
       "      <td>10</td>\n",
       "    </tr>\n",
       "    <tr>\n",
       "      <th>130885</th>\n",
       "      <td>1470_334</td>\n",
       "      <td>1470</td>\n",
       "      <td>2018-07-18</td>\n",
       "      <td>15</td>\n",
       "    </tr>\n",
       "    <tr>\n",
       "      <th>134621</th>\n",
       "      <td>1488_919</td>\n",
       "      <td>1488</td>\n",
       "      <td>2018-07-01</td>\n",
       "      <td>12</td>\n",
       "    </tr>\n",
       "    <tr>\n",
       "      <th>86059</th>\n",
       "      <td>1317_82</td>\n",
       "      <td>1317</td>\n",
       "      <td>2018-12-02</td>\n",
       "      <td>14</td>\n",
       "    </tr>\n",
       "    <tr>\n",
       "      <th>126244</th>\n",
       "      <td>1447_109</td>\n",
       "      <td>1447</td>\n",
       "      <td>2018-12-31</td>\n",
       "      <td>0</td>\n",
       "    </tr>\n",
       "  </tbody>\n",
       "</table>\n",
       "</div>"
      ],
      "text/plain": [
       "              id  user_id  call_date  duration\n",
       "134863  1489_191     1489 2018-09-19        15\n",
       "23471   1085_263     1085 2018-12-13         0\n",
       "37113   1140_397     1140 2018-09-10        18\n",
       "95099    1337_25     1337 2018-12-20        11\n",
       "192     1001_343     1001 2018-10-26         6\n",
       "134881  1489_209     1489 2018-12-16        10\n",
       "130885  1470_334     1470 2018-07-18        15\n",
       "134621  1488_919     1488 2018-07-01        12\n",
       "86059    1317_82     1317 2018-12-02        14\n",
       "126244  1447_109     1447 2018-12-31         0"
      ]
     },
     "metadata": {},
     "output_type": "display_data"
    },
    {
     "name": "stdout",
     "output_type": "stream",
     "text": [
      "<class 'pandas.core.frame.DataFrame'>\n",
      "RangeIndex: 137735 entries, 0 to 137734\n",
      "Data columns (total 4 columns):\n",
      " #   Column     Non-Null Count   Dtype         \n",
      "---  ------     --------------   -----         \n",
      " 0   id         137735 non-null  object        \n",
      " 1   user_id    137735 non-null  int64         \n",
      " 2   call_date  137735 non-null  datetime64[ns]\n",
      " 3   duration   137735 non-null  int64         \n",
      "dtypes: datetime64[ns](1), int64(2), object(1)\n",
      "memory usage: 4.2+ MB\n"
     ]
    }
   ],
   "source": [
    "calls['duration'] = calls['duration'].apply(np.ceil)\n",
    "calls['duration'] = calls['duration'].astype(float).astype(int)\n",
    "\n",
    "calls['call_date'] = pd.to_datetime(calls['call_date'], format='%Y-%m-%d')\n",
    "\n",
    "display(calls.sample(10))\n",
    "calls.info()"
   ]
  },
  {
   "cell_type": "code",
   "execution_count": 12,
   "metadata": {},
   "outputs": [],
   "source": [
    "calls['month'] = calls['call_date'].dt.month"
   ]
  },
  {
   "cell_type": "markdown",
   "metadata": {},
   "source": [
    "<div class=\"alert alert-success\">\n",
    "<b>✔️  Comentario del revisor:</b> Buen trabajo.</div>"
   ]
  },
  {
   "cell_type": "markdown",
   "metadata": {
    "id": "KrMgTrlG0q0_"
   },
   "source": [
    "### Enriquecer los datos"
   ]
  },
  {
   "cell_type": "markdown",
   "metadata": {
    "id": "a9MbmEvE0q0_"
   },
   "source": [
    "[Agrega factores adicionales a los datos si crees que pudieran ser útiles.]\n",
    "\n",
    "agregamos el nuevo dataframe calls1 anexando la informacion de plan la cual teniamos ya registrada con el dataframe users2"
   ]
  },
  {
   "cell_type": "code",
   "execution_count": 13,
   "metadata": {},
   "outputs": [
    {
     "data": {
      "text/html": [
       "<div>\n",
       "<style scoped>\n",
       "    .dataframe tbody tr th:only-of-type {\n",
       "        vertical-align: middle;\n",
       "    }\n",
       "\n",
       "    .dataframe tbody tr th {\n",
       "        vertical-align: top;\n",
       "    }\n",
       "\n",
       "    .dataframe thead th {\n",
       "        text-align: right;\n",
       "    }\n",
       "</style>\n",
       "<table border=\"1\" class=\"dataframe\">\n",
       "  <thead>\n",
       "    <tr style=\"text-align: right;\">\n",
       "      <th></th>\n",
       "      <th>user_id</th>\n",
       "      <th>plan</th>\n",
       "      <th>city</th>\n",
       "      <th>id</th>\n",
       "      <th>call_date</th>\n",
       "      <th>duration</th>\n",
       "      <th>month</th>\n",
       "    </tr>\n",
       "  </thead>\n",
       "  <tbody>\n",
       "    <tr>\n",
       "      <th>0</th>\n",
       "      <td>1000</td>\n",
       "      <td>ultimate</td>\n",
       "      <td>Atlanta-Sandy Springs-Roswell, GA MSA</td>\n",
       "      <td>1000_93</td>\n",
       "      <td>2018-12-27</td>\n",
       "      <td>9</td>\n",
       "      <td>12</td>\n",
       "    </tr>\n",
       "    <tr>\n",
       "      <th>1</th>\n",
       "      <td>1000</td>\n",
       "      <td>ultimate</td>\n",
       "      <td>Atlanta-Sandy Springs-Roswell, GA MSA</td>\n",
       "      <td>1000_145</td>\n",
       "      <td>2018-12-27</td>\n",
       "      <td>14</td>\n",
       "      <td>12</td>\n",
       "    </tr>\n",
       "    <tr>\n",
       "      <th>2</th>\n",
       "      <td>1000</td>\n",
       "      <td>ultimate</td>\n",
       "      <td>Atlanta-Sandy Springs-Roswell, GA MSA</td>\n",
       "      <td>1000_247</td>\n",
       "      <td>2018-12-27</td>\n",
       "      <td>15</td>\n",
       "      <td>12</td>\n",
       "    </tr>\n",
       "    <tr>\n",
       "      <th>3</th>\n",
       "      <td>1000</td>\n",
       "      <td>ultimate</td>\n",
       "      <td>Atlanta-Sandy Springs-Roswell, GA MSA</td>\n",
       "      <td>1000_309</td>\n",
       "      <td>2018-12-28</td>\n",
       "      <td>6</td>\n",
       "      <td>12</td>\n",
       "    </tr>\n",
       "    <tr>\n",
       "      <th>4</th>\n",
       "      <td>1000</td>\n",
       "      <td>ultimate</td>\n",
       "      <td>Atlanta-Sandy Springs-Roswell, GA MSA</td>\n",
       "      <td>1000_380</td>\n",
       "      <td>2018-12-30</td>\n",
       "      <td>5</td>\n",
       "      <td>12</td>\n",
       "    </tr>\n",
       "    <tr>\n",
       "      <th>...</th>\n",
       "      <td>...</td>\n",
       "      <td>...</td>\n",
       "      <td>...</td>\n",
       "      <td>...</td>\n",
       "      <td>...</td>\n",
       "      <td>...</td>\n",
       "      <td>...</td>\n",
       "    </tr>\n",
       "    <tr>\n",
       "      <th>137730</th>\n",
       "      <td>1499</td>\n",
       "      <td>surf</td>\n",
       "      <td>Orlando-Kissimmee-Sanford, FL MSA</td>\n",
       "      <td>1499_199</td>\n",
       "      <td>2018-11-21</td>\n",
       "      <td>9</td>\n",
       "      <td>11</td>\n",
       "    </tr>\n",
       "    <tr>\n",
       "      <th>137731</th>\n",
       "      <td>1499</td>\n",
       "      <td>surf</td>\n",
       "      <td>Orlando-Kissimmee-Sanford, FL MSA</td>\n",
       "      <td>1499_200</td>\n",
       "      <td>2018-10-20</td>\n",
       "      <td>11</td>\n",
       "      <td>10</td>\n",
       "    </tr>\n",
       "    <tr>\n",
       "      <th>137732</th>\n",
       "      <td>1499</td>\n",
       "      <td>surf</td>\n",
       "      <td>Orlando-Kissimmee-Sanford, FL MSA</td>\n",
       "      <td>1499_201</td>\n",
       "      <td>2018-09-21</td>\n",
       "      <td>9</td>\n",
       "      <td>9</td>\n",
       "    </tr>\n",
       "    <tr>\n",
       "      <th>137733</th>\n",
       "      <td>1499</td>\n",
       "      <td>surf</td>\n",
       "      <td>Orlando-Kissimmee-Sanford, FL MSA</td>\n",
       "      <td>1499_202</td>\n",
       "      <td>2018-10-10</td>\n",
       "      <td>1</td>\n",
       "      <td>10</td>\n",
       "    </tr>\n",
       "    <tr>\n",
       "      <th>137734</th>\n",
       "      <td>1499</td>\n",
       "      <td>surf</td>\n",
       "      <td>Orlando-Kissimmee-Sanford, FL MSA</td>\n",
       "      <td>1499_203</td>\n",
       "      <td>2018-12-29</td>\n",
       "      <td>14</td>\n",
       "      <td>12</td>\n",
       "    </tr>\n",
       "  </tbody>\n",
       "</table>\n",
       "<p>137735 rows × 7 columns</p>\n",
       "</div>"
      ],
      "text/plain": [
       "        user_id      plan                                   city        id  \\\n",
       "0          1000  ultimate  Atlanta-Sandy Springs-Roswell, GA MSA   1000_93   \n",
       "1          1000  ultimate  Atlanta-Sandy Springs-Roswell, GA MSA  1000_145   \n",
       "2          1000  ultimate  Atlanta-Sandy Springs-Roswell, GA MSA  1000_247   \n",
       "3          1000  ultimate  Atlanta-Sandy Springs-Roswell, GA MSA  1000_309   \n",
       "4          1000  ultimate  Atlanta-Sandy Springs-Roswell, GA MSA  1000_380   \n",
       "...         ...       ...                                    ...       ...   \n",
       "137730     1499      surf      Orlando-Kissimmee-Sanford, FL MSA  1499_199   \n",
       "137731     1499      surf      Orlando-Kissimmee-Sanford, FL MSA  1499_200   \n",
       "137732     1499      surf      Orlando-Kissimmee-Sanford, FL MSA  1499_201   \n",
       "137733     1499      surf      Orlando-Kissimmee-Sanford, FL MSA  1499_202   \n",
       "137734     1499      surf      Orlando-Kissimmee-Sanford, FL MSA  1499_203   \n",
       "\n",
       "        call_date  duration month  \n",
       "0      2018-12-27         9    12  \n",
       "1      2018-12-27        14    12  \n",
       "2      2018-12-27        15    12  \n",
       "3      2018-12-28         6    12  \n",
       "4      2018-12-30         5    12  \n",
       "...           ...       ...   ...  \n",
       "137730 2018-11-21         9    11  \n",
       "137731 2018-10-20        11    10  \n",
       "137732 2018-09-21         9     9  \n",
       "137733 2018-10-10         1    10  \n",
       "137734 2018-12-29        14    12  \n",
       "\n",
       "[137735 rows x 7 columns]"
      ]
     },
     "execution_count": 13,
     "metadata": {},
     "output_type": "execute_result"
    }
   ],
   "source": [
    "calls['month'] = calls['month'].astype(int).astype(object)\n",
    "calls1=pd.merge( users2 ,calls ,  on= \"user_id\", how=\"right\")\n",
    "calls1"
   ]
  },
  {
   "cell_type": "markdown",
   "metadata": {
    "id": "mOUZSi180q0_"
   },
   "source": [
    "## Mensajes"
   ]
  },
  {
   "cell_type": "code",
   "execution_count": 14,
   "metadata": {
    "id": "R-bYJpdV0q1A"
   },
   "outputs": [
    {
     "data": {
      "text/html": [
       "<div>\n",
       "<style scoped>\n",
       "    .dataframe tbody tr th:only-of-type {\n",
       "        vertical-align: middle;\n",
       "    }\n",
       "\n",
       "    .dataframe tbody tr th {\n",
       "        vertical-align: top;\n",
       "    }\n",
       "\n",
       "    .dataframe thead th {\n",
       "        text-align: right;\n",
       "    }\n",
       "</style>\n",
       "<table border=\"1\" class=\"dataframe\">\n",
       "  <thead>\n",
       "    <tr style=\"text-align: right;\">\n",
       "      <th></th>\n",
       "      <th>id</th>\n",
       "      <th>user_id</th>\n",
       "      <th>message_date</th>\n",
       "    </tr>\n",
       "  </thead>\n",
       "  <tbody>\n",
       "    <tr>\n",
       "      <th>0</th>\n",
       "      <td>1000_125</td>\n",
       "      <td>1000</td>\n",
       "      <td>2018-12-27</td>\n",
       "    </tr>\n",
       "    <tr>\n",
       "      <th>1</th>\n",
       "      <td>1000_160</td>\n",
       "      <td>1000</td>\n",
       "      <td>2018-12-31</td>\n",
       "    </tr>\n",
       "    <tr>\n",
       "      <th>2</th>\n",
       "      <td>1000_223</td>\n",
       "      <td>1000</td>\n",
       "      <td>2018-12-31</td>\n",
       "    </tr>\n",
       "    <tr>\n",
       "      <th>3</th>\n",
       "      <td>1000_251</td>\n",
       "      <td>1000</td>\n",
       "      <td>2018-12-27</td>\n",
       "    </tr>\n",
       "    <tr>\n",
       "      <th>4</th>\n",
       "      <td>1000_255</td>\n",
       "      <td>1000</td>\n",
       "      <td>2018-12-26</td>\n",
       "    </tr>\n",
       "    <tr>\n",
       "      <th>...</th>\n",
       "      <td>...</td>\n",
       "      <td>...</td>\n",
       "      <td>...</td>\n",
       "    </tr>\n",
       "    <tr>\n",
       "      <th>76046</th>\n",
       "      <td>1497_526</td>\n",
       "      <td>1497</td>\n",
       "      <td>2018-12-24</td>\n",
       "    </tr>\n",
       "    <tr>\n",
       "      <th>76047</th>\n",
       "      <td>1497_536</td>\n",
       "      <td>1497</td>\n",
       "      <td>2018-12-24</td>\n",
       "    </tr>\n",
       "    <tr>\n",
       "      <th>76048</th>\n",
       "      <td>1497_547</td>\n",
       "      <td>1497</td>\n",
       "      <td>2018-12-31</td>\n",
       "    </tr>\n",
       "    <tr>\n",
       "      <th>76049</th>\n",
       "      <td>1497_558</td>\n",
       "      <td>1497</td>\n",
       "      <td>2018-12-24</td>\n",
       "    </tr>\n",
       "    <tr>\n",
       "      <th>76050</th>\n",
       "      <td>1497_613</td>\n",
       "      <td>1497</td>\n",
       "      <td>2018-12-23</td>\n",
       "    </tr>\n",
       "  </tbody>\n",
       "</table>\n",
       "<p>76051 rows × 3 columns</p>\n",
       "</div>"
      ],
      "text/plain": [
       "             id  user_id message_date\n",
       "0      1000_125     1000   2018-12-27\n",
       "1      1000_160     1000   2018-12-31\n",
       "2      1000_223     1000   2018-12-31\n",
       "3      1000_251     1000   2018-12-27\n",
       "4      1000_255     1000   2018-12-26\n",
       "...         ...      ...          ...\n",
       "76046  1497_526     1497   2018-12-24\n",
       "76047  1497_536     1497   2018-12-24\n",
       "76048  1497_547     1497   2018-12-31\n",
       "76049  1497_558     1497   2018-12-24\n",
       "76050  1497_613     1497   2018-12-23\n",
       "\n",
       "[76051 rows x 3 columns]"
      ]
     },
     "metadata": {},
     "output_type": "display_data"
    },
    {
     "name": "stdout",
     "output_type": "stream",
     "text": [
      "<class 'pandas.core.frame.DataFrame'>\n",
      "RangeIndex: 76051 entries, 0 to 76050\n",
      "Data columns (total 3 columns):\n",
      " #   Column        Non-Null Count  Dtype \n",
      "---  ------        --------------  ----- \n",
      " 0   id            76051 non-null  object\n",
      " 1   user_id       76051 non-null  int64 \n",
      " 2   message_date  76051 non-null  object\n",
      "dtypes: int64(1), object(2)\n",
      "memory usage: 1.7+ MB\n"
     ]
    },
    {
     "data": {
      "text/html": [
       "<div>\n",
       "<style scoped>\n",
       "    .dataframe tbody tr th:only-of-type {\n",
       "        vertical-align: middle;\n",
       "    }\n",
       "\n",
       "    .dataframe tbody tr th {\n",
       "        vertical-align: top;\n",
       "    }\n",
       "\n",
       "    .dataframe thead th {\n",
       "        text-align: right;\n",
       "    }\n",
       "</style>\n",
       "<table border=\"1\" class=\"dataframe\">\n",
       "  <thead>\n",
       "    <tr style=\"text-align: right;\">\n",
       "      <th></th>\n",
       "      <th>id</th>\n",
       "      <th>user_id</th>\n",
       "      <th>message_date</th>\n",
       "    </tr>\n",
       "  </thead>\n",
       "  <tbody>\n",
       "  </tbody>\n",
       "</table>\n",
       "</div>"
      ],
      "text/plain": [
       "Empty DataFrame\n",
       "Columns: [id, user_id, message_date]\n",
       "Index: []"
      ]
     },
     "execution_count": 14,
     "metadata": {},
     "output_type": "execute_result"
    }
   ],
   "source": [
    "# Imprime la información general/resumida sobre el DataFrame de los mensajes\n",
    "display(messages)\n",
    "messages.info()\n",
    "messages[messages.duplicated()]"
   ]
  },
  {
   "cell_type": "code",
   "execution_count": 15,
   "metadata": {
    "id": "mCEl2iGE0q1A"
   },
   "outputs": [
    {
     "data": {
      "text/html": [
       "<div>\n",
       "<style scoped>\n",
       "    .dataframe tbody tr th:only-of-type {\n",
       "        vertical-align: middle;\n",
       "    }\n",
       "\n",
       "    .dataframe tbody tr th {\n",
       "        vertical-align: top;\n",
       "    }\n",
       "\n",
       "    .dataframe thead th {\n",
       "        text-align: right;\n",
       "    }\n",
       "</style>\n",
       "<table border=\"1\" class=\"dataframe\">\n",
       "  <thead>\n",
       "    <tr style=\"text-align: right;\">\n",
       "      <th></th>\n",
       "      <th>user_id</th>\n",
       "    </tr>\n",
       "  </thead>\n",
       "  <tbody>\n",
       "    <tr>\n",
       "      <th>1132</th>\n",
       "      <td>1288</td>\n",
       "    </tr>\n",
       "    <tr>\n",
       "      <th>1328</th>\n",
       "      <td>1233</td>\n",
       "    </tr>\n",
       "    <tr>\n",
       "      <th>1324</th>\n",
       "      <td>1175</td>\n",
       "    </tr>\n",
       "    <tr>\n",
       "      <th>1470</th>\n",
       "      <td>1056</td>\n",
       "    </tr>\n",
       "    <tr>\n",
       "      <th>1077</th>\n",
       "      <td>804</td>\n",
       "    </tr>\n",
       "    <tr>\n",
       "      <th>1028</th>\n",
       "      <td>756</td>\n",
       "    </tr>\n",
       "    <tr>\n",
       "      <th>1076</th>\n",
       "      <td>740</td>\n",
       "    </tr>\n",
       "    <tr>\n",
       "      <th>1336</th>\n",
       "      <td>690</td>\n",
       "    </tr>\n",
       "    <tr>\n",
       "      <th>1362</th>\n",
       "      <td>672</td>\n",
       "    </tr>\n",
       "    <tr>\n",
       "      <th>1335</th>\n",
       "      <td>654</td>\n",
       "    </tr>\n",
       "  </tbody>\n",
       "</table>\n",
       "</div>"
      ],
      "text/plain": [
       "      user_id\n",
       "1132     1288\n",
       "1328     1233\n",
       "1324     1175\n",
       "1470     1056\n",
       "1077      804\n",
       "1028      756\n",
       "1076      740\n",
       "1336      690\n",
       "1362      672\n",
       "1335      654"
      ]
     },
     "metadata": {},
     "output_type": "display_data"
    }
   ],
   "source": [
    "# Imprime una muestra de datos para los mensajes\n",
    "total_messages=messages[\"user_id\"].value_counts()\n",
    "df_totalmessagesxuser=pd.concat([total_messages],axis=1)\n",
    "display(df_totalmessagesxuser.head(10))"
   ]
  },
  {
   "cell_type": "markdown",
   "metadata": {
    "id": "04xDj7KH0q1A"
   },
   "source": [
    "[Describe lo que ves y observas en la información general y en la muestra de datos impresa para el precio de datos anterior. ¿Hay algún problema (tipos de datos no adecuados, datos ausentes, etc.) que pudieran necesitar investigación y cambios adicionales? ¿Cómo se puede arreglar?]\n",
    "\n",
    "podemos observar que se enviaron un total de 76.051 mensajes de texto, de los cuales el usuario 1132 fue el que mas mensajes de texto envio con un total de 1288. segido por el usuario 1328 quien envio 1233 mensajes de texto.\n",
    "\n",
    "debemos corregir el tipo de dato para la columna message_date la cual viene como objeto. pero al ser una fecha debe ser datatime.\n",
    "por ultimo de igual manera insertaremos una nueva columna correspondiente al mes de enviado el mensaje. "
   ]
  },
  {
   "cell_type": "markdown",
   "metadata": {
    "id": "Sprfak900q1B"
   },
   "source": [
    "### Corregir los datos"
   ]
  },
  {
   "cell_type": "markdown",
   "metadata": {
    "id": "eGw7d9j10q1B"
   },
   "source": [
    "[Corrige los problemas obvios con los datos basándote en las observaciones iniciales.]"
   ]
  },
  {
   "cell_type": "code",
   "execution_count": 16,
   "metadata": {
    "id": "vsllvkoa0q1B"
   },
   "outputs": [
    {
     "name": "stdout",
     "output_type": "stream",
     "text": [
      "<class 'pandas.core.frame.DataFrame'>\n",
      "RangeIndex: 76051 entries, 0 to 76050\n",
      "Data columns (total 3 columns):\n",
      " #   Column        Non-Null Count  Dtype         \n",
      "---  ------        --------------  -----         \n",
      " 0   id            76051 non-null  object        \n",
      " 1   user_id       76051 non-null  int64         \n",
      " 2   message_date  76051 non-null  datetime64[ns]\n",
      "dtypes: datetime64[ns](1), int64(1), object(1)\n",
      "memory usage: 1.7+ MB\n"
     ]
    },
    {
     "data": {
      "text/plain": [
       "None"
      ]
     },
     "metadata": {},
     "output_type": "display_data"
    }
   ],
   "source": [
    "messages[\"message_date\"] = pd.to_datetime(messages['message_date'], format='%Y-%m-%d')\n",
    "display(messages.info())"
   ]
  },
  {
   "cell_type": "markdown",
   "metadata": {
    "id": "HvLid7iD0q1B"
   },
   "source": [
    "### Enriquecer los datos"
   ]
  },
  {
   "cell_type": "markdown",
   "metadata": {
    "id": "8nhPFKIe0q1C"
   },
   "source": [
    "[Agrega factores adicionales a los datos si crees que pudieran ser útiles.]"
   ]
  },
  {
   "cell_type": "code",
   "execution_count": 17,
   "metadata": {
    "id": "zYEXZac10q1C"
   },
   "outputs": [
    {
     "data": {
      "text/html": [
       "<div>\n",
       "<style scoped>\n",
       "    .dataframe tbody tr th:only-of-type {\n",
       "        vertical-align: middle;\n",
       "    }\n",
       "\n",
       "    .dataframe tbody tr th {\n",
       "        vertical-align: top;\n",
       "    }\n",
       "\n",
       "    .dataframe thead th {\n",
       "        text-align: right;\n",
       "    }\n",
       "</style>\n",
       "<table border=\"1\" class=\"dataframe\">\n",
       "  <thead>\n",
       "    <tr style=\"text-align: right;\">\n",
       "      <th></th>\n",
       "      <th>id</th>\n",
       "      <th>user_id</th>\n",
       "      <th>message_date</th>\n",
       "      <th>month</th>\n",
       "    </tr>\n",
       "  </thead>\n",
       "  <tbody>\n",
       "    <tr>\n",
       "      <th>13742</th>\n",
       "      <td>1091_59</td>\n",
       "      <td>1091</td>\n",
       "      <td>2018-11-25</td>\n",
       "      <td>11</td>\n",
       "    </tr>\n",
       "    <tr>\n",
       "      <th>72561</th>\n",
       "      <td>1470_189</td>\n",
       "      <td>1470</td>\n",
       "      <td>2018-11-13</td>\n",
       "      <td>11</td>\n",
       "    </tr>\n",
       "    <tr>\n",
       "      <th>21800</th>\n",
       "      <td>1132_1291</td>\n",
       "      <td>1132</td>\n",
       "      <td>2018-04-15</td>\n",
       "      <td>4</td>\n",
       "    </tr>\n",
       "    <tr>\n",
       "      <th>28279</th>\n",
       "      <td>1174_69</td>\n",
       "      <td>1174</td>\n",
       "      <td>2018-11-20</td>\n",
       "      <td>11</td>\n",
       "    </tr>\n",
       "    <tr>\n",
       "      <th>28687</th>\n",
       "      <td>1174_477</td>\n",
       "      <td>1174</td>\n",
       "      <td>2018-07-13</td>\n",
       "      <td>7</td>\n",
       "    </tr>\n",
       "    <tr>\n",
       "      <th>23134</th>\n",
       "      <td>1139_288</td>\n",
       "      <td>1139</td>\n",
       "      <td>2018-11-29</td>\n",
       "      <td>11</td>\n",
       "    </tr>\n",
       "    <tr>\n",
       "      <th>70236</th>\n",
       "      <td>1456_167</td>\n",
       "      <td>1456</td>\n",
       "      <td>2018-07-02</td>\n",
       "      <td>7</td>\n",
       "    </tr>\n",
       "    <tr>\n",
       "      <th>42619</th>\n",
       "      <td>1280_115</td>\n",
       "      <td>1280</td>\n",
       "      <td>2018-10-03</td>\n",
       "      <td>10</td>\n",
       "    </tr>\n",
       "    <tr>\n",
       "      <th>69809</th>\n",
       "      <td>1454_171</td>\n",
       "      <td>1454</td>\n",
       "      <td>2018-11-19</td>\n",
       "      <td>11</td>\n",
       "    </tr>\n",
       "    <tr>\n",
       "      <th>63523</th>\n",
       "      <td>1405_213</td>\n",
       "      <td>1405</td>\n",
       "      <td>2018-11-11</td>\n",
       "      <td>11</td>\n",
       "    </tr>\n",
       "  </tbody>\n",
       "</table>\n",
       "</div>"
      ],
      "text/plain": [
       "              id  user_id message_date  month\n",
       "13742    1091_59     1091   2018-11-25     11\n",
       "72561   1470_189     1470   2018-11-13     11\n",
       "21800  1132_1291     1132   2018-04-15      4\n",
       "28279    1174_69     1174   2018-11-20     11\n",
       "28687   1174_477     1174   2018-07-13      7\n",
       "23134   1139_288     1139   2018-11-29     11\n",
       "70236   1456_167     1456   2018-07-02      7\n",
       "42619   1280_115     1280   2018-10-03     10\n",
       "69809   1454_171     1454   2018-11-19     11\n",
       "63523   1405_213     1405   2018-11-11     11"
      ]
     },
     "execution_count": 17,
     "metadata": {},
     "output_type": "execute_result"
    }
   ],
   "source": [
    "messages['month'] = messages[\"message_date\"].dt.month\n",
    "messages.sample(10)"
   ]
  },
  {
   "cell_type": "code",
   "execution_count": 18,
   "metadata": {},
   "outputs": [],
   "source": [
    "messages['month'] = messages['month'].astype(int).astype(object)"
   ]
  },
  {
   "cell_type": "code",
   "execution_count": 19,
   "metadata": {},
   "outputs": [
    {
     "data": {
      "text/html": [
       "<div>\n",
       "<style scoped>\n",
       "    .dataframe tbody tr th:only-of-type {\n",
       "        vertical-align: middle;\n",
       "    }\n",
       "\n",
       "    .dataframe tbody tr th {\n",
       "        vertical-align: top;\n",
       "    }\n",
       "\n",
       "    .dataframe thead th {\n",
       "        text-align: right;\n",
       "    }\n",
       "</style>\n",
       "<table border=\"1\" class=\"dataframe\">\n",
       "  <thead>\n",
       "    <tr style=\"text-align: right;\">\n",
       "      <th></th>\n",
       "      <th>user_id</th>\n",
       "      <th>plan</th>\n",
       "      <th>city</th>\n",
       "      <th>id</th>\n",
       "      <th>message_date</th>\n",
       "      <th>month</th>\n",
       "    </tr>\n",
       "  </thead>\n",
       "  <tbody>\n",
       "    <tr>\n",
       "      <th>0</th>\n",
       "      <td>1000</td>\n",
       "      <td>ultimate</td>\n",
       "      <td>Atlanta-Sandy Springs-Roswell, GA MSA</td>\n",
       "      <td>1000_125</td>\n",
       "      <td>2018-12-27</td>\n",
       "      <td>12</td>\n",
       "    </tr>\n",
       "    <tr>\n",
       "      <th>1</th>\n",
       "      <td>1000</td>\n",
       "      <td>ultimate</td>\n",
       "      <td>Atlanta-Sandy Springs-Roswell, GA MSA</td>\n",
       "      <td>1000_160</td>\n",
       "      <td>2018-12-31</td>\n",
       "      <td>12</td>\n",
       "    </tr>\n",
       "    <tr>\n",
       "      <th>2</th>\n",
       "      <td>1000</td>\n",
       "      <td>ultimate</td>\n",
       "      <td>Atlanta-Sandy Springs-Roswell, GA MSA</td>\n",
       "      <td>1000_223</td>\n",
       "      <td>2018-12-31</td>\n",
       "      <td>12</td>\n",
       "    </tr>\n",
       "    <tr>\n",
       "      <th>3</th>\n",
       "      <td>1000</td>\n",
       "      <td>ultimate</td>\n",
       "      <td>Atlanta-Sandy Springs-Roswell, GA MSA</td>\n",
       "      <td>1000_251</td>\n",
       "      <td>2018-12-27</td>\n",
       "      <td>12</td>\n",
       "    </tr>\n",
       "    <tr>\n",
       "      <th>4</th>\n",
       "      <td>1000</td>\n",
       "      <td>ultimate</td>\n",
       "      <td>Atlanta-Sandy Springs-Roswell, GA MSA</td>\n",
       "      <td>1000_255</td>\n",
       "      <td>2018-12-26</td>\n",
       "      <td>12</td>\n",
       "    </tr>\n",
       "    <tr>\n",
       "      <th>...</th>\n",
       "      <td>...</td>\n",
       "      <td>...</td>\n",
       "      <td>...</td>\n",
       "      <td>...</td>\n",
       "      <td>...</td>\n",
       "      <td>...</td>\n",
       "    </tr>\n",
       "    <tr>\n",
       "      <th>76046</th>\n",
       "      <td>1497</td>\n",
       "      <td>ultimate</td>\n",
       "      <td>Los Angeles-Long Beach-Anaheim, CA MSA</td>\n",
       "      <td>1497_526</td>\n",
       "      <td>2018-12-24</td>\n",
       "      <td>12</td>\n",
       "    </tr>\n",
       "    <tr>\n",
       "      <th>76047</th>\n",
       "      <td>1497</td>\n",
       "      <td>ultimate</td>\n",
       "      <td>Los Angeles-Long Beach-Anaheim, CA MSA</td>\n",
       "      <td>1497_536</td>\n",
       "      <td>2018-12-24</td>\n",
       "      <td>12</td>\n",
       "    </tr>\n",
       "    <tr>\n",
       "      <th>76048</th>\n",
       "      <td>1497</td>\n",
       "      <td>ultimate</td>\n",
       "      <td>Los Angeles-Long Beach-Anaheim, CA MSA</td>\n",
       "      <td>1497_547</td>\n",
       "      <td>2018-12-31</td>\n",
       "      <td>12</td>\n",
       "    </tr>\n",
       "    <tr>\n",
       "      <th>76049</th>\n",
       "      <td>1497</td>\n",
       "      <td>ultimate</td>\n",
       "      <td>Los Angeles-Long Beach-Anaheim, CA MSA</td>\n",
       "      <td>1497_558</td>\n",
       "      <td>2018-12-24</td>\n",
       "      <td>12</td>\n",
       "    </tr>\n",
       "    <tr>\n",
       "      <th>76050</th>\n",
       "      <td>1497</td>\n",
       "      <td>ultimate</td>\n",
       "      <td>Los Angeles-Long Beach-Anaheim, CA MSA</td>\n",
       "      <td>1497_613</td>\n",
       "      <td>2018-12-23</td>\n",
       "      <td>12</td>\n",
       "    </tr>\n",
       "  </tbody>\n",
       "</table>\n",
       "<p>76051 rows × 6 columns</p>\n",
       "</div>"
      ],
      "text/plain": [
       "       user_id      plan                                    city        id  \\\n",
       "0         1000  ultimate   Atlanta-Sandy Springs-Roswell, GA MSA  1000_125   \n",
       "1         1000  ultimate   Atlanta-Sandy Springs-Roswell, GA MSA  1000_160   \n",
       "2         1000  ultimate   Atlanta-Sandy Springs-Roswell, GA MSA  1000_223   \n",
       "3         1000  ultimate   Atlanta-Sandy Springs-Roswell, GA MSA  1000_251   \n",
       "4         1000  ultimate   Atlanta-Sandy Springs-Roswell, GA MSA  1000_255   \n",
       "...        ...       ...                                     ...       ...   \n",
       "76046     1497  ultimate  Los Angeles-Long Beach-Anaheim, CA MSA  1497_526   \n",
       "76047     1497  ultimate  Los Angeles-Long Beach-Anaheim, CA MSA  1497_536   \n",
       "76048     1497  ultimate  Los Angeles-Long Beach-Anaheim, CA MSA  1497_547   \n",
       "76049     1497  ultimate  Los Angeles-Long Beach-Anaheim, CA MSA  1497_558   \n",
       "76050     1497  ultimate  Los Angeles-Long Beach-Anaheim, CA MSA  1497_613   \n",
       "\n",
       "      message_date month  \n",
       "0       2018-12-27    12  \n",
       "1       2018-12-31    12  \n",
       "2       2018-12-31    12  \n",
       "3       2018-12-27    12  \n",
       "4       2018-12-26    12  \n",
       "...            ...   ...  \n",
       "76046   2018-12-24    12  \n",
       "76047   2018-12-24    12  \n",
       "76048   2018-12-31    12  \n",
       "76049   2018-12-24    12  \n",
       "76050   2018-12-23    12  \n",
       "\n",
       "[76051 rows x 6 columns]"
      ]
     },
     "execution_count": 19,
     "metadata": {},
     "output_type": "execute_result"
    }
   ],
   "source": [
    "messages1=pd.merge( users2 , messages ,  on= \"user_id\", how=\"right\")\n",
    "messages1"
   ]
  },
  {
   "cell_type": "markdown",
   "metadata": {
    "id": "bStkaxn40q1C"
   },
   "source": [
    "## Internet"
   ]
  },
  {
   "cell_type": "code",
   "execution_count": 20,
   "metadata": {
    "id": "e-Uz5qyn0q1C"
   },
   "outputs": [
    {
     "data": {
      "text/html": [
       "<div>\n",
       "<style scoped>\n",
       "    .dataframe tbody tr th:only-of-type {\n",
       "        vertical-align: middle;\n",
       "    }\n",
       "\n",
       "    .dataframe tbody tr th {\n",
       "        vertical-align: top;\n",
       "    }\n",
       "\n",
       "    .dataframe thead th {\n",
       "        text-align: right;\n",
       "    }\n",
       "</style>\n",
       "<table border=\"1\" class=\"dataframe\">\n",
       "  <thead>\n",
       "    <tr style=\"text-align: right;\">\n",
       "      <th></th>\n",
       "      <th>id</th>\n",
       "      <th>user_id</th>\n",
       "      <th>session_date</th>\n",
       "      <th>mb_used</th>\n",
       "    </tr>\n",
       "  </thead>\n",
       "  <tbody>\n",
       "    <tr>\n",
       "      <th>0</th>\n",
       "      <td>1000_13</td>\n",
       "      <td>1000</td>\n",
       "      <td>2018-12-29</td>\n",
       "      <td>89.86</td>\n",
       "    </tr>\n",
       "    <tr>\n",
       "      <th>1</th>\n",
       "      <td>1000_204</td>\n",
       "      <td>1000</td>\n",
       "      <td>2018-12-31</td>\n",
       "      <td>0.00</td>\n",
       "    </tr>\n",
       "    <tr>\n",
       "      <th>2</th>\n",
       "      <td>1000_379</td>\n",
       "      <td>1000</td>\n",
       "      <td>2018-12-28</td>\n",
       "      <td>660.40</td>\n",
       "    </tr>\n",
       "    <tr>\n",
       "      <th>3</th>\n",
       "      <td>1000_413</td>\n",
       "      <td>1000</td>\n",
       "      <td>2018-12-26</td>\n",
       "      <td>270.99</td>\n",
       "    </tr>\n",
       "    <tr>\n",
       "      <th>4</th>\n",
       "      <td>1000_442</td>\n",
       "      <td>1000</td>\n",
       "      <td>2018-12-27</td>\n",
       "      <td>880.22</td>\n",
       "    </tr>\n",
       "    <tr>\n",
       "      <th>...</th>\n",
       "      <td>...</td>\n",
       "      <td>...</td>\n",
       "      <td>...</td>\n",
       "      <td>...</td>\n",
       "    </tr>\n",
       "    <tr>\n",
       "      <th>104820</th>\n",
       "      <td>1499_215</td>\n",
       "      <td>1499</td>\n",
       "      <td>2018-10-20</td>\n",
       "      <td>218.06</td>\n",
       "    </tr>\n",
       "    <tr>\n",
       "      <th>104821</th>\n",
       "      <td>1499_216</td>\n",
       "      <td>1499</td>\n",
       "      <td>2018-12-30</td>\n",
       "      <td>304.72</td>\n",
       "    </tr>\n",
       "    <tr>\n",
       "      <th>104822</th>\n",
       "      <td>1499_217</td>\n",
       "      <td>1499</td>\n",
       "      <td>2018-09-22</td>\n",
       "      <td>292.75</td>\n",
       "    </tr>\n",
       "    <tr>\n",
       "      <th>104823</th>\n",
       "      <td>1499_218</td>\n",
       "      <td>1499</td>\n",
       "      <td>2018-12-07</td>\n",
       "      <td>0.00</td>\n",
       "    </tr>\n",
       "    <tr>\n",
       "      <th>104824</th>\n",
       "      <td>1499_219</td>\n",
       "      <td>1499</td>\n",
       "      <td>2018-12-24</td>\n",
       "      <td>758.31</td>\n",
       "    </tr>\n",
       "  </tbody>\n",
       "</table>\n",
       "<p>104825 rows × 4 columns</p>\n",
       "</div>"
      ],
      "text/plain": [
       "              id  user_id session_date  mb_used\n",
       "0        1000_13     1000   2018-12-29    89.86\n",
       "1       1000_204     1000   2018-12-31     0.00\n",
       "2       1000_379     1000   2018-12-28   660.40\n",
       "3       1000_413     1000   2018-12-26   270.99\n",
       "4       1000_442     1000   2018-12-27   880.22\n",
       "...          ...      ...          ...      ...\n",
       "104820  1499_215     1499   2018-10-20   218.06\n",
       "104821  1499_216     1499   2018-12-30   304.72\n",
       "104822  1499_217     1499   2018-09-22   292.75\n",
       "104823  1499_218     1499   2018-12-07     0.00\n",
       "104824  1499_219     1499   2018-12-24   758.31\n",
       "\n",
       "[104825 rows x 4 columns]"
      ]
     },
     "metadata": {},
     "output_type": "display_data"
    },
    {
     "name": "stdout",
     "output_type": "stream",
     "text": [
      "<class 'pandas.core.frame.DataFrame'>\n",
      "RangeIndex: 104825 entries, 0 to 104824\n",
      "Data columns (total 4 columns):\n",
      " #   Column        Non-Null Count   Dtype  \n",
      "---  ------        --------------   -----  \n",
      " 0   id            104825 non-null  object \n",
      " 1   user_id       104825 non-null  int64  \n",
      " 2   session_date  104825 non-null  object \n",
      " 3   mb_used       104825 non-null  float64\n",
      "dtypes: float64(1), int64(1), object(2)\n",
      "memory usage: 3.2+ MB\n"
     ]
    },
    {
     "data": {
      "text/html": [
       "<div>\n",
       "<style scoped>\n",
       "    .dataframe tbody tr th:only-of-type {\n",
       "        vertical-align: middle;\n",
       "    }\n",
       "\n",
       "    .dataframe tbody tr th {\n",
       "        vertical-align: top;\n",
       "    }\n",
       "\n",
       "    .dataframe thead th {\n",
       "        text-align: right;\n",
       "    }\n",
       "</style>\n",
       "<table border=\"1\" class=\"dataframe\">\n",
       "  <thead>\n",
       "    <tr style=\"text-align: right;\">\n",
       "      <th></th>\n",
       "      <th>id</th>\n",
       "      <th>user_id</th>\n",
       "      <th>session_date</th>\n",
       "      <th>mb_used</th>\n",
       "    </tr>\n",
       "  </thead>\n",
       "  <tbody>\n",
       "  </tbody>\n",
       "</table>\n",
       "</div>"
      ],
      "text/plain": [
       "Empty DataFrame\n",
       "Columns: [id, user_id, session_date, mb_used]\n",
       "Index: []"
      ]
     },
     "execution_count": 20,
     "metadata": {},
     "output_type": "execute_result"
    }
   ],
   "source": [
    "# Imprime la información general/resumida sobre el DataFrame de internet\n",
    "display(internet)\n",
    "internet.info()\n",
    "internet[internet.duplicated()]"
   ]
  },
  {
   "cell_type": "code",
   "execution_count": 21,
   "metadata": {
    "id": "9r3x_XLw0q1C"
   },
   "outputs": [
    {
     "data": {
      "text/plain": [
       "user_id\n",
       "1000      1901.47\n",
       "1001     80437.94\n",
       "1002     40293.33\n",
       "1003     27044.14\n",
       "1004    156352.81\n",
       "1005     17140.17\n",
       "1006     34187.19\n",
       "1007    143852.74\n",
       "1008     55473.04\n",
       "1009    187237.74\n",
       "1010    137342.24\n",
       "1011    131778.60\n",
       "1012     25811.97\n",
       "1013     20113.92\n",
       "1014      8968.00\n",
       "1015     17495.12\n",
       "1016     59359.25\n",
       "1017     95315.32\n",
       "1018     41379.43\n",
       "1019     31140.68\n",
       "Name: mb_used, dtype: float64"
      ]
     },
     "metadata": {},
     "output_type": "display_data"
    }
   ],
   "source": [
    "# Imprime una muestra de datos para el tráfico de internet\n",
    "total_internet=internet.groupby(\"user_id\")[\"mb_used\"].sum().sort_index(ascending=True)\n",
    "display(total_internet.head(20))"
   ]
  },
  {
   "cell_type": "markdown",
   "metadata": {
    "id": "EzOG5ik30q1D"
   },
   "source": [
    "[Describe lo que ves y observas en la información general y en la muestra de datos impresa para el precio de datos anterior. ¿Hay algún problema (tipos de datos no adecuados, datos ausentes, etc.) que pudieran necesitar investigación y cambios adicionales? ¿Cómo se puede arreglar?]\n",
    "\n",
    "para el dataframe Internet. encontramos la fecha , usuario y cantidad de internet usado. realice un agrupamiento por usuario que me indicara la totalidad de datos consumidos. esta informacion fue grabada en total_internet.alli podemos observar que este tipo de datos para las mg estan como Float. \n",
    "por esta razon la unica correccion que realice fue cambiar por int. para que al realizar la suma diera un valor entero y asi poder cruzar con los megabytes los cuales vienen en entero.\n",
    "por otro lado vemos que la columna session_date  esta como tipo de datos Objet, debe ser modificada por dataframe, de igual manera ingresaremos una nueva columna con nombre month . la cual incluira el mes del uso de los datos por cada usuario."
   ]
  },
  {
   "cell_type": "markdown",
   "metadata": {
    "id": "yA0tkPFg0q1D"
   },
   "source": [
    "### Corregir los datos"
   ]
  },
  {
   "cell_type": "markdown",
   "metadata": {
    "id": "zlZMuIEK0q1D"
   },
   "source": [
    "[Corrige los problemas obvios con los datos basándote en las observaciones iniciales.]"
   ]
  },
  {
   "cell_type": "code",
   "execution_count": 22,
   "metadata": {
    "id": "zVeanzdd0q1E"
   },
   "outputs": [],
   "source": [
    "internet['mb_used'] = internet['mb_used'].astype(float).astype(int)\n",
    "internet['session_date'] = pd.to_datetime(internet['session_date'], format='%Y-%m-%d')\n",
    "internet['month'] = internet['session_date'].dt.month\n",
    "internet['month'] = internet['month'].astype(int).astype(object)"
   ]
  },
  {
   "cell_type": "markdown",
   "metadata": {
    "id": "e8_mLF4a0q1E"
   },
   "source": [
    "### Enriquecer los datos"
   ]
  },
  {
   "cell_type": "markdown",
   "metadata": {
    "id": "xhNdn2tE0q1E"
   },
   "source": [
    "[Agrega factores adicionales a los datos si crees que pudieran ser útiles.]"
   ]
  },
  {
   "cell_type": "code",
   "execution_count": 23,
   "metadata": {
    "id": "ESiYPIEK0q1E"
   },
   "outputs": [
    {
     "data": {
      "text/html": [
       "<div>\n",
       "<style scoped>\n",
       "    .dataframe tbody tr th:only-of-type {\n",
       "        vertical-align: middle;\n",
       "    }\n",
       "\n",
       "    .dataframe tbody tr th {\n",
       "        vertical-align: top;\n",
       "    }\n",
       "\n",
       "    .dataframe thead th {\n",
       "        text-align: right;\n",
       "    }\n",
       "</style>\n",
       "<table border=\"1\" class=\"dataframe\">\n",
       "  <thead>\n",
       "    <tr style=\"text-align: right;\">\n",
       "      <th></th>\n",
       "      <th>id</th>\n",
       "      <th>user_id</th>\n",
       "      <th>session_date</th>\n",
       "      <th>mb_used</th>\n",
       "      <th>month</th>\n",
       "    </tr>\n",
       "  </thead>\n",
       "  <tbody>\n",
       "    <tr>\n",
       "      <th>0</th>\n",
       "      <td>1000_13</td>\n",
       "      <td>1000</td>\n",
       "      <td>2018-12-29</td>\n",
       "      <td>89</td>\n",
       "      <td>12</td>\n",
       "    </tr>\n",
       "    <tr>\n",
       "      <th>1</th>\n",
       "      <td>1000_204</td>\n",
       "      <td>1000</td>\n",
       "      <td>2018-12-31</td>\n",
       "      <td>0</td>\n",
       "      <td>12</td>\n",
       "    </tr>\n",
       "    <tr>\n",
       "      <th>2</th>\n",
       "      <td>1000_379</td>\n",
       "      <td>1000</td>\n",
       "      <td>2018-12-28</td>\n",
       "      <td>660</td>\n",
       "      <td>12</td>\n",
       "    </tr>\n",
       "    <tr>\n",
       "      <th>3</th>\n",
       "      <td>1000_413</td>\n",
       "      <td>1000</td>\n",
       "      <td>2018-12-26</td>\n",
       "      <td>270</td>\n",
       "      <td>12</td>\n",
       "    </tr>\n",
       "    <tr>\n",
       "      <th>4</th>\n",
       "      <td>1000_442</td>\n",
       "      <td>1000</td>\n",
       "      <td>2018-12-27</td>\n",
       "      <td>880</td>\n",
       "      <td>12</td>\n",
       "    </tr>\n",
       "    <tr>\n",
       "      <th>...</th>\n",
       "      <td>...</td>\n",
       "      <td>...</td>\n",
       "      <td>...</td>\n",
       "      <td>...</td>\n",
       "      <td>...</td>\n",
       "    </tr>\n",
       "    <tr>\n",
       "      <th>104820</th>\n",
       "      <td>1499_215</td>\n",
       "      <td>1499</td>\n",
       "      <td>2018-10-20</td>\n",
       "      <td>218</td>\n",
       "      <td>10</td>\n",
       "    </tr>\n",
       "    <tr>\n",
       "      <th>104821</th>\n",
       "      <td>1499_216</td>\n",
       "      <td>1499</td>\n",
       "      <td>2018-12-30</td>\n",
       "      <td>304</td>\n",
       "      <td>12</td>\n",
       "    </tr>\n",
       "    <tr>\n",
       "      <th>104822</th>\n",
       "      <td>1499_217</td>\n",
       "      <td>1499</td>\n",
       "      <td>2018-09-22</td>\n",
       "      <td>292</td>\n",
       "      <td>9</td>\n",
       "    </tr>\n",
       "    <tr>\n",
       "      <th>104823</th>\n",
       "      <td>1499_218</td>\n",
       "      <td>1499</td>\n",
       "      <td>2018-12-07</td>\n",
       "      <td>0</td>\n",
       "      <td>12</td>\n",
       "    </tr>\n",
       "    <tr>\n",
       "      <th>104824</th>\n",
       "      <td>1499_219</td>\n",
       "      <td>1499</td>\n",
       "      <td>2018-12-24</td>\n",
       "      <td>758</td>\n",
       "      <td>12</td>\n",
       "    </tr>\n",
       "  </tbody>\n",
       "</table>\n",
       "<p>104825 rows × 5 columns</p>\n",
       "</div>"
      ],
      "text/plain": [
       "              id  user_id session_date  mb_used month\n",
       "0        1000_13     1000   2018-12-29       89    12\n",
       "1       1000_204     1000   2018-12-31        0    12\n",
       "2       1000_379     1000   2018-12-28      660    12\n",
       "3       1000_413     1000   2018-12-26      270    12\n",
       "4       1000_442     1000   2018-12-27      880    12\n",
       "...          ...      ...          ...      ...   ...\n",
       "104820  1499_215     1499   2018-10-20      218    10\n",
       "104821  1499_216     1499   2018-12-30      304    12\n",
       "104822  1499_217     1499   2018-09-22      292     9\n",
       "104823  1499_218     1499   2018-12-07        0    12\n",
       "104824  1499_219     1499   2018-12-24      758    12\n",
       "\n",
       "[104825 rows x 5 columns]"
      ]
     },
     "execution_count": 23,
     "metadata": {},
     "output_type": "execute_result"
    }
   ],
   "source": [
    "internet"
   ]
  },
  {
   "cell_type": "code",
   "execution_count": 24,
   "metadata": {},
   "outputs": [
    {
     "data": {
      "text/html": [
       "<div>\n",
       "<style scoped>\n",
       "    .dataframe tbody tr th:only-of-type {\n",
       "        vertical-align: middle;\n",
       "    }\n",
       "\n",
       "    .dataframe tbody tr th {\n",
       "        vertical-align: top;\n",
       "    }\n",
       "\n",
       "    .dataframe thead th {\n",
       "        text-align: right;\n",
       "    }\n",
       "</style>\n",
       "<table border=\"1\" class=\"dataframe\">\n",
       "  <thead>\n",
       "    <tr style=\"text-align: right;\">\n",
       "      <th></th>\n",
       "      <th>user_id</th>\n",
       "      <th>plan</th>\n",
       "      <th>city</th>\n",
       "      <th>id</th>\n",
       "      <th>session_date</th>\n",
       "      <th>mb_used</th>\n",
       "      <th>month</th>\n",
       "    </tr>\n",
       "  </thead>\n",
       "  <tbody>\n",
       "    <tr>\n",
       "      <th>0</th>\n",
       "      <td>1000</td>\n",
       "      <td>ultimate</td>\n",
       "      <td>Atlanta-Sandy Springs-Roswell, GA MSA</td>\n",
       "      <td>1000_13</td>\n",
       "      <td>2018-12-29</td>\n",
       "      <td>89</td>\n",
       "      <td>12</td>\n",
       "    </tr>\n",
       "    <tr>\n",
       "      <th>1</th>\n",
       "      <td>1000</td>\n",
       "      <td>ultimate</td>\n",
       "      <td>Atlanta-Sandy Springs-Roswell, GA MSA</td>\n",
       "      <td>1000_204</td>\n",
       "      <td>2018-12-31</td>\n",
       "      <td>0</td>\n",
       "      <td>12</td>\n",
       "    </tr>\n",
       "    <tr>\n",
       "      <th>2</th>\n",
       "      <td>1000</td>\n",
       "      <td>ultimate</td>\n",
       "      <td>Atlanta-Sandy Springs-Roswell, GA MSA</td>\n",
       "      <td>1000_379</td>\n",
       "      <td>2018-12-28</td>\n",
       "      <td>660</td>\n",
       "      <td>12</td>\n",
       "    </tr>\n",
       "    <tr>\n",
       "      <th>3</th>\n",
       "      <td>1000</td>\n",
       "      <td>ultimate</td>\n",
       "      <td>Atlanta-Sandy Springs-Roswell, GA MSA</td>\n",
       "      <td>1000_413</td>\n",
       "      <td>2018-12-26</td>\n",
       "      <td>270</td>\n",
       "      <td>12</td>\n",
       "    </tr>\n",
       "    <tr>\n",
       "      <th>4</th>\n",
       "      <td>1000</td>\n",
       "      <td>ultimate</td>\n",
       "      <td>Atlanta-Sandy Springs-Roswell, GA MSA</td>\n",
       "      <td>1000_442</td>\n",
       "      <td>2018-12-27</td>\n",
       "      <td>880</td>\n",
       "      <td>12</td>\n",
       "    </tr>\n",
       "    <tr>\n",
       "      <th>...</th>\n",
       "      <td>...</td>\n",
       "      <td>...</td>\n",
       "      <td>...</td>\n",
       "      <td>...</td>\n",
       "      <td>...</td>\n",
       "      <td>...</td>\n",
       "      <td>...</td>\n",
       "    </tr>\n",
       "    <tr>\n",
       "      <th>104820</th>\n",
       "      <td>1499</td>\n",
       "      <td>surf</td>\n",
       "      <td>Orlando-Kissimmee-Sanford, FL MSA</td>\n",
       "      <td>1499_215</td>\n",
       "      <td>2018-10-20</td>\n",
       "      <td>218</td>\n",
       "      <td>10</td>\n",
       "    </tr>\n",
       "    <tr>\n",
       "      <th>104821</th>\n",
       "      <td>1499</td>\n",
       "      <td>surf</td>\n",
       "      <td>Orlando-Kissimmee-Sanford, FL MSA</td>\n",
       "      <td>1499_216</td>\n",
       "      <td>2018-12-30</td>\n",
       "      <td>304</td>\n",
       "      <td>12</td>\n",
       "    </tr>\n",
       "    <tr>\n",
       "      <th>104822</th>\n",
       "      <td>1499</td>\n",
       "      <td>surf</td>\n",
       "      <td>Orlando-Kissimmee-Sanford, FL MSA</td>\n",
       "      <td>1499_217</td>\n",
       "      <td>2018-09-22</td>\n",
       "      <td>292</td>\n",
       "      <td>9</td>\n",
       "    </tr>\n",
       "    <tr>\n",
       "      <th>104823</th>\n",
       "      <td>1499</td>\n",
       "      <td>surf</td>\n",
       "      <td>Orlando-Kissimmee-Sanford, FL MSA</td>\n",
       "      <td>1499_218</td>\n",
       "      <td>2018-12-07</td>\n",
       "      <td>0</td>\n",
       "      <td>12</td>\n",
       "    </tr>\n",
       "    <tr>\n",
       "      <th>104824</th>\n",
       "      <td>1499</td>\n",
       "      <td>surf</td>\n",
       "      <td>Orlando-Kissimmee-Sanford, FL MSA</td>\n",
       "      <td>1499_219</td>\n",
       "      <td>2018-12-24</td>\n",
       "      <td>758</td>\n",
       "      <td>12</td>\n",
       "    </tr>\n",
       "  </tbody>\n",
       "</table>\n",
       "<p>104825 rows × 7 columns</p>\n",
       "</div>"
      ],
      "text/plain": [
       "        user_id      plan                                   city        id  \\\n",
       "0          1000  ultimate  Atlanta-Sandy Springs-Roswell, GA MSA   1000_13   \n",
       "1          1000  ultimate  Atlanta-Sandy Springs-Roswell, GA MSA  1000_204   \n",
       "2          1000  ultimate  Atlanta-Sandy Springs-Roswell, GA MSA  1000_379   \n",
       "3          1000  ultimate  Atlanta-Sandy Springs-Roswell, GA MSA  1000_413   \n",
       "4          1000  ultimate  Atlanta-Sandy Springs-Roswell, GA MSA  1000_442   \n",
       "...         ...       ...                                    ...       ...   \n",
       "104820     1499      surf      Orlando-Kissimmee-Sanford, FL MSA  1499_215   \n",
       "104821     1499      surf      Orlando-Kissimmee-Sanford, FL MSA  1499_216   \n",
       "104822     1499      surf      Orlando-Kissimmee-Sanford, FL MSA  1499_217   \n",
       "104823     1499      surf      Orlando-Kissimmee-Sanford, FL MSA  1499_218   \n",
       "104824     1499      surf      Orlando-Kissimmee-Sanford, FL MSA  1499_219   \n",
       "\n",
       "       session_date  mb_used month  \n",
       "0        2018-12-29       89    12  \n",
       "1        2018-12-31        0    12  \n",
       "2        2018-12-28      660    12  \n",
       "3        2018-12-26      270    12  \n",
       "4        2018-12-27      880    12  \n",
       "...             ...      ...   ...  \n",
       "104820   2018-10-20      218    10  \n",
       "104821   2018-12-30      304    12  \n",
       "104822   2018-09-22      292     9  \n",
       "104823   2018-12-07        0    12  \n",
       "104824   2018-12-24      758    12  \n",
       "\n",
       "[104825 rows x 7 columns]"
      ]
     },
     "execution_count": 24,
     "metadata": {},
     "output_type": "execute_result"
    }
   ],
   "source": [
    "internet1=pd.merge( users2 , internet ,  on= \"user_id\", how=\"right\")\n",
    "internet1"
   ]
  },
  {
   "cell_type": "markdown",
   "metadata": {
    "id": "3UA2cqIW0q1E"
   },
   "source": [
    "## Estudiar las condiciones de las tarifas"
   ]
  },
  {
   "cell_type": "markdown",
   "metadata": {
    "id": "T86Sqltq0q1F"
   },
   "source": [
    "[Es sumamente importante entender cómo funcionan las tarifas, cómo se les cobra a los usuarios en función de su plan de suscripción. Así que te sugerimos imprimir la información de la tarifa para ver una vez más sus condiciones.]"
   ]
  },
  {
   "cell_type": "code",
   "execution_count": 25,
   "metadata": {
    "id": "i409op8p0q1F"
   },
   "outputs": [
    {
     "data": {
      "text/html": [
       "<div>\n",
       "<style scoped>\n",
       "    .dataframe tbody tr th:only-of-type {\n",
       "        vertical-align: middle;\n",
       "    }\n",
       "\n",
       "    .dataframe tbody tr th {\n",
       "        vertical-align: top;\n",
       "    }\n",
       "\n",
       "    .dataframe thead th {\n",
       "        text-align: right;\n",
       "    }\n",
       "</style>\n",
       "<table border=\"1\" class=\"dataframe\">\n",
       "  <thead>\n",
       "    <tr style=\"text-align: right;\">\n",
       "      <th></th>\n",
       "      <th>plan</th>\n",
       "      <th>costomensual</th>\n",
       "      <th>minutosmensual</th>\n",
       "      <th>mensajesmensual</th>\n",
       "      <th>gbmensual</th>\n",
       "      <th>minutoadicional</th>\n",
       "      <th>mensajeadicional</th>\n",
       "      <th>GBadicional</th>\n",
       "    </tr>\n",
       "  </thead>\n",
       "  <tbody>\n",
       "    <tr>\n",
       "      <th>surf</th>\n",
       "      <td>surf</td>\n",
       "      <td>20</td>\n",
       "      <td>500</td>\n",
       "      <td>50</td>\n",
       "      <td>15</td>\n",
       "      <td>0.33</td>\n",
       "      <td>0.33</td>\n",
       "      <td>10</td>\n",
       "    </tr>\n",
       "    <tr>\n",
       "      <th>ultimate</th>\n",
       "      <td>ultimate</td>\n",
       "      <td>70</td>\n",
       "      <td>3000</td>\n",
       "      <td>1000</td>\n",
       "      <td>30</td>\n",
       "      <td>0.10</td>\n",
       "      <td>0.10</td>\n",
       "      <td>7</td>\n",
       "    </tr>\n",
       "  </tbody>\n",
       "</table>\n",
       "</div>"
      ],
      "text/plain": [
       "              plan  costomensual  minutosmensual  mensajesmensual  gbmensual  \\\n",
       "surf          surf            20             500               50         15   \n",
       "ultimate  ultimate            70            3000             1000         30   \n",
       "\n",
       "          minutoadicional  mensajeadicional  GBadicional  \n",
       "surf                 0.33              0.33           10  \n",
       "ultimate             0.10              0.10            7  "
      ]
     },
     "metadata": {},
     "output_type": "display_data"
    }
   ],
   "source": [
    "# Imprime las condiciones de la tarifa y asegúrate de que te quedan claras\n",
    "\n",
    "datos= [[\"surf\",20,500,50,15,0.33,0.33,10],\n",
    "        [\"ultimate\",70,3000,1000,30,0.10,0.10,7]]\n",
    "\n",
    "plan = [ \"surf\" , \"ultimate\"]\n",
    "\n",
    "encabezados =[ \"plan\",'costomensual', 'minutosmensual', 'mensajesmensual',\"gbmensual\",\"minutoadicional\",\"mensajeadicional\",\"GBadicional\"]\n",
    "\n",
    "\n",
    "planes = pd.DataFrame(datos , index = plan ,columns=encabezados)\n",
    "\n",
    "display(planes)\n"
   ]
  },
  {
   "cell_type": "markdown",
   "metadata": {
    "id": "hMR1tP5d0q1F"
   },
   "source": [
    "## Agregar datos por usuario\n",
    "\n",
    "[Ahora que los datos están limpios, agrega los datos por usuario y por periodo para que solo haya un registro por usuario y por periodo. Esto facilitará mucho el análisis posterior.]"
   ]
  },
  {
   "cell_type": "code",
   "execution_count": 26,
   "metadata": {
    "id": "A332cedB0q1G"
   },
   "outputs": [
    {
     "data": {
      "text/plain": [
       "user_id  plan      city                                       month\n",
       "1000     ultimate  Atlanta-Sandy Springs-Roswell, GA MSA      12       16\n",
       "1001     surf      Seattle-Tacoma-Bellevue, WA MSA            10       65\n",
       "                                                              11       64\n",
       "                                                              12       56\n",
       "                                                              9        49\n",
       "                                                                       ..\n",
       "1498     surf      New York-Newark-Jersey City, NY-NJ-PA MSA  5        35\n",
       "1499     surf      Orlando-Kissimmee-Sanford, FL MSA          12       65\n",
       "                                                              10       53\n",
       "                                                              11       45\n",
       "                                                              9        41\n",
       "Name: month, Length: 2258, dtype: int64"
      ]
     },
     "metadata": {},
     "output_type": "display_data"
    }
   ],
   "source": [
    "# Calcula el número de llamadas hechas por cada usuario al mes. Guarda el resultado.\n",
    "llamadas_xmes=calls1.groupby([\"user_id\",\"plan\",\"city\"])[\"month\"].value_counts()\n",
    "display(llamadas_xmes)"
   ]
  },
  {
   "cell_type": "code",
   "execution_count": 27,
   "metadata": {
    "id": "aw2cmuql0q1G"
   },
   "outputs": [
    {
     "data": {
      "text/plain": [
       "user_id  plan      month\n",
       "1000     ultimate  12       124\n",
       "1001     surf      8        182\n",
       "                   9        315\n",
       "                   10       393\n",
       "                   11       426\n",
       "                           ... \n",
       "1498     surf      12       339\n",
       "1499     surf      9        346\n",
       "                   10       385\n",
       "                   11       308\n",
       "                   12       496\n",
       "Name: duration, Length: 2258, dtype: int64"
      ]
     },
     "metadata": {},
     "output_type": "display_data"
    }
   ],
   "source": [
    "# Calcula la cantidad de minutos usados por cada usuario al mes. Guarda el resultado.\n",
    "minutos_xmes=calls1.groupby([\"user_id\",\"plan\",\"month\"])[\"duration\"].sum()\n",
    "display(minutos_xmes)"
   ]
  },
  {
   "cell_type": "code",
   "execution_count": 28,
   "metadata": {
    "id": "CcQvNHn60q1G"
   },
   "outputs": [
    {
     "data": {
      "text/plain": [
       "user_id  plan      month\n",
       "1000     ultimate  12       11\n",
       "1001     surf      10       53\n",
       "                   9        44\n",
       "                   12       44\n",
       "                   11       36\n",
       "                            ..\n",
       "1496     surf      10       18\n",
       "                   11       13\n",
       "                   12       11\n",
       "                   8         2\n",
       "1497     ultimate  12       50\n",
       "Name: month, Length: 1806, dtype: int64"
      ]
     },
     "metadata": {},
     "output_type": "display_data"
    }
   ],
   "source": [
    "# Calcula el número de mensajes enviados por cada usuario al mes. Guarda el resultado.\n",
    "mensajes_xmes=messages1.groupby([\"user_id\",\"plan\"])[\"month\"].value_counts()\n",
    "display(mensajes_xmes)\n"
   ]
  },
  {
   "cell_type": "code",
   "execution_count": 29,
   "metadata": {
    "id": "H1AqN2eG0q1H"
   },
   "outputs": [
    {
     "data": {
      "text/plain": [
       "user_id  plan      month\n",
       "1000     ultimate  12        1899\n",
       "1001     surf      8         6908\n",
       "                   9        13294\n",
       "                   10       22308\n",
       "                   11       18477\n",
       "                            ...  \n",
       "1498     surf      12       23106\n",
       "1499     surf      9        12967\n",
       "                   10       19465\n",
       "                   11       16793\n",
       "                   12       22034\n",
       "Name: mb_used, Length: 2277, dtype: int64"
      ]
     },
     "metadata": {},
     "output_type": "display_data"
    }
   ],
   "source": [
    "# Calcula el volumen del tráfico de Internet usado por cada usuario al mes. Guarda el resultado.\n",
    "internet_xmes=internet1.groupby([\"user_id\",\"plan\",\"month\"])[\"mb_used\"].sum()\n",
    "display(internet_xmes)\n"
   ]
  },
  {
   "cell_type": "markdown",
   "metadata": {
    "id": "VDfYXnj80q1H"
   },
   "source": [
    "[Junta los datos agregados en un DataFrame para que haya un registro que represente lo que consumió un usuario único en un mes determinado.]"
   ]
  },
  {
   "cell_type": "code",
   "execution_count": 30,
   "metadata": {
    "id": "FW99ykyf0q1H"
   },
   "outputs": [
    {
     "data": {
      "text/html": [
       "<div>\n",
       "<style scoped>\n",
       "    .dataframe tbody tr th:only-of-type {\n",
       "        vertical-align: middle;\n",
       "    }\n",
       "\n",
       "    .dataframe tbody tr th {\n",
       "        vertical-align: top;\n",
       "    }\n",
       "\n",
       "    .dataframe thead th {\n",
       "        text-align: right;\n",
       "    }\n",
       "</style>\n",
       "<table border=\"1\" class=\"dataframe\">\n",
       "  <thead>\n",
       "    <tr style=\"text-align: right;\">\n",
       "      <th></th>\n",
       "      <th></th>\n",
       "      <th></th>\n",
       "      <th></th>\n",
       "      <th>month_x</th>\n",
       "      <th>duration</th>\n",
       "      <th>month_y</th>\n",
       "      <th>mb_used</th>\n",
       "    </tr>\n",
       "    <tr>\n",
       "      <th>user_id</th>\n",
       "      <th>plan</th>\n",
       "      <th>month</th>\n",
       "      <th>city</th>\n",
       "      <th></th>\n",
       "      <th></th>\n",
       "      <th></th>\n",
       "      <th></th>\n",
       "    </tr>\n",
       "  </thead>\n",
       "  <tbody>\n",
       "    <tr>\n",
       "      <th>1000</th>\n",
       "      <th>ultimate</th>\n",
       "      <th>12</th>\n",
       "      <th>Atlanta-Sandy Springs-Roswell, GA MSA</th>\n",
       "      <td>16</td>\n",
       "      <td>124</td>\n",
       "      <td>11</td>\n",
       "      <td>1899</td>\n",
       "    </tr>\n",
       "    <tr>\n",
       "      <th rowspan=\"4\" valign=\"top\">1001</th>\n",
       "      <th rowspan=\"4\" valign=\"top\">surf</th>\n",
       "      <th>10</th>\n",
       "      <th>Seattle-Tacoma-Bellevue, WA MSA</th>\n",
       "      <td>65</td>\n",
       "      <td>393</td>\n",
       "      <td>53</td>\n",
       "      <td>22308</td>\n",
       "    </tr>\n",
       "    <tr>\n",
       "      <th>11</th>\n",
       "      <th>Seattle-Tacoma-Bellevue, WA MSA</th>\n",
       "      <td>64</td>\n",
       "      <td>426</td>\n",
       "      <td>36</td>\n",
       "      <td>18477</td>\n",
       "    </tr>\n",
       "    <tr>\n",
       "      <th>12</th>\n",
       "      <th>Seattle-Tacoma-Bellevue, WA MSA</th>\n",
       "      <td>56</td>\n",
       "      <td>412</td>\n",
       "      <td>44</td>\n",
       "      <td>19345</td>\n",
       "    </tr>\n",
       "    <tr>\n",
       "      <th>9</th>\n",
       "      <th>Seattle-Tacoma-Bellevue, WA MSA</th>\n",
       "      <td>49</td>\n",
       "      <td>315</td>\n",
       "      <td>44</td>\n",
       "      <td>13294</td>\n",
       "    </tr>\n",
       "    <tr>\n",
       "      <th>...</th>\n",
       "      <th>...</th>\n",
       "      <th>...</th>\n",
       "      <th>...</th>\n",
       "      <td>...</td>\n",
       "      <td>...</td>\n",
       "      <td>...</td>\n",
       "      <td>...</td>\n",
       "    </tr>\n",
       "    <tr>\n",
       "      <th rowspan=\"4\" valign=\"top\">1496</th>\n",
       "      <th rowspan=\"4\" valign=\"top\">surf</th>\n",
       "      <th>10</th>\n",
       "      <th>New Orleans-Metairie, LA MSA</th>\n",
       "      <td>46</td>\n",
       "      <td>317</td>\n",
       "      <td>18</td>\n",
       "      <td>14269</td>\n",
       "    </tr>\n",
       "    <tr>\n",
       "      <th>12</th>\n",
       "      <th>New Orleans-Metairie, LA MSA</th>\n",
       "      <td>40</td>\n",
       "      <td>294</td>\n",
       "      <td>11</td>\n",
       "      <td>16419</td>\n",
       "    </tr>\n",
       "    <tr>\n",
       "      <th>11</th>\n",
       "      <th>New Orleans-Metairie, LA MSA</th>\n",
       "      <td>39</td>\n",
       "      <td>308</td>\n",
       "      <td>13</td>\n",
       "      <td>8535</td>\n",
       "    </tr>\n",
       "    <tr>\n",
       "      <th>8</th>\n",
       "      <th>New Orleans-Metairie, LA MSA</th>\n",
       "      <td>18</td>\n",
       "      <td>122</td>\n",
       "      <td>2</td>\n",
       "      <td>8594</td>\n",
       "    </tr>\n",
       "    <tr>\n",
       "      <th>1497</th>\n",
       "      <th>ultimate</th>\n",
       "      <th>12</th>\n",
       "      <th>Los Angeles-Long Beach-Anaheim, CA MSA</th>\n",
       "      <td>54</td>\n",
       "      <td>300</td>\n",
       "      <td>50</td>\n",
       "      <td>11093</td>\n",
       "    </tr>\n",
       "  </tbody>\n",
       "</table>\n",
       "<p>1759 rows × 4 columns</p>\n",
       "</div>"
      ],
      "text/plain": [
       "                                                               month_x  \\\n",
       "user_id plan     month city                                              \n",
       "1000    ultimate 12    Atlanta-Sandy Springs-Roswell, GA MSA        16   \n",
       "1001    surf     10    Seattle-Tacoma-Bellevue, WA MSA              65   \n",
       "                 11    Seattle-Tacoma-Bellevue, WA MSA              64   \n",
       "                 12    Seattle-Tacoma-Bellevue, WA MSA              56   \n",
       "                 9     Seattle-Tacoma-Bellevue, WA MSA              49   \n",
       "...                                                                ...   \n",
       "1496    surf     10    New Orleans-Metairie, LA MSA                 46   \n",
       "                 12    New Orleans-Metairie, LA MSA                 40   \n",
       "                 11    New Orleans-Metairie, LA MSA                 39   \n",
       "                 8     New Orleans-Metairie, LA MSA                 18   \n",
       "1497    ultimate 12    Los Angeles-Long Beach-Anaheim, CA MSA       54   \n",
       "\n",
       "                                                               duration  \\\n",
       "user_id plan     month city                                               \n",
       "1000    ultimate 12    Atlanta-Sandy Springs-Roswell, GA MSA        124   \n",
       "1001    surf     10    Seattle-Tacoma-Bellevue, WA MSA              393   \n",
       "                 11    Seattle-Tacoma-Bellevue, WA MSA              426   \n",
       "                 12    Seattle-Tacoma-Bellevue, WA MSA              412   \n",
       "                 9     Seattle-Tacoma-Bellevue, WA MSA              315   \n",
       "...                                                                 ...   \n",
       "1496    surf     10    New Orleans-Metairie, LA MSA                 317   \n",
       "                 12    New Orleans-Metairie, LA MSA                 294   \n",
       "                 11    New Orleans-Metairie, LA MSA                 308   \n",
       "                 8     New Orleans-Metairie, LA MSA                 122   \n",
       "1497    ultimate 12    Los Angeles-Long Beach-Anaheim, CA MSA       300   \n",
       "\n",
       "                                                               month_y  \\\n",
       "user_id plan     month city                                              \n",
       "1000    ultimate 12    Atlanta-Sandy Springs-Roswell, GA MSA        11   \n",
       "1001    surf     10    Seattle-Tacoma-Bellevue, WA MSA              53   \n",
       "                 11    Seattle-Tacoma-Bellevue, WA MSA              36   \n",
       "                 12    Seattle-Tacoma-Bellevue, WA MSA              44   \n",
       "                 9     Seattle-Tacoma-Bellevue, WA MSA              44   \n",
       "...                                                                ...   \n",
       "1496    surf     10    New Orleans-Metairie, LA MSA                 18   \n",
       "                 12    New Orleans-Metairie, LA MSA                 11   \n",
       "                 11    New Orleans-Metairie, LA MSA                 13   \n",
       "                 8     New Orleans-Metairie, LA MSA                  2   \n",
       "1497    ultimate 12    Los Angeles-Long Beach-Anaheim, CA MSA       50   \n",
       "\n",
       "                                                               mb_used  \n",
       "user_id plan     month city                                             \n",
       "1000    ultimate 12    Atlanta-Sandy Springs-Roswell, GA MSA      1899  \n",
       "1001    surf     10    Seattle-Tacoma-Bellevue, WA MSA           22308  \n",
       "                 11    Seattle-Tacoma-Bellevue, WA MSA           18477  \n",
       "                 12    Seattle-Tacoma-Bellevue, WA MSA           19345  \n",
       "                 9     Seattle-Tacoma-Bellevue, WA MSA           13294  \n",
       "...                                                                ...  \n",
       "1496    surf     10    New Orleans-Metairie, LA MSA              14269  \n",
       "                 12    New Orleans-Metairie, LA MSA              16419  \n",
       "                 11    New Orleans-Metairie, LA MSA               8535  \n",
       "                 8     New Orleans-Metairie, LA MSA               8594  \n",
       "1497    ultimate 12    Los Angeles-Long Beach-Anaheim, CA MSA    11093  \n",
       "\n",
       "[1759 rows x 4 columns]"
      ]
     },
     "metadata": {},
     "output_type": "display_data"
    }
   ],
   "source": [
    "# Fusiona los datos de llamadas, minutos, mensajes e Internet con base en user_id y month\n",
    "fusion= pd.merge( llamadas_xmes, minutos_xmes,right_index=True,left_index=True)\n",
    "fusion2= pd.merge( fusion, mensajes_xmes ,right_index=True,left_index=True)\n",
    "fusion3 = pd.merge( fusion2, internet_xmes ,right_index=True,left_index=True)\n",
    "display(fusion3)"
   ]
  },
  {
   "cell_type": "code",
   "execution_count": 31,
   "metadata": {
    "scrolled": true
   },
   "outputs": [],
   "source": [
    "fusion3.rename(columns={'month_x':'llamadashechas',\n",
    "                        'duration':'duracionllamadasxmin',\n",
    "                        \"month_y\": \"mensajes_enviados\",\n",
    "                        \"mb_used\":\"megabytes_usadas\"\n",
    "                       \n",
    "                       },\n",
    "               inplace=True)\n",
    "fusion3.reset_index(inplace=True)\n"
   ]
  },
  {
   "cell_type": "code",
   "execution_count": 32,
   "metadata": {
    "id": "0dNOXHag0q1H",
    "scrolled": true
   },
   "outputs": [],
   "source": [
    "# Añade la información de la tarifa\n",
    "Tarifa=fusion3.merge(planes,how=\"left\",on=\"plan\")\n",
    "Tarifa\n",
    "Tarifa[\"GB_usadas\"] = np.ceil(Tarifa[\"megabytes_usadas\"]/1024)\n",
    "\n",
    "Tarifa[\"diferenciaenminutos\"] =Tarifa[\"duracionllamadasxmin\"]-Tarifa[\"minutosmensual\"]    \n",
    "Tarifa[\"diferenciaenminutos\"] = np.where(Tarifa[\"diferenciaenminutos\"]<0,0,Tarifa[\"diferenciaenminutos\"]) \n",
    "Tarifa[\"valoradicionalenminutos\"] =Tarifa[\"diferenciaenminutos\"]*Tarifa[\"minutoadicional\"]\n",
    "Tarifa[\"diferenciaenmsm\"] =Tarifa[\"mensajes_enviados\"]-Tarifa[\"mensajesmensual\"]    \n",
    "Tarifa[\"diferenciaenmsm\"] = np.where(Tarifa[\"diferenciaenmsm\"]<0,0,Tarifa[\"diferenciaenmsm\"])\n",
    "Tarifa[\"valoradicionalenmsm\"] =Tarifa[\"diferenciaenmsm\"]*Tarifa[\"mensajeadicional\"]\n",
    "Tarifa[\"diferenciaengb\"] =Tarifa[\"GB_usadas\"]-Tarifa[\"gbmensual\"]  \n",
    "Tarifa[\"diferenciaengb\"] = np.where(Tarifa[\"diferenciaengb\"]<0,0,Tarifa[\"diferenciaengb\"])\n",
    "Tarifa[\"valoradicionalengb\"] =Tarifa[\"diferenciaengb\"]*Tarifa[\"GBadicional\"]\n",
    "Tarifa[\"Valortotalpagadoporusuario\"] = Tarifa[\"valoradicionalengb\"] + Tarifa[\"valoradicionalenmsm\"] + Tarifa[\"valoradicionalenminutos\"]+ Tarifa[\"costomensual\"]"
   ]
  },
  {
   "cell_type": "code",
   "execution_count": 33,
   "metadata": {},
   "outputs": [
    {
     "data": {
      "text/html": [
       "<div>\n",
       "<style scoped>\n",
       "    .dataframe tbody tr th:only-of-type {\n",
       "        vertical-align: middle;\n",
       "    }\n",
       "\n",
       "    .dataframe tbody tr th {\n",
       "        vertical-align: top;\n",
       "    }\n",
       "\n",
       "    .dataframe thead th {\n",
       "        text-align: right;\n",
       "    }\n",
       "</style>\n",
       "<table border=\"1\" class=\"dataframe\">\n",
       "  <thead>\n",
       "    <tr style=\"text-align: right;\">\n",
       "      <th></th>\n",
       "      <th>user_id</th>\n",
       "      <th>plan</th>\n",
       "      <th>month</th>\n",
       "      <th>city</th>\n",
       "      <th>llamadashechas</th>\n",
       "      <th>duracionllamadasxmin</th>\n",
       "      <th>mensajes_enviados</th>\n",
       "      <th>megabytes_usadas</th>\n",
       "      <th>costomensual</th>\n",
       "      <th>minutosmensual</th>\n",
       "      <th>...</th>\n",
       "      <th>mensajeadicional</th>\n",
       "      <th>GBadicional</th>\n",
       "      <th>GB_usadas</th>\n",
       "      <th>diferenciaenminutos</th>\n",
       "      <th>valoradicionalenminutos</th>\n",
       "      <th>diferenciaenmsm</th>\n",
       "      <th>valoradicionalenmsm</th>\n",
       "      <th>diferenciaengb</th>\n",
       "      <th>valoradicionalengb</th>\n",
       "      <th>Valortotalpagadoporusuario</th>\n",
       "    </tr>\n",
       "  </thead>\n",
       "  <tbody>\n",
       "    <tr>\n",
       "      <th>0</th>\n",
       "      <td>1000</td>\n",
       "      <td>ultimate</td>\n",
       "      <td>12</td>\n",
       "      <td>Atlanta-Sandy Springs-Roswell, GA MSA</td>\n",
       "      <td>16</td>\n",
       "      <td>124</td>\n",
       "      <td>11</td>\n",
       "      <td>1899</td>\n",
       "      <td>70</td>\n",
       "      <td>3000</td>\n",
       "      <td>...</td>\n",
       "      <td>0.10</td>\n",
       "      <td>7</td>\n",
       "      <td>2.0</td>\n",
       "      <td>0</td>\n",
       "      <td>0.0</td>\n",
       "      <td>0</td>\n",
       "      <td>0.00</td>\n",
       "      <td>0.0</td>\n",
       "      <td>0.0</td>\n",
       "      <td>70.00</td>\n",
       "    </tr>\n",
       "    <tr>\n",
       "      <th>1</th>\n",
       "      <td>1001</td>\n",
       "      <td>surf</td>\n",
       "      <td>10</td>\n",
       "      <td>Seattle-Tacoma-Bellevue, WA MSA</td>\n",
       "      <td>65</td>\n",
       "      <td>393</td>\n",
       "      <td>53</td>\n",
       "      <td>22308</td>\n",
       "      <td>20</td>\n",
       "      <td>500</td>\n",
       "      <td>...</td>\n",
       "      <td>0.33</td>\n",
       "      <td>10</td>\n",
       "      <td>22.0</td>\n",
       "      <td>0</td>\n",
       "      <td>0.0</td>\n",
       "      <td>3</td>\n",
       "      <td>0.99</td>\n",
       "      <td>7.0</td>\n",
       "      <td>70.0</td>\n",
       "      <td>90.99</td>\n",
       "    </tr>\n",
       "    <tr>\n",
       "      <th>2</th>\n",
       "      <td>1001</td>\n",
       "      <td>surf</td>\n",
       "      <td>11</td>\n",
       "      <td>Seattle-Tacoma-Bellevue, WA MSA</td>\n",
       "      <td>64</td>\n",
       "      <td>426</td>\n",
       "      <td>36</td>\n",
       "      <td>18477</td>\n",
       "      <td>20</td>\n",
       "      <td>500</td>\n",
       "      <td>...</td>\n",
       "      <td>0.33</td>\n",
       "      <td>10</td>\n",
       "      <td>19.0</td>\n",
       "      <td>0</td>\n",
       "      <td>0.0</td>\n",
       "      <td>0</td>\n",
       "      <td>0.00</td>\n",
       "      <td>4.0</td>\n",
       "      <td>40.0</td>\n",
       "      <td>60.00</td>\n",
       "    </tr>\n",
       "    <tr>\n",
       "      <th>3</th>\n",
       "      <td>1001</td>\n",
       "      <td>surf</td>\n",
       "      <td>12</td>\n",
       "      <td>Seattle-Tacoma-Bellevue, WA MSA</td>\n",
       "      <td>56</td>\n",
       "      <td>412</td>\n",
       "      <td>44</td>\n",
       "      <td>19345</td>\n",
       "      <td>20</td>\n",
       "      <td>500</td>\n",
       "      <td>...</td>\n",
       "      <td>0.33</td>\n",
       "      <td>10</td>\n",
       "      <td>19.0</td>\n",
       "      <td>0</td>\n",
       "      <td>0.0</td>\n",
       "      <td>0</td>\n",
       "      <td>0.00</td>\n",
       "      <td>4.0</td>\n",
       "      <td>40.0</td>\n",
       "      <td>60.00</td>\n",
       "    </tr>\n",
       "    <tr>\n",
       "      <th>4</th>\n",
       "      <td>1001</td>\n",
       "      <td>surf</td>\n",
       "      <td>9</td>\n",
       "      <td>Seattle-Tacoma-Bellevue, WA MSA</td>\n",
       "      <td>49</td>\n",
       "      <td>315</td>\n",
       "      <td>44</td>\n",
       "      <td>13294</td>\n",
       "      <td>20</td>\n",
       "      <td>500</td>\n",
       "      <td>...</td>\n",
       "      <td>0.33</td>\n",
       "      <td>10</td>\n",
       "      <td>13.0</td>\n",
       "      <td>0</td>\n",
       "      <td>0.0</td>\n",
       "      <td>0</td>\n",
       "      <td>0.00</td>\n",
       "      <td>0.0</td>\n",
       "      <td>0.0</td>\n",
       "      <td>20.00</td>\n",
       "    </tr>\n",
       "    <tr>\n",
       "      <th>...</th>\n",
       "      <td>...</td>\n",
       "      <td>...</td>\n",
       "      <td>...</td>\n",
       "      <td>...</td>\n",
       "      <td>...</td>\n",
       "      <td>...</td>\n",
       "      <td>...</td>\n",
       "      <td>...</td>\n",
       "      <td>...</td>\n",
       "      <td>...</td>\n",
       "      <td>...</td>\n",
       "      <td>...</td>\n",
       "      <td>...</td>\n",
       "      <td>...</td>\n",
       "      <td>...</td>\n",
       "      <td>...</td>\n",
       "      <td>...</td>\n",
       "      <td>...</td>\n",
       "      <td>...</td>\n",
       "      <td>...</td>\n",
       "      <td>...</td>\n",
       "    </tr>\n",
       "    <tr>\n",
       "      <th>1754</th>\n",
       "      <td>1496</td>\n",
       "      <td>surf</td>\n",
       "      <td>10</td>\n",
       "      <td>New Orleans-Metairie, LA MSA</td>\n",
       "      <td>46</td>\n",
       "      <td>317</td>\n",
       "      <td>18</td>\n",
       "      <td>14269</td>\n",
       "      <td>20</td>\n",
       "      <td>500</td>\n",
       "      <td>...</td>\n",
       "      <td>0.33</td>\n",
       "      <td>10</td>\n",
       "      <td>14.0</td>\n",
       "      <td>0</td>\n",
       "      <td>0.0</td>\n",
       "      <td>0</td>\n",
       "      <td>0.00</td>\n",
       "      <td>0.0</td>\n",
       "      <td>0.0</td>\n",
       "      <td>20.00</td>\n",
       "    </tr>\n",
       "    <tr>\n",
       "      <th>1755</th>\n",
       "      <td>1496</td>\n",
       "      <td>surf</td>\n",
       "      <td>12</td>\n",
       "      <td>New Orleans-Metairie, LA MSA</td>\n",
       "      <td>40</td>\n",
       "      <td>294</td>\n",
       "      <td>11</td>\n",
       "      <td>16419</td>\n",
       "      <td>20</td>\n",
       "      <td>500</td>\n",
       "      <td>...</td>\n",
       "      <td>0.33</td>\n",
       "      <td>10</td>\n",
       "      <td>17.0</td>\n",
       "      <td>0</td>\n",
       "      <td>0.0</td>\n",
       "      <td>0</td>\n",
       "      <td>0.00</td>\n",
       "      <td>2.0</td>\n",
       "      <td>20.0</td>\n",
       "      <td>40.00</td>\n",
       "    </tr>\n",
       "    <tr>\n",
       "      <th>1756</th>\n",
       "      <td>1496</td>\n",
       "      <td>surf</td>\n",
       "      <td>11</td>\n",
       "      <td>New Orleans-Metairie, LA MSA</td>\n",
       "      <td>39</td>\n",
       "      <td>308</td>\n",
       "      <td>13</td>\n",
       "      <td>8535</td>\n",
       "      <td>20</td>\n",
       "      <td>500</td>\n",
       "      <td>...</td>\n",
       "      <td>0.33</td>\n",
       "      <td>10</td>\n",
       "      <td>9.0</td>\n",
       "      <td>0</td>\n",
       "      <td>0.0</td>\n",
       "      <td>0</td>\n",
       "      <td>0.00</td>\n",
       "      <td>0.0</td>\n",
       "      <td>0.0</td>\n",
       "      <td>20.00</td>\n",
       "    </tr>\n",
       "    <tr>\n",
       "      <th>1757</th>\n",
       "      <td>1496</td>\n",
       "      <td>surf</td>\n",
       "      <td>8</td>\n",
       "      <td>New Orleans-Metairie, LA MSA</td>\n",
       "      <td>18</td>\n",
       "      <td>122</td>\n",
       "      <td>2</td>\n",
       "      <td>8594</td>\n",
       "      <td>20</td>\n",
       "      <td>500</td>\n",
       "      <td>...</td>\n",
       "      <td>0.33</td>\n",
       "      <td>10</td>\n",
       "      <td>9.0</td>\n",
       "      <td>0</td>\n",
       "      <td>0.0</td>\n",
       "      <td>0</td>\n",
       "      <td>0.00</td>\n",
       "      <td>0.0</td>\n",
       "      <td>0.0</td>\n",
       "      <td>20.00</td>\n",
       "    </tr>\n",
       "    <tr>\n",
       "      <th>1758</th>\n",
       "      <td>1497</td>\n",
       "      <td>ultimate</td>\n",
       "      <td>12</td>\n",
       "      <td>Los Angeles-Long Beach-Anaheim, CA MSA</td>\n",
       "      <td>54</td>\n",
       "      <td>300</td>\n",
       "      <td>50</td>\n",
       "      <td>11093</td>\n",
       "      <td>70</td>\n",
       "      <td>3000</td>\n",
       "      <td>...</td>\n",
       "      <td>0.10</td>\n",
       "      <td>7</td>\n",
       "      <td>11.0</td>\n",
       "      <td>0</td>\n",
       "      <td>0.0</td>\n",
       "      <td>0</td>\n",
       "      <td>0.00</td>\n",
       "      <td>0.0</td>\n",
       "      <td>0.0</td>\n",
       "      <td>70.00</td>\n",
       "    </tr>\n",
       "  </tbody>\n",
       "</table>\n",
       "<p>1759 rows × 23 columns</p>\n",
       "</div>"
      ],
      "text/plain": [
       "      user_id      plan  month                                    city  \\\n",
       "0        1000  ultimate     12   Atlanta-Sandy Springs-Roswell, GA MSA   \n",
       "1        1001      surf     10         Seattle-Tacoma-Bellevue, WA MSA   \n",
       "2        1001      surf     11         Seattle-Tacoma-Bellevue, WA MSA   \n",
       "3        1001      surf     12         Seattle-Tacoma-Bellevue, WA MSA   \n",
       "4        1001      surf      9         Seattle-Tacoma-Bellevue, WA MSA   \n",
       "...       ...       ...    ...                                     ...   \n",
       "1754     1496      surf     10            New Orleans-Metairie, LA MSA   \n",
       "1755     1496      surf     12            New Orleans-Metairie, LA MSA   \n",
       "1756     1496      surf     11            New Orleans-Metairie, LA MSA   \n",
       "1757     1496      surf      8            New Orleans-Metairie, LA MSA   \n",
       "1758     1497  ultimate     12  Los Angeles-Long Beach-Anaheim, CA MSA   \n",
       "\n",
       "      llamadashechas  duracionllamadasxmin  mensajes_enviados  \\\n",
       "0                 16                   124                 11   \n",
       "1                 65                   393                 53   \n",
       "2                 64                   426                 36   \n",
       "3                 56                   412                 44   \n",
       "4                 49                   315                 44   \n",
       "...              ...                   ...                ...   \n",
       "1754              46                   317                 18   \n",
       "1755              40                   294                 11   \n",
       "1756              39                   308                 13   \n",
       "1757              18                   122                  2   \n",
       "1758              54                   300                 50   \n",
       "\n",
       "      megabytes_usadas  costomensual  minutosmensual  ...  mensajeadicional  \\\n",
       "0                 1899            70            3000  ...              0.10   \n",
       "1                22308            20             500  ...              0.33   \n",
       "2                18477            20             500  ...              0.33   \n",
       "3                19345            20             500  ...              0.33   \n",
       "4                13294            20             500  ...              0.33   \n",
       "...                ...           ...             ...  ...               ...   \n",
       "1754             14269            20             500  ...              0.33   \n",
       "1755             16419            20             500  ...              0.33   \n",
       "1756              8535            20             500  ...              0.33   \n",
       "1757              8594            20             500  ...              0.33   \n",
       "1758             11093            70            3000  ...              0.10   \n",
       "\n",
       "      GBadicional  GB_usadas  diferenciaenminutos  valoradicionalenminutos  \\\n",
       "0               7        2.0                    0                      0.0   \n",
       "1              10       22.0                    0                      0.0   \n",
       "2              10       19.0                    0                      0.0   \n",
       "3              10       19.0                    0                      0.0   \n",
       "4              10       13.0                    0                      0.0   \n",
       "...           ...        ...                  ...                      ...   \n",
       "1754           10       14.0                    0                      0.0   \n",
       "1755           10       17.0                    0                      0.0   \n",
       "1756           10        9.0                    0                      0.0   \n",
       "1757           10        9.0                    0                      0.0   \n",
       "1758            7       11.0                    0                      0.0   \n",
       "\n",
       "      diferenciaenmsm  valoradicionalenmsm  diferenciaengb  \\\n",
       "0                   0                 0.00             0.0   \n",
       "1                   3                 0.99             7.0   \n",
       "2                   0                 0.00             4.0   \n",
       "3                   0                 0.00             4.0   \n",
       "4                   0                 0.00             0.0   \n",
       "...               ...                  ...             ...   \n",
       "1754                0                 0.00             0.0   \n",
       "1755                0                 0.00             2.0   \n",
       "1756                0                 0.00             0.0   \n",
       "1757                0                 0.00             0.0   \n",
       "1758                0                 0.00             0.0   \n",
       "\n",
       "      valoradicionalengb  Valortotalpagadoporusuario  \n",
       "0                    0.0                       70.00  \n",
       "1                   70.0                       90.99  \n",
       "2                   40.0                       60.00  \n",
       "3                   40.0                       60.00  \n",
       "4                    0.0                       20.00  \n",
       "...                  ...                         ...  \n",
       "1754                 0.0                       20.00  \n",
       "1755                20.0                       40.00  \n",
       "1756                 0.0                       20.00  \n",
       "1757                 0.0                       20.00  \n",
       "1758                 0.0                       70.00  \n",
       "\n",
       "[1759 rows x 23 columns]"
      ]
     },
     "execution_count": 33,
     "metadata": {},
     "output_type": "execute_result"
    }
   ],
   "source": [
    "Tarifa"
   ]
  },
  {
   "cell_type": "markdown",
   "metadata": {
    "id": "1IwGo4wg0q1I"
   },
   "source": [
    "[Calcula los ingresos mensuales por usuario (resta el límite del paquete gratuito del número total de llamadas, mensajes de texto y datos; multiplica el resultado por el valor del plan de llamadas; añade la tarifa mensual en función del plan de llamadas). Nota: Dadas las condiciones del plan, ¡esto podría no ser tan trivial como un par de líneas! Así que no pasa nada si dedicas algo de tiempo a ello.]"
   ]
  },
  {
   "cell_type": "code",
   "execution_count": 34,
   "metadata": {
    "id": "5FGCf_c60q1I"
   },
   "outputs": [
    {
     "data": {
      "text/html": [
       "<div>\n",
       "<style scoped>\n",
       "    .dataframe tbody tr th:only-of-type {\n",
       "        vertical-align: middle;\n",
       "    }\n",
       "\n",
       "    .dataframe tbody tr th {\n",
       "        vertical-align: top;\n",
       "    }\n",
       "\n",
       "    .dataframe thead th {\n",
       "        text-align: right;\n",
       "    }\n",
       "</style>\n",
       "<table border=\"1\" class=\"dataframe\">\n",
       "  <thead>\n",
       "    <tr style=\"text-align: right;\">\n",
       "      <th></th>\n",
       "      <th>month</th>\n",
       "      <th>user_id</th>\n",
       "      <th>plan</th>\n",
       "      <th>Valortotalpagadoporusuario</th>\n",
       "    </tr>\n",
       "  </thead>\n",
       "  <tbody>\n",
       "    <tr>\n",
       "      <th>0</th>\n",
       "      <td>1</td>\n",
       "      <td>1077</td>\n",
       "      <td>ultimate</td>\n",
       "      <td>70.00</td>\n",
       "    </tr>\n",
       "    <tr>\n",
       "      <th>1</th>\n",
       "      <td>1</td>\n",
       "      <td>1196</td>\n",
       "      <td>ultimate</td>\n",
       "      <td>70.00</td>\n",
       "    </tr>\n",
       "    <tr>\n",
       "      <th>2</th>\n",
       "      <td>1</td>\n",
       "      <td>1214</td>\n",
       "      <td>ultimate</td>\n",
       "      <td>70.00</td>\n",
       "    </tr>\n",
       "    <tr>\n",
       "      <th>3</th>\n",
       "      <td>1</td>\n",
       "      <td>1362</td>\n",
       "      <td>surf</td>\n",
       "      <td>20.00</td>\n",
       "    </tr>\n",
       "    <tr>\n",
       "      <th>4</th>\n",
       "      <td>2</td>\n",
       "      <td>1077</td>\n",
       "      <td>ultimate</td>\n",
       "      <td>70.00</td>\n",
       "    </tr>\n",
       "    <tr>\n",
       "      <th>5</th>\n",
       "      <td>2</td>\n",
       "      <td>1099</td>\n",
       "      <td>surf</td>\n",
       "      <td>20.00</td>\n",
       "    </tr>\n",
       "    <tr>\n",
       "      <th>6</th>\n",
       "      <td>2</td>\n",
       "      <td>1138</td>\n",
       "      <td>surf</td>\n",
       "      <td>30.00</td>\n",
       "    </tr>\n",
       "    <tr>\n",
       "      <th>7</th>\n",
       "      <td>2</td>\n",
       "      <td>1155</td>\n",
       "      <td>ultimate</td>\n",
       "      <td>70.00</td>\n",
       "    </tr>\n",
       "    <tr>\n",
       "      <th>8</th>\n",
       "      <td>2</td>\n",
       "      <td>1196</td>\n",
       "      <td>ultimate</td>\n",
       "      <td>70.00</td>\n",
       "    </tr>\n",
       "    <tr>\n",
       "      <th>9</th>\n",
       "      <td>2</td>\n",
       "      <td>1214</td>\n",
       "      <td>ultimate</td>\n",
       "      <td>70.00</td>\n",
       "    </tr>\n",
       "    <tr>\n",
       "      <th>10</th>\n",
       "      <td>2</td>\n",
       "      <td>1246</td>\n",
       "      <td>ultimate</td>\n",
       "      <td>70.00</td>\n",
       "    </tr>\n",
       "    <tr>\n",
       "      <th>11</th>\n",
       "      <td>2</td>\n",
       "      <td>1261</td>\n",
       "      <td>surf</td>\n",
       "      <td>20.00</td>\n",
       "    </tr>\n",
       "    <tr>\n",
       "      <th>12</th>\n",
       "      <td>2</td>\n",
       "      <td>1362</td>\n",
       "      <td>surf</td>\n",
       "      <td>125.27</td>\n",
       "    </tr>\n",
       "    <tr>\n",
       "      <th>13</th>\n",
       "      <td>2</td>\n",
       "      <td>1408</td>\n",
       "      <td>surf</td>\n",
       "      <td>20.00</td>\n",
       "    </tr>\n",
       "    <tr>\n",
       "      <th>14</th>\n",
       "      <td>3</td>\n",
       "      <td>1028</td>\n",
       "      <td>ultimate</td>\n",
       "      <td>112.00</td>\n",
       "    </tr>\n",
       "  </tbody>\n",
       "</table>\n",
       "</div>"
      ],
      "text/plain": [
       "    month  user_id      plan  Valortotalpagadoporusuario\n",
       "0       1     1077  ultimate                       70.00\n",
       "1       1     1196  ultimate                       70.00\n",
       "2       1     1214  ultimate                       70.00\n",
       "3       1     1362      surf                       20.00\n",
       "4       2     1077  ultimate                       70.00\n",
       "5       2     1099      surf                       20.00\n",
       "6       2     1138      surf                       30.00\n",
       "7       2     1155  ultimate                       70.00\n",
       "8       2     1196  ultimate                       70.00\n",
       "9       2     1214  ultimate                       70.00\n",
       "10      2     1246  ultimate                       70.00\n",
       "11      2     1261      surf                       20.00\n",
       "12      2     1362      surf                      125.27\n",
       "13      2     1408      surf                       20.00\n",
       "14      3     1028  ultimate                      112.00"
      ]
     },
     "execution_count": 34,
     "metadata": {},
     "output_type": "execute_result"
    }
   ],
   "source": [
    "# Calcula el ingreso mensual para cada usuario\n",
    "ingresomensualxusuario=Tarifa.groupby([\"month\",\"user_id\",\"plan\"])[\"Valortotalpagadoporusuario\"].sum().reset_index()\n",
    "ingresomensualxusuario.head(15)\n"
   ]
  },
  {
   "cell_type": "markdown",
   "metadata": {},
   "source": [
    "en el dataframe ingresomensualxusuario. podemos ver la cantidad de dinero que pagaron los usuarios por su respectivo plan mensualmente. teniendo en cuenta las gb adicionales, mensajes de texto y minutos que los usuarios gastaron de mas a lo largo del año."
   ]
  },
  {
   "cell_type": "markdown",
   "metadata": {
    "id": "-jtyHzJb0q1I"
   },
   "source": [
    "## Estudia el comportamiento de usuario"
   ]
  },
  {
   "cell_type": "markdown",
   "metadata": {
    "id": "AxU3Y0N70q1J"
   },
   "source": [
    "[Calcula algunas estadísticas descriptivas para los datos agregados y fusionados que nos sean útiles y que muestren un panorama general captado por los datos. Dibuja gráficos útiles para facilitar la comprensión. Dado que la tarea principal es comparar las tarifas y decidir cuál es más rentable, las estadísticas y gráficas deben calcularse por tarifa.]\n",
    "\n",
    "[En los comentarios hallarás pistas relevantes para las llamadas, pero no las hay para los mensajes e Internet. Sin embargo, el principio del estudio estadístico que se aplica para ellos es el mismo que para las llamadas.]"
   ]
  },
  {
   "cell_type": "markdown",
   "metadata": {
    "id": "vtW4CJEe0q1J"
   },
   "source": [
    "### Llamadas"
   ]
  },
  {
   "cell_type": "code",
   "execution_count": 35,
   "metadata": {
    "id": "Jf5v5--k0q1J"
   },
   "outputs": [
    {
     "data": {
      "text/html": [
       "<div>\n",
       "<style scoped>\n",
       "    .dataframe tbody tr th:only-of-type {\n",
       "        vertical-align: middle;\n",
       "    }\n",
       "\n",
       "    .dataframe tbody tr th {\n",
       "        vertical-align: top;\n",
       "    }\n",
       "\n",
       "    .dataframe thead th {\n",
       "        text-align: right;\n",
       "    }\n",
       "</style>\n",
       "<table border=\"1\" class=\"dataframe\">\n",
       "  <thead>\n",
       "    <tr style=\"text-align: right;\">\n",
       "      <th>plan</th>\n",
       "      <th>surf</th>\n",
       "      <th>ultimate</th>\n",
       "    </tr>\n",
       "    <tr>\n",
       "      <th>month</th>\n",
       "      <th></th>\n",
       "      <th></th>\n",
       "    </tr>\n",
       "  </thead>\n",
       "  <tbody>\n",
       "    <tr>\n",
       "      <th>1</th>\n",
       "      <td>292.000000</td>\n",
       "      <td>197.666667</td>\n",
       "    </tr>\n",
       "    <tr>\n",
       "      <th>2</th>\n",
       "      <td>331.200000</td>\n",
       "      <td>486.800000</td>\n",
       "    </tr>\n",
       "    <tr>\n",
       "      <th>3</th>\n",
       "      <td>344.937500</td>\n",
       "      <td>415.285714</td>\n",
       "    </tr>\n",
       "    <tr>\n",
       "      <th>4</th>\n",
       "      <td>366.228571</td>\n",
       "      <td>322.750000</td>\n",
       "    </tr>\n",
       "    <tr>\n",
       "      <th>5</th>\n",
       "      <td>443.981132</td>\n",
       "      <td>410.190476</td>\n",
       "    </tr>\n",
       "    <tr>\n",
       "      <th>6</th>\n",
       "      <td>425.514286</td>\n",
       "      <td>370.918919</td>\n",
       "    </tr>\n",
       "    <tr>\n",
       "      <th>7</th>\n",
       "      <td>452.101124</td>\n",
       "      <td>439.638298</td>\n",
       "    </tr>\n",
       "    <tr>\n",
       "      <th>8</th>\n",
       "      <td>427.873950</td>\n",
       "      <td>436.438596</td>\n",
       "    </tr>\n",
       "    <tr>\n",
       "      <th>9</th>\n",
       "      <td>426.020408</td>\n",
       "      <td>437.591549</td>\n",
       "    </tr>\n",
       "    <tr>\n",
       "      <th>10</th>\n",
       "      <td>442.348066</td>\n",
       "      <td>465.034091</td>\n",
       "    </tr>\n",
       "    <tr>\n",
       "      <th>11</th>\n",
       "      <td>443.954128</td>\n",
       "      <td>464.068627</td>\n",
       "    </tr>\n",
       "    <tr>\n",
       "      <th>12</th>\n",
       "      <td>495.069106</td>\n",
       "      <td>463.296000</td>\n",
       "    </tr>\n",
       "  </tbody>\n",
       "</table>\n",
       "</div>"
      ],
      "text/plain": [
       "plan         surf    ultimate\n",
       "month                        \n",
       "1      292.000000  197.666667\n",
       "2      331.200000  486.800000\n",
       "3      344.937500  415.285714\n",
       "4      366.228571  322.750000\n",
       "5      443.981132  410.190476\n",
       "6      425.514286  370.918919\n",
       "7      452.101124  439.638298\n",
       "8      427.873950  436.438596\n",
       "9      426.020408  437.591549\n",
       "10     442.348066  465.034091\n",
       "11     443.954128  464.068627\n",
       "12     495.069106  463.296000"
      ]
     },
     "execution_count": 35,
     "metadata": {},
     "output_type": "execute_result"
    }
   ],
   "source": [
    "# Compara la duración promedio de llamadas por cada plan y por cada mes. Traza un gráfico de barras para visualizarla.\n",
    "\n",
    "graficobarras = Tarifa.pivot_table(index= \"month\", columns = \"plan\" , values= \"duracionllamadasxmin\")\n",
    "graficobarras\n"
   ]
  },
  {
   "cell_type": "code",
   "execution_count": 36,
   "metadata": {},
   "outputs": [
    {
     "data": {
      "text/plain": [
       "<AxesSubplot:xlabel='month'>"
      ]
     },
     "execution_count": 36,
     "metadata": {},
     "output_type": "execute_result"
    },
    {
     "data": {
      "image/png": "[encoded data removed]",
      "text/plain": [
       "<Figure size 432x288 with 1 Axes>"
      ]
     },
     "metadata": {
      "needs_background": "light"
     },
     "output_type": "display_data"
    }
   ],
   "source": [
    "graficobarras.plot(kind=\"bar\")"
   ]
  },
  {
   "cell_type": "markdown",
   "metadata": {},
   "source": [
    "en la Grafica de barras podemos observar que para el mes de febrero en el plan Ultimate. fue donde mas llamadas en promedio se realizaron por usuario con un promedio de 486 llamadas . y el promedio mas alto para el plan surf fue para Diciembre con un total de 495 llamadas promedio.\n",
    "por otro lado podemos observar que los 500 minutos mensuales que ofrece el plan surf es un buen plan. ya que los usuarios no estan superando en promedio a este valor. por otro lado 3000 minutos es un valor muy elevado para los usuarios de plan ultimate. ya que no utilizan  ni el 16% del total de minutos que ofrece el plan."
   ]
  },
  {
   "cell_type": "code",
   "execution_count": 37,
   "metadata": {
    "id": "QoLqW1S_0q1J",
    "scrolled": true
   },
   "outputs": [
    {
     "data": {
      "text/html": [
       "<div>\n",
       "<style scoped>\n",
       "    .dataframe tbody tr th:only-of-type {\n",
       "        vertical-align: middle;\n",
       "    }\n",
       "\n",
       "    .dataframe tbody tr th {\n",
       "        vertical-align: top;\n",
       "    }\n",
       "\n",
       "    .dataframe thead th {\n",
       "        text-align: right;\n",
       "    }\n",
       "</style>\n",
       "<table border=\"1\" class=\"dataframe\">\n",
       "  <thead>\n",
       "    <tr style=\"text-align: right;\">\n",
       "      <th></th>\n",
       "      <th>plan</th>\n",
       "      <th>surf</th>\n",
       "      <th>ultimate</th>\n",
       "    </tr>\n",
       "    <tr>\n",
       "      <th>user_id</th>\n",
       "      <th>month</th>\n",
       "      <th></th>\n",
       "      <th></th>\n",
       "    </tr>\n",
       "  </thead>\n",
       "  <tbody>\n",
       "    <tr>\n",
       "      <th>1000</th>\n",
       "      <th>12</th>\n",
       "      <td>0.0</td>\n",
       "      <td>124.0</td>\n",
       "    </tr>\n",
       "    <tr>\n",
       "      <th rowspan=\"4\" valign=\"top\">1001</th>\n",
       "      <th>8</th>\n",
       "      <td>182.0</td>\n",
       "      <td>0.0</td>\n",
       "    </tr>\n",
       "    <tr>\n",
       "      <th>9</th>\n",
       "      <td>315.0</td>\n",
       "      <td>0.0</td>\n",
       "    </tr>\n",
       "    <tr>\n",
       "      <th>10</th>\n",
       "      <td>393.0</td>\n",
       "      <td>0.0</td>\n",
       "    </tr>\n",
       "    <tr>\n",
       "      <th>11</th>\n",
       "      <td>426.0</td>\n",
       "      <td>0.0</td>\n",
       "    </tr>\n",
       "    <tr>\n",
       "      <th>...</th>\n",
       "      <th>...</th>\n",
       "      <td>...</td>\n",
       "      <td>...</td>\n",
       "    </tr>\n",
       "    <tr>\n",
       "      <th rowspan=\"4\" valign=\"top\">1496</th>\n",
       "      <th>9</th>\n",
       "      <td>414.0</td>\n",
       "      <td>0.0</td>\n",
       "    </tr>\n",
       "    <tr>\n",
       "      <th>10</th>\n",
       "      <td>317.0</td>\n",
       "      <td>0.0</td>\n",
       "    </tr>\n",
       "    <tr>\n",
       "      <th>11</th>\n",
       "      <td>308.0</td>\n",
       "      <td>0.0</td>\n",
       "    </tr>\n",
       "    <tr>\n",
       "      <th>12</th>\n",
       "      <td>294.0</td>\n",
       "      <td>0.0</td>\n",
       "    </tr>\n",
       "    <tr>\n",
       "      <th>1497</th>\n",
       "      <th>12</th>\n",
       "      <td>0.0</td>\n",
       "      <td>300.0</td>\n",
       "    </tr>\n",
       "  </tbody>\n",
       "</table>\n",
       "<p>1759 rows × 2 columns</p>\n",
       "</div>"
      ],
      "text/plain": [
       "plan            surf  ultimate\n",
       "user_id month                 \n",
       "1000    12       0.0     124.0\n",
       "1001    8      182.0       0.0\n",
       "        9      315.0       0.0\n",
       "        10     393.0       0.0\n",
       "        11     426.0       0.0\n",
       "...              ...       ...\n",
       "1496    9      414.0       0.0\n",
       "        10     317.0       0.0\n",
       "        11     308.0       0.0\n",
       "        12     294.0       0.0\n",
       "1497    12       0.0     300.0\n",
       "\n",
       "[1759 rows x 2 columns]"
      ]
     },
     "execution_count": 37,
     "metadata": {},
     "output_type": "execute_result"
    }
   ],
   "source": [
    "# Compara el número de minutos mensuales que necesitan los usuarios de cada plan. Traza un histograma.\n",
    "\n",
    "graficohist= Tarifa.pivot(index= [\"user_id\", \"month\"], columns = \"plan\" , values= \"duracionllamadasxmin\")\n",
    "graficohist.reset_index()\n",
    "graficohist.fillna(0)"
   ]
  },
  {
   "cell_type": "code",
   "execution_count": 38,
   "metadata": {},
   "outputs": [
    {
     "data": {
      "text/plain": [
       "array([[<AxesSubplot:title={'center':'surf'}>,\n",
       "        <AxesSubplot:title={'center':'ultimate'}>]], dtype=object)"
      ]
     },
     "execution_count": 38,
     "metadata": {},
     "output_type": "execute_result"
    },
    {
     "data": {
      "image/png": "[encoded data removed]",
      "text/plain": [
       "<Figure size 432x288 with 2 Axes>"
      ]
     },
     "metadata": {
      "needs_background": "light"
     },
     "output_type": "display_data"
    }
   ],
   "source": [
    "graficohist.hist()"
   ]
  },
  {
   "cell_type": "markdown",
   "metadata": {},
   "source": [
    "podemos observar que para el plan surf el histograma se centra en 500 minutos hacia atras, lo cual indica que los usuarios que tienen este plan utilizan con mayor frecuencia la cantidad de minutos que el plan contiene. al contrario podemos observar que ultimate contiene un consumo superando los 550 minutos. peo ese es su punto maximo, teniendo en cuenta que este plan es de 3000 minutos, podemos observar que los usuarios que tienen este plan no disfrutan en su totalidad la cantidad de minutos comprado en el plan."
   ]
  },
  {
   "cell_type": "markdown",
   "metadata": {
    "id": "bLS9T8OH0q1K"
   },
   "source": [
    "[Calcula la media y la variable de la duración de las llamadas para averiguar si los usuarios de los distintos planes se comportan de forma diferente al realizar sus llamadas.]"
   ]
  },
  {
   "cell_type": "code",
   "execution_count": 39,
   "metadata": {
    "id": "oSndbAnt0q1K"
   },
   "outputs": [
    {
     "data": {
      "text/plain": [
       "('media es igual a',\n",
       " plan\n",
       " surf        445.775424\n",
       " ultimate    442.512953\n",
       " dtype: float64)"
      ]
     },
     "execution_count": 39,
     "metadata": {},
     "output_type": "execute_result"
    }
   ],
   "source": [
    "# Calcula la media y la varianza de la duración mensual de llamadas.\n",
    "media = graficohist.mean()\n",
    "\n",
    "f\"media es igual a\", media\n"
   ]
  },
  {
   "cell_type": "markdown",
   "metadata": {},
   "source": [
    "al realizar la media de llamadas por minuto para los dos planes , podemos concluir que hay una similitud muy parecida en el numero de minutos consumidos por usuarios de cada plan. para surf la media de minutos utilizados es de 445 minutos y para el plan ultimate es de 442 Minutos."
   ]
  },
  {
   "cell_type": "code",
   "execution_count": 40,
   "metadata": {},
   "outputs": [
    {
     "data": {
      "text/plain": [
       "('variance es igual a',\n",
       " plan\n",
       " surf        235.105360\n",
       " ultimate    249.360822\n",
       " dtype: float64)"
      ]
     },
     "execution_count": 40,
     "metadata": {},
     "output_type": "execute_result"
    }
   ],
   "source": [
    "variance = np.std(graficohist)\n",
    "f\"variance es igual a\", variance"
   ]
  },
  {
   "cell_type": "markdown",
   "metadata": {},
   "source": [
    "la dispercion de datos con respecto a la media para surf es de 235 minutos y para ultimate 249 monitos"
   ]
  },
  {
   "cell_type": "code",
   "execution_count": 41,
   "metadata": {
    "id": "nZzoRUKc0q1K"
   },
   "outputs": [
    {
     "data": {
      "image/png": "[encoded data removed]",
      "text/plain": [
       "<Figure size 432x288 with 1 Axes>"
      ]
     },
     "metadata": {
      "needs_background": "light"
     },
     "output_type": "display_data"
    },
    {
     "data": {
      "image/png": "[encoded data removed]",
      "text/plain": [
       "<Figure size 432x288 with 1 Axes>"
      ]
     },
     "metadata": {
      "needs_background": "light"
     },
     "output_type": "display_data"
    }
   ],
   "source": [
    "# Traza un diagrama de caja para visualizar la distribución de la duración mensual de llamadas\n",
    "caja = Tarifa.pivot_table(index= \"month\", columns = \"plan\" , values= \"duracionllamadasxmin\")\n",
    "caja['surf'] = caja['surf'].astype(float).astype(int)\n",
    "caja['ultimate'] = caja['ultimate'].astype(float).astype(int)\n",
    "sns.boxplot(y= caja[\"surf\"]);\n",
    "plt.show()\n",
    "sns.boxplot(y=  caja[\"ultimate\"]);\n",
    "plt.show()\n"
   ]
  },
  {
   "cell_type": "markdown",
   "metadata": {
    "id": "r627zBO50q1K"
   },
   "source": [
    "[Elabora las conclusiones sobre el comportamiento de los usuarios con respecto a las llamadas. ¿Su comportamiento varía en función del plan?]\n",
    "\n",
    "Podemos observar la distribucion de los valores en minutos por cada plan. miramos que para el plan Ultimate los usuarios estan utilizando entre 400 a 450 minutos por mes. y para el plan Surf el rango se comprenden entre 370 a 440 minutos.\n",
    " \n",
    "por otro lado el Plan surf la mayor proporcion de muestra se centra entre 370 a 425 minutos por usuario. es decir que este es el rango en el cual los usuarios tienden en promedio a utilizar minutos mensualmente.\n",
    "\n",
    "con el diagrama de Bigotes podemos observar la distribuccion de los valores no atipicos. es decir vemos la cantidad de minutos que mas se genero por usuario. donde los datos mas se centraron para cada uno de los planes. \n"
   ]
  },
  {
   "cell_type": "markdown",
   "metadata": {},
   "source": [
    "<div class=\"alert alert-success\">\n",
    "<b>✔️  Comentario del revisor:</b> Buen trabajo.</div>"
   ]
  },
  {
   "cell_type": "markdown",
   "metadata": {
    "id": "8idKy8Wh0q1L"
   },
   "source": [
    "### Mensajes"
   ]
  },
  {
   "cell_type": "code",
   "execution_count": 42,
   "metadata": {
    "id": "NXLxiTit0q1L"
   },
   "outputs": [
    {
     "data": {
      "text/html": [
       "<div>\n",
       "<style scoped>\n",
       "    .dataframe tbody tr th:only-of-type {\n",
       "        vertical-align: middle;\n",
       "    }\n",
       "\n",
       "    .dataframe tbody tr th {\n",
       "        vertical-align: top;\n",
       "    }\n",
       "\n",
       "    .dataframe thead th {\n",
       "        text-align: right;\n",
       "    }\n",
       "</style>\n",
       "<table border=\"1\" class=\"dataframe\">\n",
       "  <thead>\n",
       "    <tr style=\"text-align: right;\">\n",
       "      <th></th>\n",
       "      <th>plan</th>\n",
       "      <th>month</th>\n",
       "      <th>mensajes_enviados</th>\n",
       "    </tr>\n",
       "  </thead>\n",
       "  <tbody>\n",
       "    <tr>\n",
       "      <th>0</th>\n",
       "      <td>surf</td>\n",
       "      <td>1</td>\n",
       "      <td>21</td>\n",
       "    </tr>\n",
       "    <tr>\n",
       "      <th>1</th>\n",
       "      <td>surf</td>\n",
       "      <td>2</td>\n",
       "      <td>108</td>\n",
       "    </tr>\n",
       "    <tr>\n",
       "      <th>2</th>\n",
       "      <td>surf</td>\n",
       "      <td>3</td>\n",
       "      <td>351</td>\n",
       "    </tr>\n",
       "    <tr>\n",
       "      <th>3</th>\n",
       "      <td>surf</td>\n",
       "      <td>4</td>\n",
       "      <td>864</td>\n",
       "    </tr>\n",
       "    <tr>\n",
       "      <th>4</th>\n",
       "      <td>surf</td>\n",
       "      <td>5</td>\n",
       "      <td>1778</td>\n",
       "    </tr>\n",
       "    <tr>\n",
       "      <th>5</th>\n",
       "      <td>surf</td>\n",
       "      <td>6</td>\n",
       "      <td>2292</td>\n",
       "    </tr>\n",
       "    <tr>\n",
       "      <th>6</th>\n",
       "      <td>surf</td>\n",
       "      <td>7</td>\n",
       "      <td>3096</td>\n",
       "    </tr>\n",
       "    <tr>\n",
       "      <th>7</th>\n",
       "      <td>surf</td>\n",
       "      <td>8</td>\n",
       "      <td>4439</td>\n",
       "    </tr>\n",
       "    <tr>\n",
       "      <th>8</th>\n",
       "      <td>surf</td>\n",
       "      <td>9</td>\n",
       "      <td>5672</td>\n",
       "    </tr>\n",
       "    <tr>\n",
       "      <th>9</th>\n",
       "      <td>surf</td>\n",
       "      <td>10</td>\n",
       "      <td>7507</td>\n",
       "    </tr>\n",
       "    <tr>\n",
       "      <th>10</th>\n",
       "      <td>surf</td>\n",
       "      <td>11</td>\n",
       "      <td>8739</td>\n",
       "    </tr>\n",
       "    <tr>\n",
       "      <th>11</th>\n",
       "      <td>surf</td>\n",
       "      <td>12</td>\n",
       "      <td>11731</td>\n",
       "    </tr>\n",
       "    <tr>\n",
       "      <th>12</th>\n",
       "      <td>ultimate</td>\n",
       "      <td>1</td>\n",
       "      <td>62</td>\n",
       "    </tr>\n",
       "    <tr>\n",
       "      <th>13</th>\n",
       "      <td>ultimate</td>\n",
       "      <td>2</td>\n",
       "      <td>139</td>\n",
       "    </tr>\n",
       "    <tr>\n",
       "      <th>14</th>\n",
       "      <td>ultimate</td>\n",
       "      <td>3</td>\n",
       "      <td>243</td>\n",
       "    </tr>\n",
       "    <tr>\n",
       "      <th>15</th>\n",
       "      <td>ultimate</td>\n",
       "      <td>4</td>\n",
       "      <td>463</td>\n",
       "    </tr>\n",
       "    <tr>\n",
       "      <th>16</th>\n",
       "      <td>ultimate</td>\n",
       "      <td>5</td>\n",
       "      <td>931</td>\n",
       "    </tr>\n",
       "    <tr>\n",
       "      <th>17</th>\n",
       "      <td>ultimate</td>\n",
       "      <td>6</td>\n",
       "      <td>1374</td>\n",
       "    </tr>\n",
       "    <tr>\n",
       "      <th>18</th>\n",
       "      <td>ultimate</td>\n",
       "      <td>7</td>\n",
       "      <td>1937</td>\n",
       "    </tr>\n",
       "    <tr>\n",
       "      <th>19</th>\n",
       "      <td>ultimate</td>\n",
       "      <td>8</td>\n",
       "      <td>2732</td>\n",
       "    </tr>\n",
       "    <tr>\n",
       "      <th>20</th>\n",
       "      <td>ultimate</td>\n",
       "      <td>9</td>\n",
       "      <td>3259</td>\n",
       "    </tr>\n",
       "    <tr>\n",
       "      <th>21</th>\n",
       "      <td>ultimate</td>\n",
       "      <td>10</td>\n",
       "      <td>4179</td>\n",
       "    </tr>\n",
       "    <tr>\n",
       "      <th>22</th>\n",
       "      <td>ultimate</td>\n",
       "      <td>11</td>\n",
       "      <td>4861</td>\n",
       "    </tr>\n",
       "    <tr>\n",
       "      <th>23</th>\n",
       "      <td>ultimate</td>\n",
       "      <td>12</td>\n",
       "      <td>6718</td>\n",
       "    </tr>\n",
       "  </tbody>\n",
       "</table>\n",
       "</div>"
      ],
      "text/plain": [
       "        plan  month  mensajes_enviados\n",
       "0       surf      1                 21\n",
       "1       surf      2                108\n",
       "2       surf      3                351\n",
       "3       surf      4                864\n",
       "4       surf      5               1778\n",
       "5       surf      6               2292\n",
       "6       surf      7               3096\n",
       "7       surf      8               4439\n",
       "8       surf      9               5672\n",
       "9       surf     10               7507\n",
       "10      surf     11               8739\n",
       "11      surf     12              11731\n",
       "12  ultimate      1                 62\n",
       "13  ultimate      2                139\n",
       "14  ultimate      3                243\n",
       "15  ultimate      4                463\n",
       "16  ultimate      5                931\n",
       "17  ultimate      6               1374\n",
       "18  ultimate      7               1937\n",
       "19  ultimate      8               2732\n",
       "20  ultimate      9               3259\n",
       "21  ultimate     10               4179\n",
       "22  ultimate     11               4861\n",
       "23  ultimate     12               6718"
      ]
     },
     "execution_count": 42,
     "metadata": {},
     "output_type": "execute_result"
    }
   ],
   "source": [
    "# Comprara el número de mensajes que tienden a enviar cada mes los usuarios de cada plan\n",
    "msnmensualesxplan=Tarifa.groupby([\"plan\",\"month\"])[\"mensajes_enviados\"].sum()\n",
    "msnmensualesxplan=msnmensualesxplan.reset_index()\n",
    "msnmensualesxplan\n"
   ]
  },
  {
   "cell_type": "code",
   "execution_count": 43,
   "metadata": {
    "id": "GRI_R7xF0q1L"
   },
   "outputs": [
    {
     "data": {
      "text/html": [
       "<div>\n",
       "<style scoped>\n",
       "    .dataframe tbody tr th:only-of-type {\n",
       "        vertical-align: middle;\n",
       "    }\n",
       "\n",
       "    .dataframe tbody tr th {\n",
       "        vertical-align: top;\n",
       "    }\n",
       "\n",
       "    .dataframe thead th {\n",
       "        text-align: right;\n",
       "    }\n",
       "</style>\n",
       "<table border=\"1\" class=\"dataframe\">\n",
       "  <thead>\n",
       "    <tr style=\"text-align: right;\">\n",
       "      <th></th>\n",
       "      <th>plan</th>\n",
       "      <th>GB_usadas</th>\n",
       "    </tr>\n",
       "  </thead>\n",
       "  <tbody>\n",
       "    <tr>\n",
       "      <th>0</th>\n",
       "      <td>surf</td>\n",
       "      <td>19742.0</td>\n",
       "    </tr>\n",
       "    <tr>\n",
       "      <th>1</th>\n",
       "      <td>ultimate</td>\n",
       "      <td>10030.0</td>\n",
       "    </tr>\n",
       "  </tbody>\n",
       "</table>\n",
       "</div>"
      ],
      "text/plain": [
       "       plan  GB_usadas\n",
       "0      surf    19742.0\n",
       "1  ultimate    10030.0"
      ]
     },
     "execution_count": 43,
     "metadata": {},
     "output_type": "execute_result"
    }
   ],
   "source": [
    "# Compara la cantidad de tráfico de Internet consumido por usuarios por plan\n",
    "gbmensualesxplan=Tarifa.groupby([\"plan\"])[\"GB_usadas\"].sum()\n",
    "gbmensualesxplan=gbmensualesxplan.reset_index()\n",
    "gbmensualesxplan\n"
   ]
  },
  {
   "cell_type": "code",
   "execution_count": 44,
   "metadata": {},
   "outputs": [
    {
     "data": {
      "text/plain": [
       "14886.0"
      ]
     },
     "execution_count": 44,
     "metadata": {},
     "output_type": "execute_result"
    }
   ],
   "source": [
    "media2 = gbmensualesxplan[\"GB_usadas\"].mean()\n",
    "media2"
   ]
  },
  {
   "cell_type": "markdown",
   "metadata": {
    "id": "dtFwCGAp0q1M"
   },
   "source": [
    "podemos concluir que los usuarios que mas utlizan internet anualmente .son los usuarios de plan Surf. es importante recalcar que este plan es el plan mas basico.que solo cuenta con 15 Gb mensuales por usuario. lo cual nos indica que es probable que en este plan se hayan generado bastante consumo adicional de Gb mensuales."
   ]
  },
  {
   "cell_type": "markdown",
   "metadata": {
    "id": "390SSL480q1M"
   },
   "source": [
    "[Elabora las conclusiones sobre el comportamiento de los usuarios con respecto a los mensajes. ¿Su comportamiento varía en función del plan?]"
   ]
  },
  {
   "cell_type": "markdown",
   "metadata": {
    "id": "42YSypXz0q1M"
   },
   "source": [
    "### Internet"
   ]
  },
  {
   "cell_type": "code",
   "execution_count": 45,
   "metadata": {
    "id": "lSuKPtjh0q1M"
   },
   "outputs": [
    {
     "data": {
      "text/html": [
       "<div>\n",
       "<style scoped>\n",
       "    .dataframe tbody tr th:only-of-type {\n",
       "        vertical-align: middle;\n",
       "    }\n",
       "\n",
       "    .dataframe tbody tr th {\n",
       "        vertical-align: top;\n",
       "    }\n",
       "\n",
       "    .dataframe thead th {\n",
       "        text-align: right;\n",
       "    }\n",
       "</style>\n",
       "<table border=\"1\" class=\"dataframe\">\n",
       "  <thead>\n",
       "    <tr style=\"text-align: right;\">\n",
       "      <th>plan</th>\n",
       "      <th>surf</th>\n",
       "      <th>ultimate</th>\n",
       "    </tr>\n",
       "    <tr>\n",
       "      <th>month</th>\n",
       "      <th></th>\n",
       "      <th></th>\n",
       "    </tr>\n",
       "  </thead>\n",
       "  <tbody>\n",
       "    <tr>\n",
       "      <th>1</th>\n",
       "      <td>0.0</td>\n",
       "      <td>0.0</td>\n",
       "    </tr>\n",
       "    <tr>\n",
       "      <th>2</th>\n",
       "      <td>1.0</td>\n",
       "      <td>0.0</td>\n",
       "    </tr>\n",
       "    <tr>\n",
       "      <th>3</th>\n",
       "      <td>28.0</td>\n",
       "      <td>8.0</td>\n",
       "    </tr>\n",
       "    <tr>\n",
       "      <th>4</th>\n",
       "      <td>67.0</td>\n",
       "      <td>7.0</td>\n",
       "    </tr>\n",
       "    <tr>\n",
       "      <th>5</th>\n",
       "      <td>150.0</td>\n",
       "      <td>3.0</td>\n",
       "    </tr>\n",
       "    <tr>\n",
       "      <th>6</th>\n",
       "      <td>212.0</td>\n",
       "      <td>10.0</td>\n",
       "    </tr>\n",
       "    <tr>\n",
       "      <th>7</th>\n",
       "      <td>348.0</td>\n",
       "      <td>16.0</td>\n",
       "    </tr>\n",
       "    <tr>\n",
       "      <th>8</th>\n",
       "      <td>504.0</td>\n",
       "      <td>20.0</td>\n",
       "    </tr>\n",
       "    <tr>\n",
       "      <th>9</th>\n",
       "      <td>518.0</td>\n",
       "      <td>13.0</td>\n",
       "    </tr>\n",
       "    <tr>\n",
       "      <th>10</th>\n",
       "      <td>777.0</td>\n",
       "      <td>27.0</td>\n",
       "    </tr>\n",
       "    <tr>\n",
       "      <th>11</th>\n",
       "      <td>759.0</td>\n",
       "      <td>31.0</td>\n",
       "    </tr>\n",
       "    <tr>\n",
       "      <th>12</th>\n",
       "      <td>1118.0</td>\n",
       "      <td>49.0</td>\n",
       "    </tr>\n",
       "  </tbody>\n",
       "</table>\n",
       "</div>"
      ],
      "text/plain": [
       "plan     surf  ultimate\n",
       "month                  \n",
       "1         0.0       0.0\n",
       "2         1.0       0.0\n",
       "3        28.0       8.0\n",
       "4        67.0       7.0\n",
       "5       150.0       3.0\n",
       "6       212.0      10.0\n",
       "7       348.0      16.0\n",
       "8       504.0      20.0\n",
       "9       518.0      13.0\n",
       "10      777.0      27.0\n",
       "11      759.0      31.0\n",
       "12     1118.0      49.0"
      ]
     },
     "execution_count": 45,
     "metadata": {},
     "output_type": "execute_result"
    }
   ],
   "source": [
    "adicional_internet = Tarifa.pivot_table(index= \"month\", columns = \"plan\" , values= \"diferenciaengb\",aggfunc=\"sum\")\n",
    "adicional_internet"
   ]
  },
  {
   "cell_type": "markdown",
   "metadata": {
    "id": "wnh8jYXi0q1N"
   },
   "source": [
    "podemos observar que las los usuarios del plan surft fueron los que mas consumo adicional de internet en Gb tubieron a lo largo del año, esto se debe a que el plan surf solo tiene 15 GB de datos mensuales, podemos ibservar que para el mes 12 la cantidad de gigas adicionales fue de 1.118 gb lo cual es demasiado. estas 1.118 gb adicionales para diciembre significaron una facturacion adicional de 11.118 usd para este periodo por el plan surf, en definitiva podemos observar que los consumos de internet adcional generan un buen ingreso para los planes surf"
   ]
  },
  {
   "cell_type": "markdown",
   "metadata": {
    "id": "UN9zwuMP0q1N"
   },
   "source": [
    "[Elabora las conclusiones sobre cómo los usuarios tienden a consumir el tráfico de Internet. ¿Su comportamiento varía en función del plan?]"
   ]
  },
  {
   "cell_type": "markdown",
   "metadata": {
    "id": "tCijq3260q1N"
   },
   "source": [
    "## Ingreso"
   ]
  },
  {
   "cell_type": "markdown",
   "metadata": {
    "id": "9nq5IAcy0q1O"
   },
   "source": [
    "[Del mismo modo que has estudiado el comportamiento de los usuarios, describe estadísticamente los ingresos de los planes.]"
   ]
  },
  {
   "cell_type": "code",
   "execution_count": 46,
   "metadata": {
    "id": "tz-dq_V00q1O"
   },
   "outputs": [
    {
     "data": {
      "text/html": [
       "<div>\n",
       "<style scoped>\n",
       "    .dataframe tbody tr th:only-of-type {\n",
       "        vertical-align: middle;\n",
       "    }\n",
       "\n",
       "    .dataframe tbody tr th {\n",
       "        vertical-align: top;\n",
       "    }\n",
       "\n",
       "    .dataframe thead th {\n",
       "        text-align: right;\n",
       "    }\n",
       "</style>\n",
       "<table border=\"1\" class=\"dataframe\">\n",
       "  <thead>\n",
       "    <tr style=\"text-align: right;\">\n",
       "      <th>plan</th>\n",
       "      <th>surf</th>\n",
       "      <th>ultimate</th>\n",
       "    </tr>\n",
       "    <tr>\n",
       "      <th>month</th>\n",
       "      <th></th>\n",
       "      <th></th>\n",
       "    </tr>\n",
       "  </thead>\n",
       "  <tbody>\n",
       "    <tr>\n",
       "      <th>1</th>\n",
       "      <td>20.00</td>\n",
       "      <td>210.0</td>\n",
       "    </tr>\n",
       "    <tr>\n",
       "      <th>2</th>\n",
       "      <td>215.27</td>\n",
       "      <td>350.0</td>\n",
       "    </tr>\n",
       "    <tr>\n",
       "      <th>3</th>\n",
       "      <td>783.15</td>\n",
       "      <td>546.0</td>\n",
       "    </tr>\n",
       "    <tr>\n",
       "      <th>4</th>\n",
       "      <td>1927.70</td>\n",
       "      <td>1169.0</td>\n",
       "    </tr>\n",
       "    <tr>\n",
       "      <th>5</th>\n",
       "      <td>3939.73</td>\n",
       "      <td>1491.0</td>\n",
       "    </tr>\n",
       "    <tr>\n",
       "      <th>6</th>\n",
       "      <td>4902.37</td>\n",
       "      <td>2660.0</td>\n",
       "    </tr>\n",
       "    <tr>\n",
       "      <th>7</th>\n",
       "      <td>7688.47</td>\n",
       "      <td>3402.0</td>\n",
       "    </tr>\n",
       "    <tr>\n",
       "      <th>8</th>\n",
       "      <td>10077.49</td>\n",
       "      <td>4130.0</td>\n",
       "    </tr>\n",
       "    <tr>\n",
       "      <th>9</th>\n",
       "      <td>10957.34</td>\n",
       "      <td>5061.0</td>\n",
       "    </tr>\n",
       "    <tr>\n",
       "      <th>10</th>\n",
       "      <td>15808.37</td>\n",
       "      <td>6349.0</td>\n",
       "    </tr>\n",
       "    <tr>\n",
       "      <th>11</th>\n",
       "      <td>17135.62</td>\n",
       "      <td>7357.0</td>\n",
       "    </tr>\n",
       "    <tr>\n",
       "      <th>12</th>\n",
       "      <td>24672.08</td>\n",
       "      <td>9093.0</td>\n",
       "    </tr>\n",
       "  </tbody>\n",
       "</table>\n",
       "</div>"
      ],
      "text/plain": [
       "plan       surf  ultimate\n",
       "month                    \n",
       "1         20.00     210.0\n",
       "2        215.27     350.0\n",
       "3        783.15     546.0\n",
       "4       1927.70    1169.0\n",
       "5       3939.73    1491.0\n",
       "6       4902.37    2660.0\n",
       "7       7688.47    3402.0\n",
       "8      10077.49    4130.0\n",
       "9      10957.34    5061.0\n",
       "10     15808.37    6349.0\n",
       "11     17135.62    7357.0\n",
       "12     24672.08    9093.0"
      ]
     },
     "execution_count": 46,
     "metadata": {},
     "output_type": "execute_result"
    }
   ],
   "source": [
    "graficoingresos = ingresomensualxusuario.pivot_table(index= \"month\", columns = \"plan\" , values= \"Valortotalpagadoporusuario\",aggfunc=\"sum\")\n",
    "graficoingresos"
   ]
  },
  {
   "cell_type": "code",
   "execution_count": 47,
   "metadata": {
    "id": "0Y1v8ZUz0q1P"
   },
   "outputs": [
    {
     "data": {
      "text/plain": [
       "<AxesSubplot:xlabel='month'>"
      ]
     },
     "execution_count": 47,
     "metadata": {},
     "output_type": "execute_result"
    },
    {
     "data": {
      "image/png": "[encoded data removed]",
      "text/plain": [
       "<Figure size 432x288 with 1 Axes>"
      ]
     },
     "metadata": {
      "needs_background": "light"
     },
     "output_type": "display_data"
    }
   ],
   "source": [
    "graficoingresos.plot(kind=\"bar\")"
   ]
  },
  {
   "cell_type": "markdown",
   "metadata": {
    "id": "bYmwxyVh0q1P"
   },
   "source": [
    "podemos observar que los Mayores ingresos se presenta en el plan surf. el cual para el mes de diciembre se tubo el mayor ingreso con 24.672 usd y para la el mismo periodo para el plan ultimate se recaudo 9093 usd. es decir que el valor recaudado por ultimate para el mes de diciembre corresponde al 36% del valor que Surf recaudo para el mismo periodo.\t"
   ]
  },
  {
   "cell_type": "code",
   "execution_count": 48,
   "metadata": {},
   "outputs": [
    {
     "data": {
      "text/plain": [
       "plan\n",
       "surf        98127.59\n",
       "ultimate    41818.00\n",
       "dtype: float64"
      ]
     },
     "metadata": {},
     "output_type": "display_data"
    }
   ],
   "source": [
    "display(graficoingresos.sum())"
   ]
  },
  {
   "cell_type": "code",
   "execution_count": 49,
   "metadata": {
    "scrolled": true
   },
   "outputs": [
    {
     "data": {
      "text/html": [
       "<div>\n",
       "<style scoped>\n",
       "    .dataframe tbody tr th:only-of-type {\n",
       "        vertical-align: middle;\n",
       "    }\n",
       "\n",
       "    .dataframe tbody tr th {\n",
       "        vertical-align: top;\n",
       "    }\n",
       "\n",
       "    .dataframe thead th {\n",
       "        text-align: right;\n",
       "    }\n",
       "</style>\n",
       "<table border=\"1\" class=\"dataframe\">\n",
       "  <thead>\n",
       "    <tr style=\"text-align: right;\">\n",
       "      <th>plan</th>\n",
       "      <th>surf</th>\n",
       "      <th>ultimate</th>\n",
       "    </tr>\n",
       "    <tr>\n",
       "      <th>month</th>\n",
       "      <th></th>\n",
       "      <th></th>\n",
       "    </tr>\n",
       "  </thead>\n",
       "  <tbody>\n",
       "    <tr>\n",
       "      <th>1</th>\n",
       "      <td>1</td>\n",
       "      <td>3</td>\n",
       "    </tr>\n",
       "    <tr>\n",
       "      <th>2</th>\n",
       "      <td>5</td>\n",
       "      <td>5</td>\n",
       "    </tr>\n",
       "    <tr>\n",
       "      <th>3</th>\n",
       "      <td>16</td>\n",
       "      <td>7</td>\n",
       "    </tr>\n",
       "    <tr>\n",
       "      <th>4</th>\n",
       "      <td>35</td>\n",
       "      <td>16</td>\n",
       "    </tr>\n",
       "    <tr>\n",
       "      <th>5</th>\n",
       "      <td>53</td>\n",
       "      <td>21</td>\n",
       "    </tr>\n",
       "    <tr>\n",
       "      <th>6</th>\n",
       "      <td>70</td>\n",
       "      <td>37</td>\n",
       "    </tr>\n",
       "    <tr>\n",
       "      <th>7</th>\n",
       "      <td>89</td>\n",
       "      <td>47</td>\n",
       "    </tr>\n",
       "    <tr>\n",
       "      <th>8</th>\n",
       "      <td>119</td>\n",
       "      <td>57</td>\n",
       "    </tr>\n",
       "    <tr>\n",
       "      <th>9</th>\n",
       "      <td>147</td>\n",
       "      <td>71</td>\n",
       "    </tr>\n",
       "    <tr>\n",
       "      <th>10</th>\n",
       "      <td>181</td>\n",
       "      <td>88</td>\n",
       "    </tr>\n",
       "    <tr>\n",
       "      <th>11</th>\n",
       "      <td>218</td>\n",
       "      <td>102</td>\n",
       "    </tr>\n",
       "    <tr>\n",
       "      <th>12</th>\n",
       "      <td>246</td>\n",
       "      <td>125</td>\n",
       "    </tr>\n",
       "  </tbody>\n",
       "</table>\n",
       "</div>"
      ],
      "text/plain": [
       "plan   surf  ultimate\n",
       "month                \n",
       "1         1         3\n",
       "2         5         5\n",
       "3        16         7\n",
       "4        35        16\n",
       "5        53        21\n",
       "6        70        37\n",
       "7        89        47\n",
       "8       119        57\n",
       "9       147        71\n",
       "10      181        88\n",
       "11      218       102\n",
       "12      246       125"
      ]
     },
     "execution_count": 49,
     "metadata": {},
     "output_type": "execute_result"
    }
   ],
   "source": [
    "usuariosxplan = ingresomensualxusuario.pivot_table(index= \"month\", columns = \"plan\" , values= \"Valortotalpagadoporusuario\",aggfunc=\"count\")\n",
    "usuariosxplan\n"
   ]
  },
  {
   "cell_type": "code",
   "execution_count": 50,
   "metadata": {},
   "outputs": [
    {
     "data": {
      "text/plain": [
       "plan\n",
       "surf        1180\n",
       "ultimate     579\n",
       "dtype: int64"
      ]
     },
     "execution_count": 50,
     "metadata": {},
     "output_type": "execute_result"
    }
   ],
   "source": [
    "usuariosxplan.sum()"
   ]
  },
  {
   "cell_type": "markdown",
   "metadata": {
    "id": "KAFidcXZ0q1P"
   },
   "source": [
    "[Elabora las conclusiones sobre cómo difiere el ingreso entre los planes.]\n",
    "\n",
    "\n",
    "El total de de ingresos por los dos planes es de 139.945,59 usd Para el año 2018. de los cuales el ingreso por el plan ultimate corresponde al 29.9 % . mientras el ingreso de surf corresponde al 70.1%.\n",
    "lo que podemos concluir es que efectivamente hay mas ingresos para el plan surf ya que hay mas usuarios registrados bajo este plan para cada uno de los meses a excepcion del mes de enero en el cual habian 3 usuarios en el plan ultimate y 1 en el plan surf. "
   ]
  },
  {
   "cell_type": "markdown",
   "metadata": {
    "id": "ajJ7VKeI0q1Q"
   },
   "source": [
    "## Prueba las hipótesis estadísticas"
   ]
  },
  {
   "cell_type": "markdown",
   "metadata": {
    "id": "AdXAZ-yL0q1Q"
   },
   "source": [
    "[Prueba la hipótesis de que son diferentes los ingresos promedio procedentes de los usuarios de los planes de llamada Ultimate y Surf.]"
   ]
  },
  {
   "cell_type": "markdown",
   "metadata": {
    "id": "IQwa_hsh0q1Q"
   },
   "source": [
    "[Elabora las hipótesis nula y alternativa, escoge la prueba estadística, determina el valor alfa.]\n",
    "\n",
    "\n",
    "H0 : LOS INGRESOS PROMEDIOS DE LOS USUARIOS QUE CORRESPONDEN A LOS PLANES ULTIMATE Y SURF SON IGUALES\n",
    "\n",
    "H1 : LOS INGRESOS PROMEDIOS DE LOS USUARIOS QUE CORRESPONDEN A LOS PLANES ULTIMATE Y SURF SON DIFERENTES"
   ]
  },
  {
   "cell_type": "code",
   "execution_count": 51,
   "metadata": {
    "id": "nFoPNlPq0q1R"
   },
   "outputs": [
    {
     "name": "stdout",
     "output_type": "stream",
     "text": [
      "valor p: 2.6009199503660712e-06\n",
      "Rechazamos la hipótesis nula\n"
     ]
    }
   ],
   "source": [
    "# Prueba las hipótesis\n",
    "df_ultimate = Tarifa[Tarifa[\"plan\"] == \"ultimate\"]\n",
    "df_surf = Tarifa[Tarifa[\"plan\"] == \"surf\"]\n",
    "df_ultimate.dropna()\n",
    "Promedio_ultimate=df_ultimate[\"Valortotalpagadoporusuario\"]\n",
    "Promedio_surf=df_surf[\"Valortotalpagadoporusuario\"]\n",
    "\n",
    "alpha = 0.05\n",
    "results = st.ttest_ind(Promedio_surf , Promedio_ultimate,equal_var=False\n",
    ")\n",
    "\n",
    "print('valor p:', results.pvalue)\n",
    "\n",
    "if results.pvalue < alpha:\n",
    "    print(\"Rechazamos la hipótesis nula\")\n",
    "else:\n",
    "    print(\"No podemos rechazar la hipótesis nula\")"
   ]
  },
  {
   "cell_type": "markdown",
   "metadata": {},
   "source": [
    "se rechaza la Hipotesis Nula ya que hay una diferencia entre los ingresos de los planes Ultimate y Surf. hay una diferencia de 2.6 veces entre los usuarios del plan surf y los usuarios de ultimate."
   ]
  },
  {
   "cell_type": "markdown",
   "metadata": {
    "id": "tCcAruM60q1R"
   },
   "source": [
    "[Prueba la hipótesis de que el ingreso promedio de los usuarios del área NY-NJ es diferente al de los usuarios de otras regiones.]"
   ]
  },
  {
   "cell_type": "markdown",
   "metadata": {
    "id": "LsBgitqj0q1R"
   },
   "source": [
    "[Elabora las hipótesis nula y alternativa, escoge la prueba estadística, determina el valor alfa.]\n",
    "\n",
    "H0 : LOS INGRESOS PROMEDIOS DE LOS USUARIOS DEL AREA NY-NJ SON IGUALES A LOS INGRESOS DEL LAS DEMAS CIUDADES\n",
    "\n",
    "H1 : LOS INGRESOS PROMEDIOS DE LOS USUARIOS DEL AREA NY-NJ SON COMPLETAMENTE DIFERENTES  A LOS INGRESOS DEL LAS DEMAS CIUDADES"
   ]
  },
  {
   "cell_type": "code",
   "execution_count": 52,
   "metadata": {
    "id": "Cqcj7wrZ0q1S"
   },
   "outputs": [
    {
     "data": {
      "text/plain": [
       "20638.44"
      ]
     },
     "execution_count": 52,
     "metadata": {},
     "output_type": "execute_result"
    }
   ],
   "source": [
    "# Prueba las hipótesis\n",
    "df_NY = Tarifa[Tarifa[\"city\"] == \"New York-Newark-Jersey City, NY-NJ-PA MSA\"]\n",
    "df_NY.dropna()\n",
    "Promedio_NY=df_NY[\"Valortotalpagadoporusuario\"]\n",
    "Promedio_NY.sum()\n"
   ]
  },
  {
   "cell_type": "code",
   "execution_count": 53,
   "metadata": {},
   "outputs": [
    {
     "data": {
      "text/plain": [
       "119307.15"
      ]
     },
     "execution_count": 53,
     "metadata": {},
     "output_type": "execute_result"
    }
   ],
   "source": [
    "list_cities = ['New York-Newark-Jersey City, NY-NJ-PA MSA']\n",
    "df_ny_nj = Tarifa[Tarifa.city.isin(list_cities)]\n",
    "df_other_cities =  Tarifa[~Tarifa.city.isin(list_cities)]\n",
    "df_other_cities\n",
    "promedio_other_cities=df_other_cities[\"Valortotalpagadoporusuario\"]\n",
    "promedio_other_cities.sum()"
   ]
  },
  {
   "cell_type": "code",
   "execution_count": 54,
   "metadata": {},
   "outputs": [
    {
     "name": "stdout",
     "output_type": "stream",
     "text": [
      "valor p: 0.07646360345265261\n",
      "No podemos rechazar la hipótesis nula\n"
     ]
    }
   ],
   "source": [
    "alpha = 0.05\n",
    "results1 = st.ttest_ind(Promedio_NY , promedio_other_cities,equal_var=False\n",
    ")\n",
    "\n",
    "print('valor p:', results1.pvalue)\n",
    "\n",
    "if results1.pvalue < alpha:\n",
    "    print(\"Rechazamos la hipótesis nula\")\n",
    "else:\n",
    "    print(\"No podemos rechazar la hipótesis nula\")"
   ]
  },
  {
   "cell_type": "markdown",
   "metadata": {},
   "source": [
    "no se puede aceptar la Hipotesis ya que la suma de ingresos para NY-NJ es de 119.307 usd lo que corresponde al 17.3% del total de los ingresos. mientras que el 82.7 % de los ingresos corresponden a la suma de las demas ciudades,"
   ]
  },
  {
   "cell_type": "markdown",
   "metadata": {
    "id": "bbTR8UQO0q1T"
   },
   "source": [
    "## Conclusión general\n",
    "\n",
    "[En esta sección final, enumera tus conclusiones importantes. Asegúrate de que estas abarquen todas las decisiones (suposiciones) importantes que adoptaste y que determinaron la forma elegida para procesar y analizar los datos.]\n",
    "\n",
    "sobre el operador de telecomunicaciones Megaline podremo concluir que hay una Mayor proporcion de usuarios que escogieron el plan surf. en total 1180 usuarios tubieron este plan durante el año 2018. mientras que 579 usuarios tenian el plan ultimate.\n",
    "\n",
    "una de las ventajas de este plan es por su  costo mensual ya que es de solo 20 Usd mensual. incluye la cantidad de minutos (500 Minutos) . la cantidad suficiente ya que vemos que los usuarios no superan 500 minutos al mes en llamadas.\n",
    "\n",
    "por otro lado observamos que los usuarios donde mayor consumo adicional tienen es en gb Adicionales. lo cual genera un ingreso bastante interesante para Megaline. por ejemplo para el plan Surf a lo Largo del año 2018 Hubieron 4.482 GB adcionales que se facturaron y para el plan ultimate  184 gb.\n",
    "\n",
    "se evidencia que en el mes 12 para el plan surf fue donde mas mensajes de texto se enviaron con un total de 11731 mensajes de texto. de ese total 3.198 mensajes de texto fueron cobrados como adicional al plan. lo cual es algo inesperado ya que los mensajes de texto hoy en dia no son tan usados. para mensajes de texto podemos observar el df adicionalesmsn el cual nos muestra los adicionales por Año. observamos que para el plan ultimate no hubo consumo adicional.\n",
    "\n",
    "podemos observar muchas diferencias en los ingresos por plan. primero porque el cobro tarifa de cada plan es muy diferente . por otro lado la cantidad de usuarios es muy dispareja. y los usuarios del plan surf no les alcanza las gb del plan , por eso buscan consumir mas gb."
   ]
  },
  {
   "cell_type": "code",
   "execution_count": 55,
   "metadata": {},
   "outputs": [
    {
     "data": {
      "text/plain": [
       "plan\n",
       "surf        4482.0\n",
       "ultimate     184.0\n",
       "dtype: float64"
      ]
     },
     "execution_count": 55,
     "metadata": {},
     "output_type": "execute_result"
    }
   ],
   "source": [
    "adicional_internet.sum()"
   ]
  },
  {
   "cell_type": "code",
   "execution_count": 56,
   "metadata": {},
   "outputs": [
    {
     "data": {
      "text/plain": [
       "plan      month\n",
       "surf      1           0\n",
       "          2           8\n",
       "          3          13\n",
       "          4          87\n",
       "          5         321\n",
       "          6         400\n",
       "          7         489\n",
       "          8         882\n",
       "          9        1083\n",
       "          10       1806\n",
       "          11       1834\n",
       "          12       3198\n",
       "ultimate  1           0\n",
       "          2           0\n",
       "          3           0\n",
       "          4           0\n",
       "          5           0\n",
       "          6           0\n",
       "          7           0\n",
       "          8           0\n",
       "          9           0\n",
       "          10          0\n",
       "          11          0\n",
       "          12          0\n",
       "Name: diferenciaenmsm, dtype: int64"
      ]
     },
     "execution_count": 56,
     "metadata": {},
     "output_type": "execute_result"
    }
   ],
   "source": [
    "adicionalesmsn=Tarifa.groupby([\"plan\",\"month\"])[\"diferenciaenmsm\"].sum()\n",
    "adicionalesmsn"
   ]
  },
  {
   "cell_type": "markdown",
   "metadata": {},
   "source": [
    "<div class=\"alert alert-block alert-success\">\n",
    "<b>Comentario del revisor</b> <a class=\"tocSkip\"></a>   \n",
    "<h1>Comentario General    </h1>\n",
    "Te felicito por la culminación del proyecto.</div>"
   ]
  },
  {
   "cell_type": "code",
   "execution_count": null,
   "metadata": {},
   "outputs": [],
   "source": []
  }
 ],
 "metadata": {
  "ExecuteTimeLog": [
   {
    "duration": 828,
    "start_time": "2021-11-16T09:21:11.304Z"
   },
   {
    "duration": 893,
    "start_time": "2021-11-16T09:21:17.728Z"
   },
   {
    "duration": 1150,
    "start_time": "2021-11-16T09:21:29.568Z"
   },
   {
    "duration": 3,
    "start_time": "2021-11-16T09:24:14.495Z"
   },
   {
    "duration": 120,
    "start_time": "2021-11-16T09:24:46.630Z"
   },
   {
    "duration": 3,
    "start_time": "2021-11-16T09:28:27.882Z"
   },
   {
    "duration": 4,
    "start_time": "2021-11-16T09:29:54.281Z"
   },
   {
    "duration": 3,
    "start_time": "2021-11-16T09:30:45.936Z"
   },
   {
    "duration": 4,
    "start_time": "2021-11-16T09:31:06.300Z"
   },
   {
    "duration": 113,
    "start_time": "2021-11-16T09:31:37.208Z"
   },
   {
    "duration": 143,
    "start_time": "2021-11-16T09:31:48.656Z"
   },
   {
    "duration": 98,
    "start_time": "2021-11-16T09:31:55.678Z"
   },
   {
    "duration": 3,
    "start_time": "2021-11-16T09:32:08.535Z"
   },
   {
    "duration": 111,
    "start_time": "2021-11-16T09:32:10.120Z"
   },
   {
    "duration": 3,
    "start_time": "2021-11-16T09:32:15.732Z"
   },
   {
    "duration": 4,
    "start_time": "2021-11-16T09:32:29.423Z"
   },
   {
    "duration": 3,
    "start_time": "2021-11-16T10:03:03.074Z"
   },
   {
    "duration": 3,
    "start_time": "2021-11-16T10:10:01.288Z"
   },
   {
    "duration": 3,
    "start_time": "2021-11-16T10:10:46.923Z"
   },
   {
    "duration": 121,
    "start_time": "2021-11-16T10:37:46.494Z"
   },
   {
    "duration": 125,
    "start_time": "2021-11-16T10:38:20.632Z"
   },
   {
    "duration": 112,
    "start_time": "2021-11-16T10:46:53.001Z"
   },
   {
    "duration": 110,
    "start_time": "2021-11-16T10:48:25.775Z"
   },
   {
    "duration": 3,
    "start_time": "2021-11-16T10:50:18.720Z"
   },
   {
    "duration": 4,
    "start_time": "2021-11-16T10:50:37.649Z"
   },
   {
    "duration": 2,
    "start_time": "2021-11-16T10:50:51.884Z"
   },
   {
    "duration": 3,
    "start_time": "2021-11-16T10:51:56.237Z"
   },
   {
    "duration": 101,
    "start_time": "2021-11-16T10:53:13.791Z"
   },
   {
    "duration": 3,
    "start_time": "2021-11-16T10:55:59.186Z"
   },
   {
    "duration": 3,
    "start_time": "2021-11-16T10:56:10.751Z"
   },
   {
    "duration": 3,
    "start_time": "2021-11-16T10:56:49.038Z"
   },
   {
    "duration": 3,
    "start_time": "2021-11-16T10:56:49.174Z"
   },
   {
    "duration": 4,
    "start_time": "2021-11-16T10:56:49.414Z"
   },
   {
    "duration": 3,
    "start_time": "2021-11-16T10:56:49.680Z"
   },
   {
    "duration": 3,
    "start_time": "2021-11-16T10:56:50.370Z"
   },
   {
    "duration": 114,
    "start_time": "2021-11-16T10:59:34.518Z"
   },
   {
    "duration": 3,
    "start_time": "2021-11-16T11:01:41.201Z"
   },
   {
    "duration": 116,
    "start_time": "2021-11-16T11:01:48.754Z"
   },
   {
    "duration": 3,
    "start_time": "2021-11-16T11:02:16.685Z"
   },
   {
    "duration": 3,
    "start_time": "2021-11-16T11:02:19.479Z"
   },
   {
    "duration": 3,
    "start_time": "2021-11-16T11:02:47.067Z"
   },
   {
    "duration": 3,
    "start_time": "2021-11-16T11:02:49.353Z"
   },
   {
    "duration": 3,
    "start_time": "2021-11-16T11:03:07.835Z"
   },
   {
    "duration": 3,
    "start_time": "2021-11-16T11:03:07.953Z"
   },
   {
    "duration": 112,
    "start_time": "2021-11-16T11:07:52.072Z"
   },
   {
    "duration": 187,
    "start_time": "2021-11-16T11:09:23.468Z"
   },
   {
    "duration": 4,
    "start_time": "2021-11-16T11:10:01.455Z"
   },
   {
    "duration": 3,
    "start_time": "2021-11-16T11:10:05.069Z"
   },
   {
    "duration": 4,
    "start_time": "2021-11-16T11:10:13.376Z"
   },
   {
    "duration": 3,
    "start_time": "2021-11-16T11:10:14.434Z"
   },
   {
    "duration": 3,
    "start_time": "2021-11-16T11:10:22.853Z"
   },
   {
    "duration": 4,
    "start_time": "2021-11-16T11:27:29.279Z"
   },
   {
    "duration": 4,
    "start_time": "2021-11-16T11:29:08.919Z"
   },
   {
    "duration": 118,
    "start_time": "2021-11-16T11:29:46.703Z"
   },
   {
    "duration": 437,
    "start_time": "2021-11-16T11:36:02.181Z"
   },
   {
    "duration": 157,
    "start_time": "2021-11-16T11:36:14.388Z"
   },
   {
    "duration": 207,
    "start_time": "2021-11-16T11:47:15.898Z"
   },
   {
    "duration": 3,
    "start_time": "2021-11-16T11:53:52.092Z"
   },
   {
    "duration": 3,
    "start_time": "2021-11-16T11:53:52.236Z"
   },
   {
    "duration": 3,
    "start_time": "2021-11-16T11:59:12.005Z"
   },
   {
    "duration": 112,
    "start_time": "2021-11-16T12:00:33.446Z"
   },
   {
    "duration": 3,
    "start_time": "2021-11-16T12:02:14.453Z"
   },
   {
    "duration": 3,
    "start_time": "2021-11-16T12:02:39.512Z"
   },
   {
    "duration": 106,
    "start_time": "2021-11-16T12:03:03.460Z"
   },
   {
    "duration": 3,
    "start_time": "2021-11-17T20:37:21.139Z"
   },
   {
    "duration": 3,
    "start_time": "2021-11-17T20:37:22.229Z"
   },
   {
    "duration": 3,
    "start_time": "2021-11-17T20:38:38.806Z"
   },
   {
    "duration": 3,
    "start_time": "2021-11-17T20:38:41.958Z"
   },
   {
    "duration": 3,
    "start_time": "2021-11-17T20:43:46.551Z"
   },
   {
    "duration": 4,
    "start_time": "2021-11-17T20:58:21.835Z"
   },
   {
    "duration": 3,
    "start_time": "2021-11-17T20:59:21.872Z"
   },
   {
    "duration": 4,
    "start_time": "2021-11-17T20:59:45.352Z"
   },
   {
    "duration": 4,
    "start_time": "2021-11-17T20:59:49.646Z"
   },
   {
    "duration": 159,
    "start_time": "2021-11-17T21:02:26.949Z"
   },
   {
    "duration": 3,
    "start_time": "2021-11-17T21:03:53.461Z"
   },
   {
    "duration": 3,
    "start_time": "2021-11-17T21:03:53.694Z"
   },
   {
    "duration": 3,
    "start_time": "2021-11-17T21:05:28.145Z"
   },
   {
    "duration": 116,
    "start_time": "2021-11-17T21:05:57.787Z"
   },
   {
    "duration": 3,
    "start_time": "2021-11-17T21:06:37.993Z"
   },
   {
    "duration": 3,
    "start_time": "2021-11-17T21:06:38.261Z"
   },
   {
    "duration": 3,
    "start_time": "2021-11-17T21:11:54.358Z"
   },
   {
    "duration": 3,
    "start_time": "2021-11-17T21:12:43.846Z"
   },
   {
    "duration": 4,
    "start_time": "2021-11-17T21:13:08.773Z"
   },
   {
    "duration": 3,
    "start_time": "2021-11-17T21:14:44.441Z"
   },
   {
    "duration": 3,
    "start_time": "2021-11-17T21:15:42.059Z"
   },
   {
    "duration": 4,
    "start_time": "2021-11-17T21:15:51.995Z"
   },
   {
    "duration": 3,
    "start_time": "2021-11-17T21:15:53.923Z"
   },
   {
    "duration": 3,
    "start_time": "2021-11-17T21:15:55.282Z"
   },
   {
    "duration": 3,
    "start_time": "2021-11-17T21:16:28.492Z"
   },
   {
    "duration": 3,
    "start_time": "2021-11-17T21:16:32.603Z"
   },
   {
    "duration": 3,
    "start_time": "2021-11-17T21:17:06.941Z"
   },
   {
    "duration": 98,
    "start_time": "2021-11-17T21:18:05.733Z"
   },
   {
    "duration": 4,
    "start_time": "2021-11-17T21:21:35.255Z"
   },
   {
    "duration": 3,
    "start_time": "2021-11-17T21:21:37.804Z"
   },
   {
    "duration": 4,
    "start_time": "2021-11-17T21:23:06.071Z"
   },
   {
    "duration": 3,
    "start_time": "2021-11-17T21:23:24.799Z"
   },
   {
    "duration": 3,
    "start_time": "2021-11-17T21:23:32.591Z"
   },
   {
    "duration": 98,
    "start_time": "2021-11-17T21:28:31.559Z"
   },
   {
    "duration": 3,
    "start_time": "2021-11-17T21:28:45.448Z"
   },
   {
    "duration": 3,
    "start_time": "2021-11-17T21:29:17.303Z"
   },
   {
    "duration": 3,
    "start_time": "2021-11-17T21:29:29.617Z"
   },
   {
    "duration": 3,
    "start_time": "2021-11-17T21:29:32.681Z"
   },
   {
    "duration": 3,
    "start_time": "2021-11-17T21:36:11.474Z"
   },
   {
    "duration": 3,
    "start_time": "2021-11-17T21:36:14.791Z"
   },
   {
    "duration": 3,
    "start_time": "2021-11-17T21:36:53.943Z"
   },
   {
    "duration": 3,
    "start_time": "2021-11-17T21:36:56.165Z"
   },
   {
    "duration": 4,
    "start_time": "2021-11-17T21:37:16.590Z"
   },
   {
    "duration": 3,
    "start_time": "2021-11-17T21:37:22.702Z"
   },
   {
    "duration": 4,
    "start_time": "2021-11-17T21:38:03.479Z"
   },
   {
    "duration": 3,
    "start_time": "2021-11-17T21:38:08.601Z"
   },
   {
    "duration": 3,
    "start_time": "2021-11-17T21:38:12.928Z"
   },
   {
    "duration": 3,
    "start_time": "2021-11-17T21:38:48.896Z"
   },
   {
    "duration": 2,
    "start_time": "2021-11-17T21:38:49.171Z"
   },
   {
    "duration": 4,
    "start_time": "2021-11-17T21:39:57.889Z"
   },
   {
    "duration": 3,
    "start_time": "2021-11-17T21:39:58.057Z"
   },
   {
    "duration": 3,
    "start_time": "2021-11-17T21:41:20.108Z"
   },
   {
    "duration": 3,
    "start_time": "2021-11-17T21:41:20.629Z"
   },
   {
    "duration": 3,
    "start_time": "2021-11-17T21:42:49.136Z"
   },
   {
    "duration": 3,
    "start_time": "2021-11-17T21:43:15.137Z"
   },
   {
    "duration": 4,
    "start_time": "2021-11-17T21:43:16.766Z"
   },
   {
    "duration": 4,
    "start_time": "2021-11-17T21:43:31.711Z"
   },
   {
    "duration": 3,
    "start_time": "2021-11-17T21:43:36.312Z"
   },
   {
    "duration": 4,
    "start_time": "2021-11-17T21:45:08.825Z"
   },
   {
    "duration": 4,
    "start_time": "2021-11-17T21:45:10.119Z"
   },
   {
    "duration": 4,
    "start_time": "2021-11-17T21:45:13.748Z"
   },
   {
    "duration": 3,
    "start_time": "2021-11-17T21:45:22.219Z"
   },
   {
    "duration": 3,
    "start_time": "2021-11-17T21:45:33.412Z"
   },
   {
    "duration": 2,
    "start_time": "2021-11-17T21:46:01.885Z"
   },
   {
    "duration": 3,
    "start_time": "2021-11-17T21:46:03.628Z"
   },
   {
    "duration": 107,
    "start_time": "2021-11-17T21:47:32.512Z"
   },
   {
    "duration": 103,
    "start_time": "2021-11-17T21:50:36.243Z"
   },
   {
    "duration": 3,
    "start_time": "2021-11-18T06:28:31.440Z"
   },
   {
    "duration": 3,
    "start_time": "2021-11-18T06:29:00.168Z"
   },
   {
    "duration": 3,
    "start_time": "2021-11-18T06:31:27.008Z"
   },
   {
    "duration": 2,
    "start_time": "2021-11-18T06:35:34.288Z"
   },
   {
    "duration": 2,
    "start_time": "2021-11-18T06:38:04.527Z"
   }
  ],
  "colab": {
   "provenance": []
  },
  "kernelspec": {
   "display_name": "Python 3 (ipykernel)",
   "language": "python",
   "name": "python3"
  },
  "language_info": {
   "codemirror_mode": {
    "name": "ipython",
    "version": 3
   },
   "file_extension": ".py",
   "mimetype": "text/x-python",
   "name": "python",
   "nbconvert_exporter": "python",
   "pygments_lexer": "ipython3",
   "version": "3.9.5"
  },
  "toc": {
   "base_numbering": 1,
   "nav_menu": {},
   "number_sections": true,
   "sideBar": true,
   "skip_h1_title": false,
   "title_cell": "Table of Contents",
   "title_sidebar": "Contents",
   "toc_cell": false,
   "toc_position": {
    "height": "calc(100% - 180px)",
    "left": "10px",
    "top": "150px",
    "width": "268.438px"
   },
   "toc_section_display": true,
   "toc_window_display": true
  }
 },
 "nbformat": 4,
 "nbformat_minor": 1
}
